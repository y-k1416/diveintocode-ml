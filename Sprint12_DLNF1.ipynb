{
 "cells": [
  {
   "cell_type": "code",
   "execution_count": 77,
   "metadata": {},
   "outputs": [],
   "source": [
    "import numpy as np\n",
    "import pandas as pd\n",
    "import tensorflow as tf"
   ]
  },
  {
   "cell_type": "markdown",
   "metadata": {},
   "source": [
    "# 【問題1】スクラッチを振り返る\n",
    "ここまでのスクラッチを振り返り、ディープラーニングを実装するためにはどのようなものが必要だったかを列挙してください。"
   ]
  },
  {
   "cell_type": "markdown",
   "metadata": {},
   "source": [
    ">- パラメータの更新\n",
    "- 隠れ層の定義\n",
    "- 損失関数の選択\n",
    "- 活性化関数の選択\n"
   ]
  },
  {
   "cell_type": "markdown",
   "metadata": {},
   "source": [
    "# 【問題2】スクラッチとTensorFlowの対応を考える\n",
    "以下のサンプルコードを見て、先ほど列挙した「ディープラーニングを実装するために必要なもの」がTensorFlowではどう実装されているかを確認してください。\n",
    "\n",
    "\n",
    "それを簡単に言葉でまとめてください。単純な一対一の対応であるとは限りません。"
   ]
  },
  {
   "cell_type": "markdown",
   "metadata": {},
   "source": [
    "## まとめ\n",
    "tensorでは計算式の関数を使うことで、スクラッチのように計算を関数化しなくても利用できる.\n",
    "そのほか、NN用の活性化関数を呼び出せる。最終的な実行方法もSessionを利用しないといけない点も大きなちがい。"
   ]
  },
  {
   "cell_type": "markdown",
   "metadata": {},
   "source": [
    "# 【問題3】3種類全ての目的変数を使用したIrisのモデルを作成\n",
    "Irisデータセットのtrain.csvの中で、目的変数Speciesに含まれる3種類全てを分類できるモデルを作成してください。\n",
    "\n",
    "\n",
    "Iris Species\n",
    "\n",
    "\n",
    "2クラスの分類と3クラス以上の分類の違いを考慮してください。それがTensorFlowでどのように書き換えられるかを公式ドキュメントなどを参考に調べてください。"
   ]
  },
  {
   "cell_type": "markdown",
   "metadata": {},
   "source": [
    "### データセットの用意 \n",
    "以前から使用しているIrisデータセットを使用します。以下のサンプルコードではIris.csvが同じ階層にある想定です。"
   ]
  },
  {
   "cell_type": "code",
   "execution_count": 157,
   "metadata": {},
   "outputs": [
    {
     "name": "stdout",
     "output_type": "stream",
     "text": [
      "(96, 3)\n"
     ]
    }
   ],
   "source": [
    "\"\"\"\n",
    "TensorFlowで実装したニューラルネットワークを使いIrisデータセットを分類する\n",
    "\"\"\"\n",
    "import numpy as np\n",
    "import pandas as pd\n",
    "from sklearn.preprocessing import OneHotEncoder\n",
    "from sklearn.model_selection import train_test_split\n",
    "import tensorflow as tf\n",
    "\n",
    "# データセットの読み込み\n",
    "dataset_path =\"Iris.csv\"\n",
    "df = pd.read_csv(dataset_path)\n",
    "# データフレームから条件抽出\n",
    "y = df[\"Species\"]\n",
    "X = df.loc[:, [\"SepalLengthCm\", \"SepalWidthCm\", \"PetalLengthCm\", \"PetalWidthCm\"]]\n",
    "y = np.array(y)\n",
    "X = np.array(X)\n",
    "# ラベルをOne-Hot数値に変換\n",
    "y[y=='Iris-setosa'] = 0\n",
    "y[y=='Iris-versicolor'] = 1\n",
    "\n",
    "y = y.astype(np.int)[:, np.newaxis]\n",
    "\n",
    "\n",
    "#y = y.astype(np.int)[:, np.newaxis]\n",
    "# trainとtestに分割\n",
    "X_train, X_test, y_train, y_test = train_test_split(X, y, test_size=0.2, random_state=0)\n",
    "# さらにtrainとvalに分割\n",
    "X_train, X_val, y_train, y_val = train_test_split(X_train, y_train, test_size=0.2, random_state=0)\n",
    "print(y_train.shape)"
   ]
  },
  {
   "cell_type": "code",
   "execution_count": 158,
   "metadata": {},
   "outputs": [],
   "source": [
    "class GetMiniBatch:\n",
    "    \"\"\"\n",
    "    ミニバッチを取得するイテレータ\n",
    "\n",
    "    Parameters\n",
    "    ----------\n",
    "    X : 次の形のndarray, shape (n_samples, n_features)\n",
    "      訓練データ\n",
    "    y : 次の形のndarray, shape (n_samples, 1)\n",
    "      正解値\n",
    "    batch_size : int\n",
    "      バッチサイズ\n",
    "    seed : int\n",
    "      NumPyの乱数のシード\n",
    "    \"\"\"\n",
    "    def __init__(self, X, y, batch_size = 10, seed=0):\n",
    "        self.batch_size = batch_size\n",
    "        np.random.seed(seed)\n",
    "        shuffle_index = np.random.permutation(np.arange(X.shape[0]))\n",
    "        self.X = X[shuffle_index]\n",
    "        self.y = y[shuffle_index]\n",
    "        self._stop = np.ceil(X.shape[0]/self.batch_size).astype(np.int)\n",
    "    def __len__(self):\n",
    "        return self._stop\n",
    "    def __getitem__(self,item):\n",
    "        p0 = item*self.batch_size\n",
    "        p1 = item*self.batch_size + self.batch_size\n",
    "        return self.X[p0:p1], self.y[p0:p1]        \n",
    "    def __iter__(self):\n",
    "        self._counter = 0\n",
    "        return self\n",
    "    def __next__(self):\n",
    "        if self._counter >= self._stop:\n",
    "            raise StopIteration()\n",
    "        p0 = self._counter*self.batch_size\n",
    "        p1 = self._counter*self.batch_size + self.batch_size\n",
    "        self._counter += 1\n",
    "        return self.X[p0:p1], self.y[p0:p1]"
   ]
  },
  {
   "cell_type": "code",
   "execution_count": 159,
   "metadata": {},
   "outputs": [],
   "source": [
    "# ハイパーパラメータの設定\n",
    "learning_rate = 0.001\n",
    "batch_size = 20\n",
    "num_epochs = 200\n",
    "n_hidden1 = 50\n",
    "n_hidden2 = 50\n",
    "n_input = X_train.shape[1]\n",
    "n_samples = X_train.shape[0]\n",
    "n_classes = 3"
   ]
  },
  {
   "cell_type": "code",
   "execution_count": 160,
   "metadata": {},
   "outputs": [],
   "source": [
    "X  = tf.placeholder('float',[None, 4])\n",
    "Y = tf.placeholder('float', [None, 3])\n",
    "#Y = tf.placeholder('int', [None])\n",
    "\n",
    "# trainのミニバッチイテレータ\n",
    "get_mini_batch_train = GetMiniBatch(X_train, y_train, batch_size=batch_size)\n",
    "\n",
    "def iris_net(x):\n",
    "    #重みとバイアスの宣言\n",
    "    weights = {\n",
    "        'w1': tf.Variable(tf.random_normal([n_input, n_hidden1])),\n",
    "        'w2': tf.Variable(tf.random_normal([n_hidden1, n_hidden2])),\n",
    "        'w3': tf.Variable(tf.random_normal([n_hidden2, n_classes])),\n",
    "    }\n",
    "    baias = {\n",
    "        'b1' : tf.Variable(tf.random_normal([n_hidden1])),\n",
    "        'b2' : tf.Variable(tf.random_normal([n_hidden2])),\n",
    "        'b3' : tf.Variable(tf.random_normal([n_classes]))\n",
    "    }\n",
    "    layer_1 = tf.add(tf.matmul(x, weights['w1']), baias['b1'])\n",
    "    layer_1 = tf.nn.relu(layer_1)\n",
    "    layer_2 = tf.add(tf.matmul(layer_1, weights['w2']), baias['b2'])\n",
    "    layer_2 = tf.nn.relu(layer_2)\n",
    "    layer_output = tf.matmul(layer_2, weights['w3']) +  baias['b3']\n",
    "    return layer_output\n",
    "\n",
    "# ネットワーク読み込み\n",
    "logits = iris_net(X)\n",
    "#目的関数\n",
    "loss_op = tf.reduce_mean(tf.nn.softmax_cross_entropy_with_logits_v2(labels=Y, logits=logits))\n",
    "#loss_op = tf.reduce_mean(tf.nn.sparse_softmax_cross_entropy_with_logit(labels=Y, logits=logits))\n",
    "#最適化\n",
    "optimizer = tf.train.AdamOptimizer(learning_rate=learning_rate)\n",
    "train_op = optimizer.minimize(loss_op)\n",
    "#推定結果(多値分類用：予測値の各行で最大となるインデックスを一つ返す)\n",
    "correct_pred = tf.equal(tf.argmax(Y, 1), tf.argmax(logits, 1))\n",
    "#指標計算\n",
    "accuracy = tf.reduce_mean(tf.cast(correct_pred, tf.float32))\n",
    "init = tf.global_variables_initializer()"
   ]
  },
  {
   "cell_type": "code",
   "execution_count": 161,
   "metadata": {},
   "outputs": [
    {
     "name": "stdout",
     "output_type": "stream",
     "text": [
      "Epoch 0, loss : 553.3831, val_loss : 622.1496, acc : 0.375, val_acc : 0.333\n",
      "Epoch 10, loss : 126.8872, val_loss : 124.8944, acc : 0.375, val_acc : 0.375\n",
      "Epoch 20, loss : 1.0683, val_loss : 5.0069, acc : 0.812, val_acc : 0.583\n",
      "Epoch 30, loss : 0.1220, val_loss : 1.3196, acc : 0.938, val_acc : 0.792\n",
      "Epoch 40, loss : 0.2317, val_loss : 1.3207, acc : 0.938, val_acc : 0.875\n",
      "Epoch 50, loss : 0.2390, val_loss : 1.2995, acc : 0.938, val_acc : 0.875\n",
      "Epoch 60, loss : 0.2375, val_loss : 1.2574, acc : 0.938, val_acc : 0.875\n",
      "Epoch 70, loss : 0.2214, val_loss : 1.1645, acc : 0.938, val_acc : 0.875\n",
      "Epoch 80, loss : 0.1936, val_loss : 1.0953, acc : 0.938, val_acc : 0.875\n",
      "Epoch 90, loss : 0.1504, val_loss : 1.0351, acc : 0.938, val_acc : 0.917\n",
      "Epoch 100, loss : 0.1079, val_loss : 0.9784, acc : 0.938, val_acc : 0.917\n",
      "Epoch 110, loss : 0.0727, val_loss : 0.9255, acc : 0.938, val_acc : 0.917\n",
      "Epoch 120, loss : 0.0471, val_loss : 0.8805, acc : 0.938, val_acc : 0.917\n",
      "Epoch 130, loss : 0.0310, val_loss : 0.8456, acc : 1.000, val_acc : 0.917\n",
      "Epoch 140, loss : 0.0215, val_loss : 0.8161, acc : 1.000, val_acc : 0.917\n",
      "Epoch 150, loss : 0.0157, val_loss : 0.7941, acc : 1.000, val_acc : 0.917\n",
      "Epoch 160, loss : 0.0120, val_loss : 0.7758, acc : 1.000, val_acc : 0.917\n",
      "Epoch 170, loss : 0.0094, val_loss : 0.7605, acc : 1.000, val_acc : 0.917\n",
      "Epoch 180, loss : 0.0075, val_loss : 0.7455, acc : 1.000, val_acc : 0.917\n",
      "Epoch 190, loss : 0.0059, val_loss : 0.7300, acc : 1.000, val_acc : 0.917\n",
      "test_acc : 0.933\n"
     ]
    }
   ],
   "source": [
    "with tf.Session() as sess:\n",
    "    sess.run(init)\n",
    "    for epoch in range(num_epochs):\n",
    "        # エポックごとにループ\n",
    "        total_batch = np.ceil(X_train.shape[0]/batch_size).astype(np.int)\n",
    "        total_loss = 0\n",
    "        total_acc = 0\n",
    "        for i, (mini_batch_x, mini_batch_y) in enumerate(get_mini_batch_train):\n",
    "            # ミニバッチごとにループ\n",
    "            sess.run(train_op, feed_dict={X: mini_batch_x, Y: mini_batch_y})\n",
    "            loss, acc = sess.run([loss_op, accuracy], feed_dict={X: mini_batch_x, Y: mini_batch_y})\n",
    "            total_loss += loss\n",
    "            total_acc += acc\n",
    "        total_loss /= n_samples\n",
    "        total_acc /= n_samples\n",
    "        if  epoch % 10 == 0:\n",
    "            val_loss, val_acc = sess.run([loss_op, accuracy], feed_dict={X: X_val, Y: y_val})\n",
    "            print(\"Epoch {}, loss : {:.4f}, val_loss : {:.4f}, acc : {:.3f}, val_acc : {:.3f}\".format(epoch, loss, val_loss, acc, val_acc))\n",
    "    test_acc = sess.run(accuracy, feed_dict={X: X_test, Y: y_test})\n",
    "    print(\"test_acc : {:.3f}\".format(test_acc))"
   ]
  },
  {
   "cell_type": "markdown",
   "metadata": {},
   "source": [
    "# 【問題4】House Pricesのモデルを作成\n",
    "回帰問題のデータセットであるHouse Pricesを使用したモデルを作成してください。\n",
    "\n",
    "\n",
    "House Prices: Advanced Regression Techniques\n",
    "\n",
    "\n",
    "この中のtrain.csvをダウンロードし、目的変数としてSalePrice、説明変数として、GrLivAreaとYearBuiltを使ってください。説明変数はさらに増やしても構いません。\n",
    "\n",
    "\n",
    "分類問題と回帰問題の違いを考慮してください。\n",
    "\n"
   ]
  },
  {
   "cell_type": "code",
   "execution_count": 170,
   "metadata": {},
   "outputs": [],
   "source": [
    "df = pd.read_csv('train.csv')"
   ]
  },
  {
   "cell_type": "markdown",
   "metadata": {},
   "source": [
    "### データの準備"
   ]
  },
  {
   "cell_type": "code",
   "execution_count": 171,
   "metadata": {},
   "outputs": [],
   "source": [
    "X = df.loc[:, ['GrLivArea', 'YearBuilt']]\n",
    "y = df['SalePrice']\n",
    "X = np.array(X).astype(np.float64)\n",
    "y = np.array(y).astype(np.float64)\n",
    "# 値大きいので対数変換\n",
    "y = np.log(y)\n",
    "y = y.reshape(-1, 1)\n",
    "# 標準化\n",
    "from sklearn.preprocessing import StandardScaler\n",
    "sc = StandardScaler()\n",
    "X  = sc.fit_transform(X)"
   ]
  },
  {
   "cell_type": "code",
   "execution_count": 172,
   "metadata": {},
   "outputs": [],
   "source": [
    "# trainとtestに分割\n",
    "X_train, X_test, y_train, y_test = train_test_split(X, y, test_size=0.2, random_state=0)\n",
    "# さらにtrainとvalに分割\n",
    "X_train, X_val, y_train, y_val = train_test_split(X_train, y_train, test_size=0.2, random_state=0)"
   ]
  },
  {
   "cell_type": "code",
   "execution_count": 179,
   "metadata": {},
   "outputs": [],
   "source": [
    "# ハイパーパラメータの設定\n",
    "learning_rate = 0.0001\n",
    "batch_size = 20\n",
    "num_epochs = 200\n",
    "n_hidden1 = 50\n",
    "n_hidden2 = 100\n",
    "n_out = 1\n",
    "# 特徴量の数\n",
    "n_input = X_train.shape[1]\n",
    "n_samples = X_train.shape[0]"
   ]
  },
  {
   "cell_type": "code",
   "execution_count": 180,
   "metadata": {},
   "outputs": [],
   "source": [
    "X  = tf.placeholder(tf.float32, [None, n_input])\n",
    "Y = tf.placeholder(tf.float32, [None, 1])\n",
    "\n",
    "# trainのミニバッチイテレータ\n",
    "get_mini_batch_train = GetMiniBatch(X_train, y_train, batch_size=batch_size)\n",
    "\n",
    "def houseprice_net(x):\n",
    "    #重みとバイアスの宣言\n",
    "    weights = {\n",
    "        'w1': tf.Variable(tf.random_normal([n_input, n_hidden1])),\n",
    "        'w2': tf.Variable(tf.random_normal([n_hidden1, n_hidden2])),\n",
    "        'w3': tf.Variable(tf.random_normal([n_hidden2, n_out])),\n",
    "    }\n",
    "    baias = {\n",
    "        'b1' : tf.Variable(tf.random_normal([n_hidden1])),\n",
    "        'b2' : tf.Variable(tf.random_normal([n_hidden2])),\n",
    "        'b3' : tf.Variable(tf.random_normal([n_out]))\n",
    "    }\n",
    "    layer_1 = tf.add(tf.matmul(x, weights['w1']), baias['b1'])\n",
    "    layer_1 = tf.nn.relu(layer_1)\n",
    "    layer_2 = tf.add(tf.matmul(layer_1, weights['w2']), baias['b2'])\n",
    "    layer_2 = tf.nn.relu(layer_2)\n",
    "    layer_output = tf.matmul(layer_2, weights['w3']) +  baias['b3']\n",
    "    return layer_output\n",
    "\n",
    "# ネットワーク読み込み\n",
    "logits = houseprice_net(X)\n",
    "#目的関数\n",
    "loss_op = tf.losses.mean_squared_error(labels = Y, predictions = logits)\n",
    "# 最適化\n",
    "train_op = tf.train.GradientDescentOptimizer(learning_rate=learning_rate).minimize(loss_op)\n",
    "\n",
    "correct_pred = logits\n",
    "#指標計算\n",
    "MSE = tf.reduce_mean(tf.square(Y - logits))\n",
    "\n",
    "# Initializing\n",
    "init = tf.initialize_all_variables()"
   ]
  },
  {
   "cell_type": "code",
   "execution_count": 181,
   "metadata": {},
   "outputs": [
    {
     "name": "stdout",
     "output_type": "stream",
     "text": [
      "Epoch 0, loss : 21.8362, val_loss : 26.0562, mse : 21.836, val_mse : 26.056\n",
      "Epoch 10, loss : 2.2396, val_loss : 4.7773, mse : 2.240, val_mse : 4.777\n",
      "Epoch 20, loss : 0.7010, val_loss : 2.5603, mse : 0.701, val_mse : 2.560\n",
      "Epoch 30, loss : 0.3732, val_loss : 1.7530, mse : 0.373, val_mse : 1.753\n",
      "Epoch 40, loss : 0.2385, val_loss : 1.4002, mse : 0.238, val_mse : 1.400\n",
      "Epoch 50, loss : 0.1751, val_loss : 1.1980, mse : 0.175, val_mse : 1.198\n",
      "Epoch 60, loss : 0.1374, val_loss : 1.0690, mse : 0.137, val_mse : 1.069\n",
      "Epoch 70, loss : 0.1158, val_loss : 0.9809, mse : 0.116, val_mse : 0.981\n",
      "Epoch 80, loss : 0.1036, val_loss : 0.9096, mse : 0.104, val_mse : 0.910\n",
      "Epoch 90, loss : 0.0929, val_loss : 0.8503, mse : 0.093, val_mse : 0.850\n",
      "Epoch 100, loss : 0.0835, val_loss : 0.8040, mse : 0.083, val_mse : 0.804\n",
      "Epoch 110, loss : 0.0775, val_loss : 0.7681, mse : 0.077, val_mse : 0.768\n",
      "Epoch 120, loss : 0.0743, val_loss : 0.7296, mse : 0.074, val_mse : 0.730\n",
      "Epoch 130, loss : 0.0725, val_loss : 0.6943, mse : 0.072, val_mse : 0.694\n",
      "Epoch 140, loss : 0.0710, val_loss : 0.6643, mse : 0.071, val_mse : 0.664\n",
      "Epoch 150, loss : 0.0693, val_loss : 0.6367, mse : 0.069, val_mse : 0.637\n",
      "Epoch 160, loss : 0.0682, val_loss : 0.6139, mse : 0.068, val_mse : 0.614\n",
      "Epoch 170, loss : 0.0668, val_loss : 0.5907, mse : 0.067, val_mse : 0.591\n",
      "Epoch 180, loss : 0.0644, val_loss : 0.5693, mse : 0.064, val_mse : 0.569\n",
      "Epoch 190, loss : 0.0626, val_loss : 0.5505, mse : 0.063, val_mse : 0.550\n",
      "実際の不動産価格:  12.209187788430318   予測した不動産価格:  9.45765\n",
      "実際の不動産価格:  11.79810440720389   予測した不動産価格:  12.455539\n",
      "実際の不動産価格:  11.608235644774552   予測した不動産価格:  11.484276\n",
      "実際の不動産価格:  12.165250651009918   予測した不動産価格:  12.520019\n",
      "実際の不動産価格:  11.385092093460344   予測した不動産価格:  11.095903\n",
      "実際の不動産価格:  11.350406535472453   予測した不動産価格:  11.933011\n",
      "実際の不動産価格:  12.552926520261092   予測した不動産価格:  12.433206\n",
      "実際の不動産価格:  11.856515169360305   予測した不動産価格:  12.031099\n",
      "実際の不動産価格:  13.521139497361697   予測した不動産価格:  15.868516\n"
     ]
    }
   ],
   "source": [
    "with tf.Session() as sess:\n",
    "    sess.run(init)\n",
    "    for epoch in range(num_epochs):\n",
    "        # エポックごとにループ\n",
    "        total_batch = np.ceil(X_train.shape[0]/batch_size).astype(np.int)\n",
    "        total_loss = 0\n",
    "        total_mse = 0\n",
    "        for i, (mini_batch_x, mini_batch_y) in enumerate(get_mini_batch_train):\n",
    "            # ミニバッチごとにループ\n",
    "            sess.run(train_op, feed_dict={X: mini_batch_x, Y: mini_batch_y})\n",
    "            #loss = sess.run(loss_op, feed_dict={X: mini_batch_x, Y :mini_batch_y})\n",
    "            loss, mse = sess.run([loss_op, MSE], feed_dict={X: mini_batch_x, Y: mini_batch_y})\n",
    "            total_loss += loss\n",
    "            total_loss /= n_samples\n",
    "        #val_loss = sess.run(loss_op, feed_dict={X: X_val, Y: y_val})\n",
    "        if epoch % 10 ==0:\n",
    "            val_loss, val_mse = sess.run([loss_op, MSE], feed_dict={X: X_val, Y: y_val})\n",
    "            print(\"Epoch {}, loss : {:.4f}, val_loss : {:.4f}, mse : {:.3f}, val_mse : {:.3f}\".format(epoch, loss, val_loss, mse, val_mse))\n",
    "            #print(\"Epoch {}, loss : {:.4f}, val_loss : {:.4f}\".format(epoch, loss, val_loss))\n",
    "    y_pred = sess.run(correct_pred, feed_dict={X: X_test, Y: y_test})\n",
    "    for i in range(9):\n",
    "        print(\"実際の不動産価格: \", y_test[i,0], \"  予測した不動産価格: \", y_pred[i,0])\n"
   ]
  },
  {
   "cell_type": "markdown",
   "metadata": {},
   "source": [
    "# 【問題5】MNISTのモデルを作成\n",
    "ニューラルネットワークのスクラッチで使用したMNISTを分類するモデルを作成してください。\n",
    "\n",
    "\n",
    "3クラス以上の分類という点ではひとつ前のIrisと同様です。入力が画像であるという点で異なります。\n",
    "\n",
    "\n",
    "スクラッチで実装したモデルの再現を目指してください。"
   ]
  },
  {
   "cell_type": "code",
   "execution_count": 147,
   "metadata": {},
   "outputs": [],
   "source": [
    "from keras.datasets import mnist\n",
    "(X_train, y_train), (X_test, y_test) = mnist.load_data()"
   ]
  },
  {
   "cell_type": "code",
   "execution_count": 148,
   "metadata": {},
   "outputs": [
    {
     "name": "stdout",
     "output_type": "stream",
     "text": [
      "1.0\n",
      "0.0\n"
     ]
    }
   ],
   "source": [
    "# データの前処理\n",
    "X_train = X_train.astype(np.float)\n",
    "X_test = X_test.astype(np.float)\n",
    "X_train /= 255\n",
    "X_test /= 255\n",
    "print(X_train.max()) # 1.0\n",
    "print(X_train.min()) # 0.0"
   ]
  },
  {
   "cell_type": "code",
   "execution_count": 149,
   "metadata": {},
   "outputs": [
    {
     "name": "stdout",
     "output_type": "stream",
     "text": [
      "(10000, 1, 28, 28)\n"
     ]
    }
   ],
   "source": [
    "X_train = X_train[:, np.newaxis, :, :]\n",
    "X_test = X_test[:, np.newaxis, :, :]\n",
    "print(X_test.shape)"
   ]
  },
  {
   "cell_type": "code",
   "execution_count": 150,
   "metadata": {},
   "outputs": [
    {
     "name": "stdout",
     "output_type": "stream",
     "text": [
      "(60000,)\n",
      "(60000, 10)\n"
     ]
    }
   ],
   "source": [
    "# One-Hot-encoding\n",
    "from sklearn.preprocessing import OneHotEncoder\n",
    "enc = OneHotEncoder(handle_unknown='ignore', sparse=False)\n",
    "y_train_o = enc.fit_transform(y_train[:, np.newaxis])\n",
    "y_test_o = enc.fit_transform(y_test[:, np.newaxis])\n",
    "\n",
    "print(y_train.shape)\n",
    "print(y_train_o.shape)"
   ]
  },
  {
   "cell_type": "code",
   "execution_count": 151,
   "metadata": {},
   "outputs": [
    {
     "name": "stdout",
     "output_type": "stream",
     "text": [
      "(48000, 1, 28, 28)\n",
      "(12000, 1, 28, 28)\n"
     ]
    }
   ],
   "source": [
    "from sklearn.model_selection import train_test_split\n",
    "X_train, X_val, y_train, y_val = train_test_split(X_train, y_train_o, test_size=0.2)\n",
    "print(X_train.shape)\n",
    "print(X_val.shape)"
   ]
  },
  {
   "cell_type": "code",
   "execution_count": 152,
   "metadata": {},
   "outputs": [],
   "source": [
    "# 重み計算\n",
    "def weight_variable(shape):\n",
    "    initial = tf.truncated_normal(shape, stddev=0.1)\n",
    "    return tf.Variable(initial)\n",
    "# バイアス計算\n",
    "def bias_variable(shape):\n",
    "    initial = tf.constant(0.1, shape=shape)\n",
    "    return tf.Variable(initial)\n",
    "\n",
    "#　畳み込み層の定義\n",
    "def conv2d(x, w):\n",
    "    return tf.nn.conv2d(x, w, strides=[1, 1, 1, 1], padding='SAME')\n",
    "# maxpool層の定義\n",
    "def max_pool_2d(x):\n",
    "    return tf.nn.max_pool(x, ksize=[1, 2, 2, 1],strides=[1, 2, 2, 1], padding='SAME' )"
   ]
  },
  {
   "cell_type": "code",
   "execution_count": 153,
   "metadata": {},
   "outputs": [],
   "source": [
    "# ハイパーパラメータの設定\n",
    "learning_rate = 0.001\n",
    "batch_size = 20\n",
    "num_epochs = 5\n",
    "n_hidden1 = 32\n",
    "n_hidden2 = 64\n",
    "H = X_train.shape[2]\n",
    "W = X_train.shape[3]\n",
    "img_size = H*W\n",
    "#channel = X_train.shape[1]\n",
    "n_samples = X_train.shape[0]\n",
    "out_put = 10"
   ]
  },
  {
   "cell_type": "code",
   "execution_count": 154,
   "metadata": {},
   "outputs": [],
   "source": [
    "X  = tf.placeholder(tf.float32, [None, 1, H, W])\n",
    "Y = tf.placeholder(tf.float32, [None, out_put])\n",
    "# trainのミニバッチイテレータ\n",
    "get_mini_batch_train = GetMiniBatch(X_train, y_train, batch_size=batch_size)\n",
    "\n",
    "def mnist_net(x):\n",
    "    #重みとバイアスの宣言\n",
    "    weights = {\n",
    "        'w1': weight_variable([5, 5, 1, n_hidden1]),\n",
    "        'w2': weight_variable([5, 5, n_hidden1, n_hidden2]),\n",
    "        'w_fc1':weight_variable([7*7*n_hidden2, 1024]),\n",
    "        'w_fc2': weight_variable([1024, out_put]),\n",
    "    }\n",
    "    baias = {\n",
    "        'b1' : bias_variable([n_hidden1]),\n",
    "        'b2' : bias_variable([n_hidden2]),\n",
    "        'b_fc1': bias_variable([1024]),\n",
    "        'b_fc2' : bias_variable([out_put])\n",
    "    }\n",
    "    \n",
    "    # xの型変換\n",
    "    x = tf.reshape(x, [-1,28,28,1])\n",
    "    #layer1\n",
    "    layer_1 = conv2d(x, weights['w1'])\n",
    "    layer_1 = tf.nn.relu(layer_1 + baias['b1'])\n",
    "    #pooling1\n",
    "    h_pool1 = max_pool_2d(layer_1)\n",
    "    #layer2\n",
    "    layer_2 = conv2d(h_pool1, weights['w2'])\n",
    "    layer_2 = tf.nn.relu(layer_2 + baias['b2'])\n",
    "    # pooling2\n",
    "    h_pool2 = max_pool_2d(layer_2)\n",
    "    # 全結合用のflat変換\n",
    "    h_pool2_flat = tf.reshape(h_pool2, [-1, 7*7*64])\n",
    "    # fullconv1\n",
    "    layer_3 = tf.matmul(h_pool2_flat, weights['w_fc1']) +  baias['b_fc1']\n",
    "    layer_3 = tf.nn.relu(layer_3)\n",
    "    # fullconv2\n",
    "    layer_output = tf.matmul(layer_3, weights['w_fc2']) + baias['b_fc2']\n",
    "    return layer_output\n"
   ]
  },
  {
   "cell_type": "code",
   "execution_count": 155,
   "metadata": {},
   "outputs": [],
   "source": [
    "# ネットワーク読み込み\n",
    "logits = mnist_net(X)\n",
    "#目的関数\n",
    "loss_op = tf.reduce_mean(tf.nn.softmax_cross_entropy_with_logits_v2(labels=Y, logits=logits))\n",
    "#最適化（Adam）\n",
    "optimizer = tf.train.AdamOptimizer(learning_rate=learning_rate)\n",
    "train_op = optimizer.minimize(loss_op)\n",
    "#推定結果(多値分類用：予測値の各行で最大となるインデックスを一つ返す)\n",
    "correct_pred = tf.equal(tf.argmax(Y, 1), tf.argmax(logits, 1))\n",
    "#指標計算\n",
    "accuracy = tf.reduce_mean(tf.cast(correct_pred, tf.float32))\n",
    "init = tf.global_variables_initializer()\n",
    "\n",
    "# Initializing\n",
    "init = tf.initialize_all_variables()"
   ]
  },
  {
   "cell_type": "code",
   "execution_count": 156,
   "metadata": {},
   "outputs": [
    {
     "name": "stdout",
     "output_type": "stream",
     "text": [
      "Epoch 0, loss : 0.0106, val_loss : 0.0645, acc : 1.000, val_acc : 0.980\n",
      "Epoch 1, loss : 0.0039, val_loss : 0.0460, acc : 1.000, val_acc : 0.986\n",
      "Epoch 2, loss : 0.0030, val_loss : 0.0534, acc : 1.000, val_acc : 0.984\n",
      "Epoch 3, loss : 0.0016, val_loss : 0.0672, acc : 1.000, val_acc : 0.984\n",
      "Epoch 4, loss : 0.0000, val_loss : 0.0546, acc : 1.000, val_acc : 0.987\n",
      "test_acc : 0.989\n"
     ]
    }
   ],
   "source": [
    "with tf.Session() as sess:\n",
    "    sess.run(init)\n",
    "    for epoch in range(num_epochs):\n",
    "        # エポックごとにループ\n",
    "        total_batch = np.ceil(X_train.shape[0]/batch_size).astype(np.int)\n",
    "        total_loss = 0\n",
    "        total_acc = 0\n",
    "        for i, (mini_batch_x, mini_batch_y) in enumerate(get_mini_batch_train):\n",
    "            # ミニバッチごとにループ\n",
    "            sess.run(train_op, feed_dict={X: mini_batch_x, Y: mini_batch_y})\n",
    "            loss, acc = sess.run([loss_op, accuracy], feed_dict={X: mini_batch_x, Y: mini_batch_y})\n",
    "            total_loss += loss\n",
    "            total_acc += acc\n",
    "        total_loss /= n_samples\n",
    "        total_acc /= n_samples\n",
    "        val_loss, val_acc = sess.run([loss_op, accuracy], feed_dict={X: X_val, Y: y_val})\n",
    "        print(\"Epoch {}, loss : {:.4f}, val_loss : {:.4f}, acc : {:.3f}, val_acc : {:.3f}\".format(epoch, loss, val_loss, acc, val_acc))\n",
    "    # Yにはワンホットエンコーディングしたデータ利用\n",
    "    test_acc = sess.run(accuracy, feed_dict={X: X_test, Y: y_test_o})\n",
    "    print(\"test_acc : {:.3f}\".format(test_acc))"
   ]
  },
  {
   "cell_type": "code",
   "execution_count": null,
   "metadata": {},
   "outputs": [],
   "source": []
  },
  {
   "cell_type": "code",
   "execution_count": null,
   "metadata": {},
   "outputs": [],
   "source": []
  }
 ],
 "metadata": {
  "kernelspec": {
   "display_name": "Python 3",
   "language": "python",
   "name": "python3"
  },
  "language_info": {
   "codemirror_mode": {
    "name": "ipython",
    "version": 3
   },
   "file_extension": ".py",
   "mimetype": "text/x-python",
   "name": "python",
   "nbconvert_exporter": "python",
   "pygments_lexer": "ipython3",
   "version": "3.7.4"
  }
 },
 "nbformat": 4,
 "nbformat_minor": 2
}
