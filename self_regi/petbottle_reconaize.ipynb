{
 "cells": [
  {
   "cell_type": "code",
   "execution_count": 8,
   "metadata": {},
   "outputs": [
    {
     "name": "stdout",
     "output_type": "stream",
     "text": [
      "TARGET_FILE: gogo2.jpg\n",
      "torokeru.jpg 149.6\n",
      "gogo.jpg 150.4142857142857\n",
      "vitamin.jpg 123.97142857142858\n",
      ".ipynb_checkpoints 120\n",
      "helsia.jpg 136.12857142857143\n",
      "kalpis.jpg 144.67142857142858\n",
      "gogo3.jpg 150.4142857142857\n"
     ]
    }
   ],
   "source": [
    "import cv2\n",
    "import os\n",
    "\n",
    "def main():\n",
    "    TARGET_FILE = 'gogo2.jpg'\n",
    "    IMG_DIR = './image2/'\n",
    "\n",
    "    bf = cv2.BFMatcher(cv2.NORM_HAMMING)\n",
    "    # 特徴点算出のアルゴリズムを決定(コメントアウトで調整して切り替え)\n",
    "    # detector = cv2.ORB_create()\n",
    "    detector = cv2.AKAZE_create()\n",
    "    (target_kp, target_des) = calc_kp_and_des(IMG_DIR + TARGET_FILE, detector)\n",
    "\n",
    "    print('TARGET_FILE: %s' % (TARGET_FILE))\n",
    "\n",
    "    files = os.listdir(IMG_DIR)\n",
    "    for file in files:\n",
    "        if file == '.DS_Store' or file == TARGET_FILE:\n",
    "            continue\n",
    "\n",
    "        comparing_img_path = IMG_DIR + file\n",
    "        try:\n",
    "            (comparing_kp, comparing_des) = calc_kp_and_des(comparing_img_path, detector)\n",
    "            #画像同士をマッチング\n",
    "            matches = bf.match(target_des, comparing_des)\n",
    "            dist = [m.distance for m in matches]\n",
    "            #類似度を計算する\n",
    "            ret = sum(dist) / len(dist)\n",
    "        except cv2.error:\n",
    "            ret = 120\n",
    "\n",
    "        print(file, ret)\n",
    "\n",
    "def calc_kp_and_des(img_path, detector):\n",
    "    \"\"\"\n",
    "        特徴点と識別子を計算する\n",
    "        :param str img_path: イメージのディレクトリパス\n",
    "        :param detector: 算出の際のアルゴリズム\n",
    "        :return: keypoints\n",
    "        :return: descriptor\n",
    "    \"\"\"\n",
    "    IMG_SIZE = (200, 200)\n",
    "    img = cv2.imread(img_path, cv2.IMREAD_GRAYSCALE)\n",
    "    img = cv2.resize(img, IMG_SIZE)\n",
    "    return detector.detectAndCompute(img, None)\n",
    "\n",
    "if __name__ == '__main__':\n",
    "    main()"
   ]
  },
  {
   "cell_type": "code",
   "execution_count": null,
   "metadata": {},
   "outputs": [],
   "source": []
  },
  {
   "cell_type": "code",
   "execution_count": null,
   "metadata": {},
   "outputs": [],
   "source": [
    "import numpy as np\n",
    "import cv2\n",
    "img1 = cv2.imread('dollar.png',0)\n",
    "img2 = cv2.imread('dollar_in_scene.png',0)\n",
    "#特徴抽出機の生成\n",
    "detector = cv2.xfeatures2d.SIFT_create()\n",
    "#kpは特徴的な点の位置 destは特徴を現すベクトル\n",
    "kp1, des1 = detector.detectAndCompute(img1, None)\n",
    "kp2, des2 = detector.detectAndCompute(img2, None)\n",
    "#特徴点の比較機\n",
    "bf = cv2.BFMatcher()\n",
    "matches = bf.knnMatch(des1,des2, k=2)\n",
    "#割合試験を適用\n",
    "good = []\n",
    "match_param = 0.6\n",
    "for m,n in matches:\n",
    "    if m.distance < match_param*n.distance:\n",
    "        good.append([m])\n",
    "#cv2.drawMatchesKnnは適合している点を結ぶ画像を生成する\n",
    "img3 = cv2.drawMatchesKnn(img1,kp1,img2,kp2,good, None,flags=2)\n",
    "cv2.imwrite(\"shift_result.png\", img3)"
   ]
  }
 ],
 "metadata": {
  "kernelspec": {
   "display_name": "Python 3",
   "language": "python",
   "name": "python3"
  },
  "language_info": {
   "codemirror_mode": {
    "name": "ipython",
    "version": 3
   },
   "file_extension": ".py",
   "mimetype": "text/x-python",
   "name": "python",
   "nbconvert_exporter": "python",
   "pygments_lexer": "ipython3",
   "version": "3.7.4"
  }
 },
 "nbformat": 4,
 "nbformat_minor": 2
}
