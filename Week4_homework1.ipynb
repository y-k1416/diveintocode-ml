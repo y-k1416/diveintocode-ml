{
 "cells": [
  {
   "cell_type": "markdown",
   "metadata": {},
   "source": [
    "# 【課題1】練習のために特徴量とカテゴリを選択\n",
    "選び方は合計18通りありますが、以下の組み合わせで練習することにします。irisデータセットをWeek3同様に取得した後、データフレームからこれらを抜き出してください。\n",
    "\n",
    "- virgicolorとvirginica\n",
    "- sepal_lengthとpetal_length"
   ]
  },
  {
   "cell_type": "code",
   "execution_count": 1,
   "metadata": {
    "collapsed": true
   },
   "outputs": [],
   "source": [
    "import numpy as np\n",
    "import pandas as pd\n",
    "import matplotlib.pyplot as plt\n",
    "from sklearn.datasets import load_iris"
   ]
  },
  {
   "cell_type": "code",
   "execution_count": 2,
   "metadata": {
    "collapsed": true
   },
   "outputs": [],
   "source": [
    "iris = load_iris()\n",
    "feature = ['sepal_length', 'sepal_width', 'petal_length', 'petal_width']\n",
    "X = pd.DataFrame(iris.data)\n",
    "X.columns = feature\n",
    "\n",
    "y = y = pd.DataFrame(iris.target, columns=[\"species\"])\n",
    "name = [\"species\"] \n",
    "y.columns = name\n"
   ]
  },
  {
   "cell_type": "code",
   "execution_count": 3,
   "metadata": {},
   "outputs": [
    {
     "data": {
      "text/html": [
       "<div>\n",
       "<style scoped>\n",
       "    .dataframe tbody tr th:only-of-type {\n",
       "        vertical-align: middle;\n",
       "    }\n",
       "\n",
       "    .dataframe tbody tr th {\n",
       "        vertical-align: top;\n",
       "    }\n",
       "\n",
       "    .dataframe thead th {\n",
       "        text-align: right;\n",
       "    }\n",
       "</style>\n",
       "<table border=\"1\" class=\"dataframe\">\n",
       "  <thead>\n",
       "    <tr style=\"text-align: right;\">\n",
       "      <th></th>\n",
       "      <th>sepal_length</th>\n",
       "      <th>sepal_width</th>\n",
       "      <th>petal_length</th>\n",
       "      <th>petal_width</th>\n",
       "      <th>species</th>\n",
       "    </tr>\n",
       "  </thead>\n",
       "  <tbody>\n",
       "    <tr>\n",
       "      <th>0</th>\n",
       "      <td>5.1</td>\n",
       "      <td>3.5</td>\n",
       "      <td>1.4</td>\n",
       "      <td>0.2</td>\n",
       "      <td>0</td>\n",
       "    </tr>\n",
       "    <tr>\n",
       "      <th>1</th>\n",
       "      <td>4.9</td>\n",
       "      <td>3.0</td>\n",
       "      <td>1.4</td>\n",
       "      <td>0.2</td>\n",
       "      <td>0</td>\n",
       "    </tr>\n",
       "    <tr>\n",
       "      <th>2</th>\n",
       "      <td>4.7</td>\n",
       "      <td>3.2</td>\n",
       "      <td>1.3</td>\n",
       "      <td>0.2</td>\n",
       "      <td>0</td>\n",
       "    </tr>\n",
       "    <tr>\n",
       "      <th>3</th>\n",
       "      <td>4.6</td>\n",
       "      <td>3.1</td>\n",
       "      <td>1.5</td>\n",
       "      <td>0.2</td>\n",
       "      <td>0</td>\n",
       "    </tr>\n",
       "    <tr>\n",
       "      <th>4</th>\n",
       "      <td>5.0</td>\n",
       "      <td>3.6</td>\n",
       "      <td>1.4</td>\n",
       "      <td>0.2</td>\n",
       "      <td>0</td>\n",
       "    </tr>\n",
       "    <tr>\n",
       "      <th>...</th>\n",
       "      <td>...</td>\n",
       "      <td>...</td>\n",
       "      <td>...</td>\n",
       "      <td>...</td>\n",
       "      <td>...</td>\n",
       "    </tr>\n",
       "    <tr>\n",
       "      <th>145</th>\n",
       "      <td>6.7</td>\n",
       "      <td>3.0</td>\n",
       "      <td>5.2</td>\n",
       "      <td>2.3</td>\n",
       "      <td>2</td>\n",
       "    </tr>\n",
       "    <tr>\n",
       "      <th>146</th>\n",
       "      <td>6.3</td>\n",
       "      <td>2.5</td>\n",
       "      <td>5.0</td>\n",
       "      <td>1.9</td>\n",
       "      <td>2</td>\n",
       "    </tr>\n",
       "    <tr>\n",
       "      <th>147</th>\n",
       "      <td>6.5</td>\n",
       "      <td>3.0</td>\n",
       "      <td>5.2</td>\n",
       "      <td>2.0</td>\n",
       "      <td>2</td>\n",
       "    </tr>\n",
       "    <tr>\n",
       "      <th>148</th>\n",
       "      <td>6.2</td>\n",
       "      <td>3.4</td>\n",
       "      <td>5.4</td>\n",
       "      <td>2.3</td>\n",
       "      <td>2</td>\n",
       "    </tr>\n",
       "    <tr>\n",
       "      <th>149</th>\n",
       "      <td>5.9</td>\n",
       "      <td>3.0</td>\n",
       "      <td>5.1</td>\n",
       "      <td>1.8</td>\n",
       "      <td>2</td>\n",
       "    </tr>\n",
       "  </tbody>\n",
       "</table>\n",
       "<p>150 rows × 5 columns</p>\n",
       "</div>"
      ],
      "text/plain": [
       "     sepal_length  sepal_width  petal_length  petal_width  species\n",
       "0             5.1          3.5           1.4          0.2        0\n",
       "1             4.9          3.0           1.4          0.2        0\n",
       "2             4.7          3.2           1.3          0.2        0\n",
       "3             4.6          3.1           1.5          0.2        0\n",
       "4             5.0          3.6           1.4          0.2        0\n",
       "..            ...          ...           ...          ...      ...\n",
       "145           6.7          3.0           5.2          2.3        2\n",
       "146           6.3          2.5           5.0          1.9        2\n",
       "147           6.5          3.0           5.2          2.0        2\n",
       "148           6.2          3.4           5.4          2.3        2\n",
       "149           5.9          3.0           5.1          1.8        2\n",
       "\n",
       "[150 rows x 5 columns]"
      ]
     },
     "metadata": {},
     "output_type": "display_data"
    }
   ],
   "source": [
    "Xy = X.join( y) \n",
    "display(Xy)"
   ]
  },
  {
   "cell_type": "code",
   "execution_count": 4,
   "metadata": {
    "collapsed": true
   },
   "outputs": [],
   "source": [
    "# 'sepal_length','petal_length','species'のデータ抽出\n",
    "Xy = Xy.loc[:, ['sepal_length','petal_length','species']]"
   ]
  },
  {
   "cell_type": "code",
   "execution_count": 5,
   "metadata": {
    "collapsed": true
   },
   "outputs": [],
   "source": [
    "# virgicolorとvirginicaのデータ抽出\n",
    "df= Xy[Xy['species']>=1]"
   ]
  },
  {
   "cell_type": "code",
   "execution_count": 6,
   "metadata": {},
   "outputs": [
    {
     "data": {
      "text/html": [
       "<div>\n",
       "<style scoped>\n",
       "    .dataframe tbody tr th:only-of-type {\n",
       "        vertical-align: middle;\n",
       "    }\n",
       "\n",
       "    .dataframe tbody tr th {\n",
       "        vertical-align: top;\n",
       "    }\n",
       "\n",
       "    .dataframe thead th {\n",
       "        text-align: right;\n",
       "    }\n",
       "</style>\n",
       "<table border=\"1\" class=\"dataframe\">\n",
       "  <thead>\n",
       "    <tr style=\"text-align: right;\">\n",
       "      <th></th>\n",
       "      <th>sepal_length</th>\n",
       "      <th>petal_length</th>\n",
       "      <th>species</th>\n",
       "    </tr>\n",
       "  </thead>\n",
       "  <tbody>\n",
       "    <tr>\n",
       "      <th>50</th>\n",
       "      <td>7.0</td>\n",
       "      <td>4.7</td>\n",
       "      <td>1</td>\n",
       "    </tr>\n",
       "    <tr>\n",
       "      <th>51</th>\n",
       "      <td>6.4</td>\n",
       "      <td>4.5</td>\n",
       "      <td>1</td>\n",
       "    </tr>\n",
       "    <tr>\n",
       "      <th>52</th>\n",
       "      <td>6.9</td>\n",
       "      <td>4.9</td>\n",
       "      <td>1</td>\n",
       "    </tr>\n",
       "    <tr>\n",
       "      <th>53</th>\n",
       "      <td>5.5</td>\n",
       "      <td>4.0</td>\n",
       "      <td>1</td>\n",
       "    </tr>\n",
       "    <tr>\n",
       "      <th>54</th>\n",
       "      <td>6.5</td>\n",
       "      <td>4.6</td>\n",
       "      <td>1</td>\n",
       "    </tr>\n",
       "    <tr>\n",
       "      <th>...</th>\n",
       "      <td>...</td>\n",
       "      <td>...</td>\n",
       "      <td>...</td>\n",
       "    </tr>\n",
       "    <tr>\n",
       "      <th>145</th>\n",
       "      <td>6.7</td>\n",
       "      <td>5.2</td>\n",
       "      <td>2</td>\n",
       "    </tr>\n",
       "    <tr>\n",
       "      <th>146</th>\n",
       "      <td>6.3</td>\n",
       "      <td>5.0</td>\n",
       "      <td>2</td>\n",
       "    </tr>\n",
       "    <tr>\n",
       "      <th>147</th>\n",
       "      <td>6.5</td>\n",
       "      <td>5.2</td>\n",
       "      <td>2</td>\n",
       "    </tr>\n",
       "    <tr>\n",
       "      <th>148</th>\n",
       "      <td>6.2</td>\n",
       "      <td>5.4</td>\n",
       "      <td>2</td>\n",
       "    </tr>\n",
       "    <tr>\n",
       "      <th>149</th>\n",
       "      <td>5.9</td>\n",
       "      <td>5.1</td>\n",
       "      <td>2</td>\n",
       "    </tr>\n",
       "  </tbody>\n",
       "</table>\n",
       "<p>100 rows × 3 columns</p>\n",
       "</div>"
      ],
      "text/plain": [
       "     sepal_length  petal_length  species\n",
       "50            7.0           4.7        1\n",
       "51            6.4           4.5        1\n",
       "52            6.9           4.9        1\n",
       "53            5.5           4.0        1\n",
       "54            6.5           4.6        1\n",
       "..            ...           ...      ...\n",
       "145           6.7           5.2        2\n",
       "146           6.3           5.0        2\n",
       "147           6.5           5.2        2\n",
       "148           6.2           5.4        2\n",
       "149           5.9           5.1        2\n",
       "\n",
       "[100 rows x 3 columns]"
      ]
     },
     "execution_count": 6,
     "metadata": {},
     "output_type": "execute_result"
    }
   ],
   "source": [
    "df"
   ]
  },
  {
   "cell_type": "markdown",
   "metadata": {},
   "source": [
    "# 【問題2】データの分析\n",
    "まずはデータの分析を行いますが、これはWeek3の課題1で行いました。その際出力した散布図行列を見ることで、先ほどの18通りそれぞれの散布図も確認できます。sepal_lengthとpetal_lengthを使い、virgicolorとvirginicaを分類するのは少し難しそうな状況であることが分かるはずです。\n",
    "\n",
    "ここでは復習を兼ねて、抜き出したデータの散布図と箱ひげ図（boxplot）、バイオリン図（violinplot）を表示してください。"
   ]
  },
  {
   "cell_type": "code",
   "execution_count": 7,
   "metadata": {},
   "outputs": [
    {
     "data": {
      "image/png": "[encoded data removed]",
      "text/plain": [
       "<Figure size 432x288 with 1 Axes>"
      ]
     },
     "metadata": {},
     "output_type": "display_data"
    }
   ],
   "source": [
    "#散布図\n",
    "virgicolor = df[df.species == 1] \n",
    "virginica = df[df.species == 2]\n",
    "\n",
    "plt.title('sepal_length_petal_length')\n",
    "plt.xlabel('sepal_length')\n",
    "plt.ylabel('petal_length')\n",
    "plt.scatter(virgicolor['sepal_length'], virgicolor['petal_length'], c='blue', label='virgicolor')\n",
    "plt.scatter(virginica['sepal_length'],virginica['petal_length'], c='green', label='virginica')\n",
    "plt.legend()\n",
    "plt.show();"
   ]
  },
  {
   "cell_type": "code",
   "execution_count": 8,
   "metadata": {},
   "outputs": [
    {
     "data": {
      "image/png": "[encoded data removed]",
      "text/plain": [
       "<Figure size 432x288 with 1 Axes>"
      ]
     },
     "metadata": {},
     "output_type": "display_data"
    },
    {
     "data": {
      "image/png": "[encoded data removed]",
      "text/plain": [
       "<Figure size 432x288 with 1 Axes>"
      ]
     },
     "metadata": {},
     "output_type": "display_data"
    }
   ],
   "source": [
    "#箱ひげ図\n",
    "features = [\"sepal_length\", \"petal_length\"]\n",
    "\n",
    "for feature in features:\n",
    "    plt.boxplot([df[df[\"species\"]==1][feature], df[df[\"species\"]==2][feature]])\n",
    "    plt.xticks([1, 2], iris.target_names[1:])\n",
    "    plt.title(\"BOXPLOT of iris's {}\".format(feature))\n",
    "    plt.ylabel('[cm]')\n",
    "    plt.xlabel('species')\n",
    "    plt.show()"
   ]
  },
  {
   "cell_type": "code",
   "execution_count": 9,
   "metadata": {},
   "outputs": [
    {
     "data": {
      "image/png": "[encoded data removed]",
      "text/plain": [
       "<Figure size 432x288 with 1 Axes>"
      ]
     },
     "metadata": {},
     "output_type": "display_data"
    },
    {
     "data": {
      "image/png": "[encoded data removed]",
      "text/plain": [
       "<Figure size 432x288 with 1 Axes>"
      ]
     },
     "metadata": {},
     "output_type": "display_data"
    }
   ],
   "source": [
    "# バイオリン図\n",
    "for feature in features:\n",
    "    plt.violinplot([df[df[\"species\"]==1][feature], df[df[\"species\"]==2][feature]])\n",
    "    plt.xticks([1, 2], iris.target_names[1:])\n",
    "    plt.title(\"BOXPLOT of iris's {}\".format(feature))\n",
    "    plt.ylabel('[cm]')\n",
    "    plt.xlabel('species')\n",
    "    plt.show()"
   ]
  },
  {
   "cell_type": "markdown",
   "metadata": {},
   "source": [
    "# 【問題3】前処理・訓練用データと検証用データの分割\n",
    "前処理の一貫として、訓練用（train）データと検証用（validation）データの分割を行います。今回は訓練用データ75%、検証用データ25%として分割してください。\n",
    "\n",
    "scikit-learnのtrain_test_splitが利用できます。公式ドキュメントのExamplesを参考に動かしてください。"
   ]
  },
  {
   "cell_type": "code",
   "execution_count": 10,
   "metadata": {
    "collapsed": true
   },
   "outputs": [],
   "source": [
    "from sklearn.model_selection import train_test_split"
   ]
  },
  {
   "cell_type": "code",
   "execution_count": 11,
   "metadata": {
    "collapsed": true
   },
   "outputs": [],
   "source": [
    "# dfをndarrayに変換\n",
    "Xy_df = np.array(df)\n",
    "\n",
    "#説明変数と目的変数の分割\n",
    "X = Xy_df[:, [0,1]]\n",
    "y = Xy_df[:,2]"
   ]
  },
  {
   "cell_type": "code",
   "execution_count": 12,
   "metadata": {
    "collapsed": true
   },
   "outputs": [],
   "source": [
    "# trainデータとtestデータに分割\n",
    "X_train, X_test, y_train, y_test = train_test_split(\n",
    "    X, y, test_size=0.25, random_state=0)"
   ]
  },
  {
   "cell_type": "code",
   "execution_count": 13,
   "metadata": {},
   "outputs": [
    {
     "data": {
      "text/plain": [
       "'X_train'"
      ]
     },
     "metadata": {},
     "output_type": "display_data"
    },
    {
     "data": {
      "text/plain": [
       "array([[5.1, 3. ],\n",
       "       [6.3, 4.7],\n",
       "       [5.9, 5.1],\n",
       "       [6.4, 5.6],\n",
       "       [6.2, 4.8],\n",
       "       [6.5, 5.1],\n",
       "       [7.4, 6.1],\n",
       "       [6.7, 5.6],\n",
       "       [7.7, 6.9],\n",
       "       [5.8, 5.1],\n",
       "       [6.7, 5. ],\n",
       "       [6.2, 4.5],\n",
       "       [4.9, 4.5],\n",
       "       [5.7, 5. ],\n",
       "       [6.7, 5.7],\n",
       "       [6.4, 4.5],\n",
       "       [6.4, 5.3],\n",
       "       [5.8, 4. ],\n",
       "       [6.1, 4.6],\n",
       "       [6.5, 4.6],\n",
       "       [6.7, 4.4],\n",
       "       [5.8, 4.1],\n",
       "       [5.5, 4.4],\n",
       "       [5.6, 4.1],\n",
       "       [5.7, 4.5],\n",
       "       [6.9, 5.1],\n",
       "       [7.2, 6.1],\n",
       "       [7. , 4.7],\n",
       "       [5.4, 4.5],\n",
       "       [6. , 4.5],\n",
       "       [6.3, 6. ],\n",
       "       [5.9, 4.2],\n",
       "       [6. , 4.5],\n",
       "       [6.1, 4.7],\n",
       "       [7.1, 5.9],\n",
       "       [5. , 3.5],\n",
       "       [5.5, 3.7],\n",
       "       [6.5, 5.5],\n",
       "       [7.3, 6.3],\n",
       "       [7.2, 5.8],\n",
       "       [7.7, 6.1],\n",
       "       [5.8, 3.9],\n",
       "       [6.1, 5.6],\n",
       "       [5.6, 3.6],\n",
       "       [6.9, 5.4],\n",
       "       [5.6, 3.9],\n",
       "       [5.7, 3.5],\n",
       "       [5.7, 4.1],\n",
       "       [6.5, 5.2],\n",
       "       [6.2, 5.4],\n",
       "       [6. , 5. ],\n",
       "       [5.9, 4.8],\n",
       "       [6.7, 5.7],\n",
       "       [7.7, 6.7],\n",
       "       [6.1, 4.9],\n",
       "       [6.6, 4.4],\n",
       "       [6.3, 4.4],\n",
       "       [7.9, 6.4],\n",
       "       [5.7, 4.2],\n",
       "       [5.5, 4. ],\n",
       "       [6.4, 5.3],\n",
       "       [6.7, 5.8],\n",
       "       [6. , 4. ],\n",
       "       [6. , 4.8],\n",
       "       [6.9, 5.7],\n",
       "       [6.4, 5.5],\n",
       "       [6.7, 4.7],\n",
       "       [6.1, 4. ],\n",
       "       [6.3, 5.1],\n",
       "       [5.2, 3.9],\n",
       "       [6.3, 5. ],\n",
       "       [7.7, 6.7],\n",
       "       [5.8, 5.1],\n",
       "       [6.2, 4.3],\n",
       "       [5.6, 4.2]])"
      ]
     },
     "metadata": {},
     "output_type": "display_data"
    },
    {
     "data": {
      "text/plain": [
       "'X_test'"
      ]
     },
     "metadata": {},
     "output_type": "display_data"
    },
    {
     "data": {
      "text/plain": [
       "array([[6.8, 4.8],\n",
       "       [6.3, 5.6],\n",
       "       [6.9, 4.9],\n",
       "       [7.6, 6.6],\n",
       "       [7.2, 6. ],\n",
       "       [6.8, 5.9],\n",
       "       [5.6, 4.5],\n",
       "       [6.3, 4.9],\n",
       "       [6.5, 5.8],\n",
       "       [6.7, 5.2],\n",
       "       [6.3, 5.6],\n",
       "       [5.8, 5.1],\n",
       "       [6.4, 5.6],\n",
       "       [6.1, 4.7],\n",
       "       [4.9, 3.3],\n",
       "       [5.5, 3.8],\n",
       "       [6.3, 4.9],\n",
       "       [6.4, 4.3],\n",
       "       [6. , 5.1],\n",
       "       [6.6, 4.6],\n",
       "       [5. , 3.3],\n",
       "       [6.8, 5.5],\n",
       "       [5.5, 4. ],\n",
       "       [5.6, 4.9],\n",
       "       [5.7, 4.2]])"
      ]
     },
     "metadata": {},
     "output_type": "display_data"
    },
    {
     "data": {
      "text/plain": [
       "'y_train'"
      ]
     },
     "metadata": {},
     "output_type": "display_data"
    },
    {
     "data": {
      "text/plain": [
       "array([1., 1., 2., 2., 2., 2., 2., 2., 2., 2., 1., 1., 2., 2., 2., 1., 2.,\n",
       "       1., 1., 1., 1., 1., 1., 1., 1., 2., 2., 1., 1., 1., 2., 1., 1., 1.,\n",
       "       2., 1., 1., 2., 2., 2., 2., 1., 2., 1., 2., 1., 1., 1., 2., 2., 2.,\n",
       "       1., 2., 2., 2., 1., 1., 2., 1., 1., 2., 2., 1., 2., 2., 2., 1., 1.,\n",
       "       2., 1., 2., 2., 2., 1., 1.])"
      ]
     },
     "metadata": {},
     "output_type": "display_data"
    },
    {
     "data": {
      "text/plain": [
       "'y_test'"
      ]
     },
     "metadata": {},
     "output_type": "display_data"
    },
    {
     "data": {
      "text/plain": [
       "array([1., 2., 1., 2., 2., 2., 1., 2., 2., 2., 2., 2., 2., 1., 1., 1., 1.,\n",
       "       1., 1., 1., 1., 2., 1., 2., 1.])"
      ]
     },
     "metadata": {},
     "output_type": "display_data"
    }
   ],
   "source": [
    "display(\"X_train\",X_train,\"X_test\", X_test,\"y_train\", y_train,\"y_test\", y_test)"
   ]
  },
  {
   "cell_type": "markdown",
   "metadata": {},
   "source": [
    "# 【問題4】前処理・標準化\n",
    "分類精度をあげるための加工を行います。手法ごとに適切な方法は異なりますが、ここでは一例として 標準化 を行うことにします。\n",
    "\n",
    "標準化を行うライブラリもscikit-learnに用意されています。これを使って標準化してください。"
   ]
  },
  {
   "cell_type": "code",
   "execution_count": 15,
   "metadata": {},
   "outputs": [
    {
     "data": {
      "text/plain": [
       "StandardScaler(copy=True, with_mean=True, with_std=True)"
      ]
     },
     "execution_count": 15,
     "metadata": {},
     "output_type": "execute_result"
    }
   ],
   "source": [
    "from sklearn.preprocessing import StandardScaler\n",
    "# trainデータのフィッテイング\n",
    "sc_x = StandardScaler()\n",
    "sc_x.fit(X_train)"
   ]
  },
  {
   "cell_type": "code",
   "execution_count": 18,
   "metadata": {},
   "outputs": [],
   "source": [
    "#trainとtestデータのtransform\n",
    "X_train_std = sc_x.transform(X_train)\n",
    "X_test_std = sc_x.transform(X_test)"
   ]
  },
  {
   "cell_type": "markdown",
   "metadata": {},
   "source": [
    "# 【問題5】学習と推定\n",
    "最近傍法（k-nearest neighbors, k-nn）で学習を行います。scikit-learnの公式ドキュメントのExamplesを参考に、k-nnの学習を行ってください。ここで入力するのは訓練用データです。"
   ]
  },
  {
   "cell_type": "code",
   "execution_count": 19,
   "metadata": {},
   "outputs": [
    {
     "data": {
      "text/plain": [
       "KNeighborsClassifier(algorithm='auto', leaf_size=30, metric='minkowski',\n",
       "                     metric_params=None, n_jobs=None, n_neighbors=5, p=2,\n",
       "                     weights='uniform')"
      ]
     },
     "execution_count": 19,
     "metadata": {},
     "output_type": "execute_result"
    }
   ],
   "source": [
    "from sklearn.neighbors import KNeighborsClassifier\n",
    "knn = KNeighborsClassifier(n_neighbors=5)\n",
    "knn.fit (X_train_std, y_train)"
   ]
  },
  {
   "cell_type": "code",
   "execution_count": 20,
   "metadata": {},
   "outputs": [
    {
     "name": "stdout",
     "output_type": "stream",
     "text": [
      "y_pred(予測値)： [1. 2. 1. 2. 2. 2. 1. 2. 2. 2. 2. 2. 2. 2. 1. 1. 2. 1. 2. 1. 1. 2. 1. 2.\n",
      " 1.]\n"
     ]
    }
   ],
   "source": [
    "y_pred = knn.predict(X_test_std)              # 予測実行\n",
    "print(\"y_pred(予測値)：\", y_pred)\n"
   ]
  },
  {
   "cell_type": "markdown",
   "metadata": {},
   "source": [
    "# 【問題6】評価\n",
    "検証用データの特徴量を入力して得られた推定値と、検証用データの正解値の近さを計算し、学習したモデルを評価します。\n",
    "\n",
    "2値分類を評価するための指標値には Accuracy（正解率）、Precision（適合率）、Recall（再現率）、F値 があります。それぞれの意味を理解するには、 混同行列（confusion matrix） を見ることになります。\n",
    "\n"
   ]
  },
  {
   "cell_type": "code",
   "execution_count": 21,
   "metadata": {
    "collapsed": true
   },
   "outputs": [],
   "source": [
    "from sklearn import metrics"
   ]
  },
  {
   "cell_type": "markdown",
   "metadata": {},
   "source": [
    "### scikit-learnを使い4種類の指標を計算する"
   ]
  },
  {
   "cell_type": "code",
   "execution_count": 22,
   "metadata": {},
   "outputs": [
    {
     "name": "stdout",
     "output_type": "stream",
     "text": [
      "正解率: 0.88\n",
      "適合率 1.0\n",
      "再現率 0.7692307692307693\n",
      "F値 0.8695652173913044\n"
     ]
    }
   ],
   "source": [
    "# 正解率\n",
    "print('正解率:',metrics.accuracy_score(y_test, y_pred ))\n",
    "\n",
    "# 適合率\n",
    "print(\"適合率\", metrics.precision_score(y_test, y_pred))\n",
    "\n",
    "#再現率\n",
    "print('再現率', metrics.recall_score(y_test, y_pred))\n",
    "\n",
    "# F値\n",
    "print('F値', metrics.f1_score(y_test, y_pred))"
   ]
  },
  {
   "cell_type": "markdown",
   "metadata": {},
   "source": [
    "### 混同行列をscikit-learnを使い表示する"
   ]
  },
  {
   "cell_type": "code",
   "execution_count": 23,
   "metadata": {},
   "outputs": [
    {
     "data": {
      "text/plain": [
       "array([[10,  3],\n",
       "       [ 0, 12]])"
      ]
     },
     "execution_count": 23,
     "metadata": {},
     "output_type": "execute_result"
    }
   ],
   "source": [
    "metrics.confusion_matrix(y_test, y_pred)"
   ]
  },
  {
   "cell_type": "markdown",
   "metadata": {},
   "source": [
    "### 4種類の指標値の意味について簡単に調査して文章でまとめる"
   ]
  },
  {
   "cell_type": "markdown",
   "metadata": {},
   "source": [
    "- <strong>正解率（ACC)</strong>\n",
    "<br>全体(真陽性＋真陰性＋偽陽性＋偽陰性)の数のうち、正解した数（真陽性＋真陰性）の割合\n",
    "<p>\n",
    "- <strong>適合率 （PRE)</strong>\n",
    "<br>真陽性と真陰性の合計数のうち、真陽性の数の割合\n",
    "<p>\n",
    "- <strong>再現率（REC）</strong>\n",
    "<br>真陽性と偽陰性の合計数のうち、真陽性の数の割合\n",
    "<p>\n",
    "- <strong>F値 （F１）</strong>\n",
    "<br>適合率と再現率を掛け合わせた値を適合率と再現率の和で割ったのち、２倍した値"
   ]
  },
  {
   "cell_type": "markdown",
   "metadata": {},
   "source": [
    "# 【問題7】可視化\n",
    "評価の一貫として可視化を行います。今回の場合2次元の特徴量で分類を行いましたから、散布図で可視化が可能です。以下にどう分割するかという 決定領域 を描く関数を用意しました。これを利用して可視化を行ってください。Xとyには訓練用データまたは検証用データを与えます。"
   ]
  },
  {
   "cell_type": "code",
   "execution_count": 24,
   "metadata": {
    "collapsed": true
   },
   "outputs": [],
   "source": [
    "\n",
    "import matplotlib.pyplot as plt\n",
    "from matplotlib.colors import ListedColormap\n",
    "import matplotlib.patches as mpatches\n",
    "\n",
    "def decision_region(X, y, model, step=0.01, title='decision region', xlabel='xlabel', ylabel='ylabel', target_names=['versicolor', 'virginica']):\n",
    "    \"\"\"\n",
    "    2値分類を2次元の特徴量で学習したモデルの決定領域を描く。\n",
    "    背景の色が学習したモデルによる推定値から描画される。\n",
    "    散布図の点は訓練データまたは検証データである。\n",
    "\n",
    "    Parameters\n",
    "    ----------------\n",
    "    X : ndarray, shape(n_samples, 2)\n",
    "        特徴量\n",
    "    y : ndarray, shape(n_samples,)\n",
    "        ラベル\n",
    "    model : object\n",
    "        学習したモデルのインスンタスを入れる\n",
    "    step : float, (default : 0.1)\n",
    "        推定値を計算する間隔を設定する\n",
    "    title : str\n",
    "        グラフのタイトルの文章を与える\n",
    "    xlabel, ylabel : str\n",
    "        軸ラベルの文章を与える\n",
    "    target_names= : list of str\n",
    "        凡例の一覧を与える\n",
    "    \"\"\"\n",
    "    # setting\n",
    "    scatter_color = ['red', 'blue']\n",
    "    contourf_color = ['pink', 'skyblue']\n",
    "    n_class = 2\n",
    "\n",
    "    # pred\n",
    "    mesh_f0, mesh_f1  = np.meshgrid(np.arange(np.min(X[:,0])-0.5, np.max(X[:,0])+0.5, step), np.arange(np.min(X[:,1])-0.5, np.max(X[:,1])+0.5, step))\n",
    "    mesh = np.c_[np.ravel(mesh_f0),np.ravel(mesh_f1)]\n",
    "    y_pred = model.predict(mesh).reshape(mesh_f0.shape)\n",
    "\n",
    "    # plot\n",
    "    plt.title(title)\n",
    "    plt.xlabel(xlabel)\n",
    "    plt.ylabel(ylabel)\n",
    "    plt.contourf(mesh_f0, mesh_f1, y_pred, n_class-1, cmap=ListedColormap(contourf_color))\n",
    "    plt.contour(mesh_f0, mesh_f1, y_pred, n_class-1, colors='y', linewidths=3, alpha=0.5)\n",
    "    for i, target in enumerate(set(y)):\n",
    "        plt.scatter(X[y==target][:, 0], X[y==(target)][:, 1], s=80, color=scatter_color[i], label=target_names[i], marker='o')\n",
    "    patches = [mpatches.Patch(color=scatter_color[i], label=target_names[i]) for i in range(n_class)]\n",
    "    plt.legend(handles=patches)\n",
    "    plt.legend()\n",
    "    plt.show()"
   ]
  },
  {
   "cell_type": "code",
   "execution_count": 25,
   "metadata": {},
   "outputs": [
    {
     "data": {
      "image/png": "[encoded data removed]",
      "text/plain": [
       "<Figure size 432x288 with 1 Axes>"
      ]
     },
     "metadata": {},
     "output_type": "display_data"
    }
   ],
   "source": [
    "#y_trainを１次元配列に変換\n",
    "\n",
    "decision_region(X_train_std, y_train, knn)"
   ]
  },
  {
   "cell_type": "markdown",
   "metadata": {
    "collapsed": true
   },
   "source": [
    "# 【問題8】他の手法の学習\n",
    "以下の全ての手法について学習・推定・評価・可視化を行ってください。そして、指標値を１つの表にまとめてください。その表と決定領域を利用して結果を簡単に考察してください。どの手法がどの指標値で良かったかや、どういった決定領域になっていたかを述べてください。"
   ]
  },
  {
   "cell_type": "markdown",
   "metadata": {},
   "source": [
    "## ロジスティック回帰"
   ]
  },
  {
   "cell_type": "code",
   "execution_count": 26,
   "metadata": {},
   "outputs": [
    {
     "data": {
      "text/plain": [
       "LogisticRegression(C=1.0, class_weight=None, dual=False, fit_intercept=True,\n",
       "                   intercept_scaling=1, l1_ratio=None, max_iter=100,\n",
       "                   multi_class='auto', n_jobs=None, penalty='l2',\n",
       "                   random_state=1, solver='lbfgs', tol=0.0001, verbose=0,\n",
       "                   warm_start=False)"
      ]
     },
     "execution_count": 26,
     "metadata": {},
     "output_type": "execute_result"
    }
   ],
   "source": [
    "from sklearn.linear_model import LogisticRegression\n",
    "lr = LogisticRegression(random_state=1)\n",
    "lr.fit(X_train_std, y_train)"
   ]
  },
  {
   "cell_type": "code",
   "execution_count": 27,
   "metadata": {},
   "outputs": [
    {
     "name": "stdout",
     "output_type": "stream",
     "text": [
      "y_pred(予測値)： [1. 2. 1. 2. 2. 2. 1. 2. 2. 2. 2. 2. 2. 1. 1. 1. 2. 1. 2. 1. 1. 2. 1. 2.\n",
      " 1.]\n"
     ]
    }
   ],
   "source": [
    "y_pred2 = lr.predict(X_test_std)              # 予測実行\n",
    "print(\"y_pred(予測値)：\", y_pred2)"
   ]
  },
  {
   "cell_type": "code",
   "execution_count": 28,
   "metadata": {},
   "outputs": [
    {
     "name": "stdout",
     "output_type": "stream",
     "text": [
      "正解率: 0.92\n",
      "適合率 1.0\n",
      "再現率 0.8461538461538461\n",
      "F値 0.9166666666666666\n"
     ]
    }
   ],
   "source": [
    "# 正解率\n",
    "print('正解率:',metrics.accuracy_score(y_test, y_pred2))\n",
    "\n",
    "# 適合率\n",
    "print(\"適合率\", metrics.precision_score(y_test, y_pred2))\n",
    "\n",
    "#再現率\n",
    "print('再現率', metrics.recall_score(y_test, y_pred2))\n",
    "\n",
    "# F値\n",
    "print('F値', metrics.f1_score(y_test, y_pred2))"
   ]
  },
  {
   "cell_type": "code",
   "execution_count": 29,
   "metadata": {},
   "outputs": [
    {
     "data": {
      "image/png": "[encoded data removed]",
      "text/plain": [
       "<Figure size 432x288 with 1 Axes>"
      ]
     },
     "metadata": {},
     "output_type": "display_data"
    }
   ],
   "source": [
    "decision_region(X_train_std, y_train, lr)"
   ]
  },
  {
   "cell_type": "markdown",
   "metadata": {},
   "source": [
    "# SVM"
   ]
  },
  {
   "cell_type": "code",
   "execution_count": 30,
   "metadata": {},
   "outputs": [
    {
     "data": {
      "text/plain": [
       "SVC(C=1.0, break_ties=False, cache_size=200, class_weight=None, coef0=0.0,\n",
       "    decision_function_shape='ovr', degree=3, gamma='scale', kernel='linear',\n",
       "    max_iter=-1, probability=False, random_state=1, shrinking=True, tol=0.001,\n",
       "    verbose=False)"
      ]
     },
     "execution_count": 30,
     "metadata": {},
     "output_type": "execute_result"
    }
   ],
   "source": [
    "from sklearn.svm import SVC\n",
    "svm = SVC(kernel='linear', random_state=1)\n",
    "svm.fit(X_train_std, y_train)"
   ]
  },
  {
   "cell_type": "code",
   "execution_count": 31,
   "metadata": {},
   "outputs": [
    {
     "name": "stdout",
     "output_type": "stream",
     "text": [
      "y_pred(予測値)： [1. 2. 1. 2. 2. 2. 1. 2. 2. 2. 2. 2. 2. 1. 1. 1. 2. 1. 2. 1. 1. 2. 1. 2.\n",
      " 1.]\n"
     ]
    }
   ],
   "source": [
    "y_pred3 = svm.predict(X_test_std)              # 予測実行\n",
    "print(\"y_pred(予測値)：\", y_pred3)"
   ]
  },
  {
   "cell_type": "code",
   "execution_count": 32,
   "metadata": {},
   "outputs": [
    {
     "name": "stdout",
     "output_type": "stream",
     "text": [
      "正解率: 0.92\n",
      "適合率 1.0\n",
      "再現率 0.8461538461538461\n",
      "F値 0.9166666666666666\n"
     ]
    }
   ],
   "source": [
    "# 正解率\n",
    "print('正解率:',metrics.accuracy_score(y_test, y_pred3))\n",
    "\n",
    "# 適合率\n",
    "print(\"適合率\", metrics.precision_score(y_test, y_pred3))\n",
    "\n",
    "#再現率\n",
    "print('再現率', metrics.recall_score(y_test, y_pred3))\n",
    "\n",
    "# F値\n",
    "print('F値', metrics.f1_score(y_test, y_pred3))"
   ]
  },
  {
   "cell_type": "code",
   "execution_count": 33,
   "metadata": {},
   "outputs": [
    {
     "data": {
      "image/png": "[encoded data removed]",
      "text/plain": [
       "<Figure size 432x288 with 1 Axes>"
      ]
     },
     "metadata": {},
     "output_type": "display_data"
    }
   ],
   "source": [
    "decision_region(X_train_std, y_train, svm)"
   ]
  },
  {
   "cell_type": "markdown",
   "metadata": {},
   "source": [
    "# 決定木"
   ]
  },
  {
   "cell_type": "code",
   "execution_count": 34,
   "metadata": {},
   "outputs": [
    {
     "data": {
      "text/plain": [
       "DecisionTreeClassifier(ccp_alpha=0.0, class_weight=None, criterion='gini',\n",
       "                       max_depth=None, max_features=None, max_leaf_nodes=None,\n",
       "                       min_impurity_decrease=0.0, min_impurity_split=None,\n",
       "                       min_samples_leaf=1, min_samples_split=2,\n",
       "                       min_weight_fraction_leaf=0.0, presort='deprecated',\n",
       "                       random_state=0, splitter='best')"
      ]
     },
     "execution_count": 34,
     "metadata": {},
     "output_type": "execute_result"
    }
   ],
   "source": [
    "from sklearn.tree import DecisionTreeClassifier\n",
    "tree = DecisionTreeClassifier(random_state=0)\n",
    "tree.fit(X_train_std, y_train)"
   ]
  },
  {
   "cell_type": "code",
   "execution_count": 35,
   "metadata": {},
   "outputs": [
    {
     "name": "stdout",
     "output_type": "stream",
     "text": [
      "y_pred(予測値)： [1. 2. 1. 2. 2. 2. 1. 2. 2. 2. 2. 2. 2. 1. 2. 1. 2. 1. 2. 1. 1. 2. 1. 2.\n",
      " 1.]\n"
     ]
    }
   ],
   "source": [
    "y_pred4 = tree.predict(X_test_std)              # 予測実行\n",
    "print(\"y_pred(予測値)：\", y_pred4)"
   ]
  },
  {
   "cell_type": "code",
   "execution_count": 36,
   "metadata": {},
   "outputs": [
    {
     "name": "stdout",
     "output_type": "stream",
     "text": [
      "正解率: 0.88\n",
      "適合率 1.0\n",
      "再現率 0.7692307692307693\n",
      "F値 0.8695652173913044\n"
     ]
    }
   ],
   "source": [
    "# 正解率\n",
    "print('正解率:',metrics.accuracy_score(y_test, y_pred4))\n",
    "\n",
    "# 適合率\n",
    "print(\"適合率\", metrics.precision_score(y_test, y_pred4))\n",
    "\n",
    "#再現率\n",
    "print('再現率', metrics.recall_score(y_test, y_pred4))\n",
    "\n",
    "# F値\n",
    "print('F値', metrics.f1_score(y_test, y_pred4))"
   ]
  },
  {
   "cell_type": "code",
   "execution_count": 37,
   "metadata": {},
   "outputs": [
    {
     "data": {
      "image/png": "[encoded data removed]",
      "text/plain": [
       "<Figure size 432x288 with 1 Axes>"
      ]
     },
     "metadata": {},
     "output_type": "display_data"
    }
   ],
   "source": [
    "decision_region(X_train_std, y_train, tree)"
   ]
  },
  {
   "cell_type": "markdown",
   "metadata": {},
   "source": [
    "# ランダムフォレスト"
   ]
  },
  {
   "cell_type": "code",
   "execution_count": 38,
   "metadata": {},
   "outputs": [
    {
     "data": {
      "text/plain": [
       "RandomForestClassifier(bootstrap=True, ccp_alpha=0.0, class_weight=None,\n",
       "                       criterion='gini', max_depth=None, max_features='auto',\n",
       "                       max_leaf_nodes=None, max_samples=None,\n",
       "                       min_impurity_decrease=0.0, min_impurity_split=None,\n",
       "                       min_samples_leaf=1, min_samples_split=2,\n",
       "                       min_weight_fraction_leaf=0.0, n_estimators=100,\n",
       "                       n_jobs=None, oob_score=False, random_state=1, verbose=0,\n",
       "                       warm_start=False)"
      ]
     },
     "execution_count": 38,
     "metadata": {},
     "output_type": "execute_result"
    }
   ],
   "source": [
    "from sklearn.ensemble import RandomForestClassifier\n",
    "forest = RandomForestClassifier(random_state=1)\n",
    "forest.fit(X_train_std, y_train)"
   ]
  },
  {
   "cell_type": "code",
   "execution_count": 39,
   "metadata": {},
   "outputs": [
    {
     "name": "stdout",
     "output_type": "stream",
     "text": [
      "y_pred(予測値)： [1. 2. 2. 2. 2. 2. 1. 2. 2. 2. 2. 2. 2. 1. 1. 1. 2. 1. 2. 1. 1. 2. 1. 2.\n",
      " 1.]\n"
     ]
    }
   ],
   "source": [
    "y_pred5 = forest.predict(X_test_std)              # 予測実行\n",
    "print(\"y_pred(予測値)：\", y_pred5)"
   ]
  },
  {
   "cell_type": "code",
   "execution_count": 40,
   "metadata": {},
   "outputs": [
    {
     "name": "stdout",
     "output_type": "stream",
     "text": [
      "正解率: 0.88\n",
      "適合率 1.0\n",
      "再現率 0.7692307692307693\n",
      "F値 0.8695652173913044\n"
     ]
    }
   ],
   "source": [
    "# 正解率\n",
    "print('正解率:',metrics.accuracy_score(y_test, y_pred5))\n",
    "\n",
    "# 適合率\n",
    "print(\"適合率\", metrics.precision_score(y_test, y_pred5))\n",
    "\n",
    "#再現率\n",
    "print('再現率', metrics.recall_score(y_test, y_pred5))\n",
    "\n",
    "# F値\n",
    "print('F値', metrics.f1_score(y_test, y_pred5))"
   ]
  },
  {
   "cell_type": "code",
   "execution_count": 41,
   "metadata": {},
   "outputs": [
    {
     "data": {
      "image/png": "[encoded data removed]",
      "text/plain": [
       "<Figure size 432x288 with 1 Axes>"
      ]
     },
     "metadata": {},
     "output_type": "display_data"
    }
   ],
   "source": [
    " decision_region(X_train_std, y_train, forest)"
   ]
  },
  {
   "cell_type": "code",
   "execution_count": 42,
   "metadata": {
    "collapsed": true
   },
   "outputs": [],
   "source": [
    "KNN= [metrics.accuracy_score(y_test, y_pred), metrics.precision_score(y_test, y_pred),metrics.recall_score(y_test, y_pred),  metrics.f1_score(y_test, y_pred)]\n",
    "\n",
    "RC = [metrics.accuracy_score(y_test, y_pred2), metrics.precision_score(y_test, y_pred2),metrics.recall_score(y_test, y_pred2),  metrics.f1_score(y_test, y_pred2)]\n",
    "\n",
    "SVM = [metrics.accuracy_score(y_test, y_pred3), metrics.precision_score(y_test, y_pred3),metrics.recall_score(y_test, y_pred3),  metrics.f1_score(y_test, y_pred3)]\n",
    "\n",
    "tree_des = [metrics.accuracy_score(y_test, y_pred4), metrics.precision_score(y_test, y_pred4),metrics.recall_score(y_test, y_pred4),  metrics.f1_score(y_test, y_pred4)]\n",
    "\n",
    "random_forest = [metrics.accuracy_score(y_test, y_pred5), metrics.precision_score(y_test, y_pred5),metrics.recall_score(y_test, y_pred5),  metrics.f1_score(y_test, y_pred5)]\n"
   ]
  },
  {
   "cell_type": "code",
   "execution_count": 43,
   "metadata": {
    "collapsed": true
   },
   "outputs": [],
   "source": [
    "method_df = pd.DataFrame([KNN, RC, SVM, tree_des, random_forest])"
   ]
  },
  {
   "cell_type": "code",
   "execution_count": 44,
   "metadata": {},
   "outputs": [
    {
     "data": {
      "text/html": [
       "<div>\n",
       "<style scoped>\n",
       "    .dataframe tbody tr th:only-of-type {\n",
       "        vertical-align: middle;\n",
       "    }\n",
       "\n",
       "    .dataframe tbody tr th {\n",
       "        vertical-align: top;\n",
       "    }\n",
       "\n",
       "    .dataframe thead th {\n",
       "        text-align: right;\n",
       "    }\n",
       "</style>\n",
       "<table border=\"1\" class=\"dataframe\">\n",
       "  <thead>\n",
       "    <tr style=\"text-align: right;\">\n",
       "      <th></th>\n",
       "      <th>正解率</th>\n",
       "      <th>適合率</th>\n",
       "      <th>再現率</th>\n",
       "      <th>F1値</th>\n",
       "    </tr>\n",
       "  </thead>\n",
       "  <tbody>\n",
       "    <tr>\n",
       "      <th>KNN</th>\n",
       "      <td>0.88</td>\n",
       "      <td>1.0</td>\n",
       "      <td>0.769231</td>\n",
       "      <td>0.869565</td>\n",
       "    </tr>\n",
       "    <tr>\n",
       "      <th>ロジスティック回帰</th>\n",
       "      <td>0.92</td>\n",
       "      <td>1.0</td>\n",
       "      <td>0.846154</td>\n",
       "      <td>0.916667</td>\n",
       "    </tr>\n",
       "    <tr>\n",
       "      <th>SVM</th>\n",
       "      <td>0.92</td>\n",
       "      <td>1.0</td>\n",
       "      <td>0.846154</td>\n",
       "      <td>0.916667</td>\n",
       "    </tr>\n",
       "    <tr>\n",
       "      <th>決定木</th>\n",
       "      <td>0.88</td>\n",
       "      <td>1.0</td>\n",
       "      <td>0.769231</td>\n",
       "      <td>0.869565</td>\n",
       "    </tr>\n",
       "    <tr>\n",
       "      <th>ランダムフォレスト</th>\n",
       "      <td>0.88</td>\n",
       "      <td>1.0</td>\n",
       "      <td>0.769231</td>\n",
       "      <td>0.869565</td>\n",
       "    </tr>\n",
       "  </tbody>\n",
       "</table>\n",
       "</div>"
      ],
      "text/plain": [
       "            正解率  適合率       再現率       F1値\n",
       "KNN        0.88  1.0  0.769231  0.869565\n",
       "ロジスティック回帰  0.92  1.0  0.846154  0.916667\n",
       "SVM        0.92  1.0  0.846154  0.916667\n",
       "決定木        0.88  1.0  0.769231  0.869565\n",
       "ランダムフォレスト  0.88  1.0  0.769231  0.869565"
      ]
     },
     "metadata": {},
     "output_type": "display_data"
    }
   ],
   "source": [
    "method_df.columns = ['正解率','適合率','再現率','F1値']\n",
    "method_df.index = [\"KNN\",\"ロジスティック回帰\",\"SVM\",\"決定木\",\"ランダムフォレスト\"]\n",
    "\n",
    "display(method_df)"
   ]
  },
  {
   "cell_type": "markdown",
   "metadata": {},
   "source": [
    "今回の各手法での判別結果では線形に分割ができるロジスティック回帰とサポートベクターマシーンの正解率含め全ての指標で高い結果となった。２値分類で線形に分割できるものはこの2つの手法がもっとも適当なのかもしれない。"
   ]
  },
  {
   "cell_type": "code",
   "execution_count": null,
   "metadata": {
    "collapsed": true
   },
   "outputs": [],
   "source": []
  }
 ],
 "metadata": {
  "kernelspec": {
   "display_name": "Python 3",
   "language": "python",
   "name": "python3"
  },
  "language_info": {
   "codemirror_mode": {
    "name": "ipython",
    "version": 3
   },
   "file_extension": ".py",
   "mimetype": "text/x-python",
   "name": "python",
   "nbconvert_exporter": "python",
   "pygments_lexer": "ipython3",
   "version": "3.6.3"
  }
 },
 "nbformat": 4,
 "nbformat_minor": 2
}
