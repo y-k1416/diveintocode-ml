{
 "cells": [
  {
   "cell_type": "code",
   "execution_count": 29,
   "metadata": {
    "collapsed": true
   },
   "outputs": [],
   "source": [
    "import numpy as np\n",
    "a_ndarray = np.array([[-1, 2, 3], [4, -5, 6], [7, 8, -9]])\n",
    "b_ndarray = np.array([[0, 2, 1], [0, 2, -8], [2, 9, -1]])"
   ]
  },
  {
   "cell_type": "markdown",
   "metadata": {},
   "source": [
    "# 【問題1】行列積を手計算する\n",
    "AとBの行列積を手計算で解いてください。\n",
    "\n",
    "計算過程もマークダウンテキストを用いて説明してください。"
   ]
  },
  {
   "cell_type": "markdown",
   "metadata": {},
   "source": [
    "## 積の手計算\n",
    "\n",
    "Aの１行目とBの1列目の積 \n",
    "$$\n",
    "    A_0{_0} B_0{_0} + A_0{_1}  B_1{_0}+ A_0{_2} B_2{_0}= 6\n",
    "$$\n",
    "Aの１行目とBの2列目の積 \n",
    "$$\n",
    "    A_0{_0} B_0{_1} + A_0{_1}  B_1{_1}+ A_0{_2} B_2{_1}= 29\n",
    "$$\n",
    "Aの１行目とBの3列目の積 \n",
    "$$\n",
    "    A_0{_0} B_0{_2} + A_0{_1}  B_1{_2}+ A_0{_2} B_2{_2}= -20\n",
    "$$\n",
    "Aの2行目とBの1列目の積 \n",
    "$$\n",
    "    A_1{_0} B_0{_0} + A_1{_1}  B_1{_0}+ A_1{_2} B_2{_0}= 12\n",
    "$$\n",
    "Aの2行目とBの2列目の積 \n",
    "$$\n",
    "    A_1{_0} B_0{_1} + A_1{_0}  B_1{_1}+ A_0{_2} B_2{_1}= 52\n",
    "$$\n",
    "Aの2行目とBの3列目の積 \n",
    "$$\n",
    "    A_1{_0} B_0{_2} + A_1{_1}  B_1{_2}+ A_1{_2} B_2{_2}= 38\n",
    "$$\n",
    "Aの3行目とBの1列目の積 \n",
    "$$\n",
    "    A_2{_0} B_0{_0} + A_2{_1}  B_1{_0}+ A_2{_2} B_2{_0}= -18\n",
    "$$\n",
    "Aの3行目とBの2列目の積 \n",
    "$$\n",
    "    A_2{_0} B_0{_1} + A_2{_1}  B_1{_1}+ A_2{_2} B_2{_1}= -51\n",
    "$$\n",
    "Aの3行目とBの3列目の積 \n",
    "$$\n",
    "    A_2{_0} B_0{_2} + A_2{_1}  B_1{_2}+ A_2{_2} B_2{_2}= -48\n",
    "$$\n",
    "\n",
    "３＊３の行列Cに求めた値を入れる\n",
    "$$\n",
    "    \\boldsymbol{C} =\n",
    "        \\left[\\begin{array}{c|cc}\n",
    "            % 横並びは&を挟む\n",
    "            6 & 29 & -20 \\\\\n",
    "            12 & 52 & 38 \\\\\n",
    "            -18 & -51 & -48 \\\\\n",
    "        \\end{array}\\right] \\quad\n",
    "$$"
   ]
  },
  {
   "cell_type": "markdown",
   "metadata": {},
   "source": [
    "# 【問題2】NumPyの関数による計算\n",
    "この行列積はNumPyのnp.matmul()やnp.dot()、または@演算子を使うことで簡単に計算できます。"
   ]
  },
  {
   "cell_type": "code",
   "execution_count": 30,
   "metadata": {},
   "outputs": [
    {
     "data": {
      "text/plain": [
       "array([[  6,  29, -20],\n",
       "       [ 12,  52,  38],\n",
       "       [-18, -51, -48]])"
      ]
     },
     "execution_count": 30,
     "metadata": {},
     "output_type": "execute_result"
    }
   ],
   "source": [
    "a = np.dot(a_ndarray, b_ndarray)\n",
    "a"
   ]
  },
  {
   "cell_type": "code",
   "execution_count": 31,
   "metadata": {},
   "outputs": [
    {
     "data": {
      "text/plain": [
       "array([[  6,  29, -20],\n",
       "       [ 12,  52,  38],\n",
       "       [-18, -51, -48]])"
      ]
     },
     "execution_count": 31,
     "metadata": {},
     "output_type": "execute_result"
    }
   ],
   "source": [
    "b = np.array(a_ndarray @ b_ndarray)\n",
    "b"
   ]
  },
  {
   "cell_type": "code",
   "execution_count": 32,
   "metadata": {},
   "outputs": [
    {
     "data": {
      "text/plain": [
       "array([[  6,  29, -20],\n",
       "       [ 12,  52,  38],\n",
       "       [-18, -51, -48]])"
      ]
     },
     "execution_count": 32,
     "metadata": {},
     "output_type": "execute_result"
    }
   ],
   "source": [
    "c = np.matmul(a_ndarray, b_ndarray)\n",
    "c"
   ]
  },
  {
   "cell_type": "markdown",
   "metadata": {},
   "source": [
    "# 【問題3】ある要素の計算を実装\n",
    "np.matmul()やnp.dot()、または@演算子を使わずに、手計算で行った計算過程をNumPyによるスクラッチ実装で再現していきましょう。これにより、行列積の計算に対する理解を深めます。ここで考えるのは行列AとBのような次元が2の配列に限定します。"
   ]
  },
  {
   "cell_type": "code",
   "execution_count": 33,
   "metadata": {},
   "outputs": [
    {
     "name": "stdout",
     "output_type": "stream",
     "text": [
      "6\n",
      "29\n",
      "-20\n",
      "12\n",
      "52\n",
      "38\n",
      "-18\n",
      "-51\n",
      "-48\n"
     ]
    }
   ],
   "source": [
    "# 行列Cの各要素ごとの計算結果\n",
    "a = a_ndarray\n",
    "b = b_ndarray\n",
    "\n",
    "for i in range(a.shape[0]):\n",
    "    for j in range(a.shape[1]):\n",
    "        c = 0                                                   # Cの各要素を計算するためにcを初期化\n",
    "        for k in range(b.shape[1]):\n",
    "            c += a[i, k] * b[k, j]\n",
    "        print(c)"
   ]
  },
  {
   "cell_type": "markdown",
   "metadata": {},
   "source": [
    "# 【問題4】行列積を行う関数の作成\n",
    "問題3のコードを拡張し、行列積のスクラッチ実装を完成させてください。行列AとBを引数に受け取り、行列積を返す関数としてください。"
   ]
  },
  {
   "cell_type": "code",
   "execution_count": 49,
   "metadata": {},
   "outputs": [],
   "source": [
    "def dot1(a,b):\n",
    "    \"\"\"\n",
    "    parameter\n",
    "    -------------------\n",
    "    a: array\n",
    "        行列A\n",
    "    b: array\n",
    "        行列B\n",
    "    -------------------\n",
    "    \"\"\"\n",
    "    n = a.shape[0]\n",
    "    m = a.shape[1]# 行列Aの列の数\n",
    "    l = b.shape[1]# 行列Bの列の数\n",
    "    r = np.empty((n, l))#　空の行列Cを作成\n",
    "    for i in range(n):\n",
    "        for j in range(l):\n",
    "            c=0.0\n",
    "            for k in range(m):\n",
    "                c+=a[i,k]*b[k,j]\n",
    "            r[i,j]= c \n",
    "    return r"
   ]
  },
  {
   "cell_type": "code",
   "execution_count": 35,
   "metadata": {},
   "outputs": [
    {
     "data": {
      "text/plain": [
       "array([[  6.,  29., -20.],\n",
       "       [ 12.,  52.,  38.],\n",
       "       [-18., -51., -48.]])"
      ]
     },
     "execution_count": 35,
     "metadata": {},
     "output_type": "execute_result"
    }
   ],
   "source": [
    "dot1(a_ndarray, b_ndarray)"
   ]
  },
  {
   "cell_type": "markdown",
   "metadata": {},
   "source": [
    "# 【問題5】計算が定義されない入力を判定する\n",
    "問題4で作成した関数は、実装方法によってはこのDとEの配列を入力しても動いてしまう可能性があります。この場合、不適切な計算が行われることになります。また、途中でエラーになる場合でも、なぜエラーになったかが直接的には分かりづらいメッセージが表示されます。\n",
    "\n",
    "if文などによってこれを防ぎ、入力される形に問題があることをprint()を使い表示するコードを書き加えてください。"
   ]
  },
  {
   "cell_type": "code",
   "execution_count": 36,
   "metadata": {
    "collapsed": true
   },
   "outputs": [],
   "source": [
    "d_ndarray = np.array([[-1, 2, 3], [4, -5, 6]])\n",
    "e_ndarray = np.array([[-9, 8, 7], [6, -5, 4]])"
   ]
  },
  {
   "cell_type": "code",
   "execution_count": 51,
   "metadata": {},
   "outputs": [],
   "source": [
    "def dot2(a,b):\n",
    "    n = a.shape[0]\n",
    "    m= a.shape[1]\n",
    "    l = b.shape[1]\n",
    "    o = b.shape[0]#　行列bの行の数\n",
    "    \n",
    "    # aの列数とbの行数が同じか判定\n",
    "    if m == o: \n",
    "        r = np.empty((n, l))\n",
    "        for i in range(n):\n",
    "            for j in range(l):\n",
    "                c=0.0\n",
    "                for k in range(m):\n",
    "                    c+=a[i,k]*b[k,j]\n",
    "                r[i,j]= c \n",
    "        return r\n",
    "    else:\n",
    "        print('この行列積はサイズが違うので計算できません')"
   ]
  },
  {
   "cell_type": "code",
   "execution_count": 52,
   "metadata": {},
   "outputs": [
    {
     "name": "stdout",
     "output_type": "stream",
     "text": [
      "この行列積はサイズが違うので計算できません\n"
     ]
    }
   ],
   "source": [
    "dot2(d_ndarray, e_ndarray)"
   ]
  },
  {
   "cell_type": "markdown",
   "metadata": {},
   "source": [
    "# 【問題6】転置\n",
    "片方の行列を転置することで、行列積が計算できるようになります。\n",
    "\n",
    "np.transpose()や.Tアトリビュートを用いて転置し、行列積を計算してください。"
   ]
  },
  {
   "cell_type": "code",
   "execution_count": 39,
   "metadata": {},
   "outputs": [
    {
     "data": {
      "text/plain": [
       "array([[ 46.,  -4.],\n",
       "       [-34.,  73.]])"
      ]
     },
     "execution_count": 39,
     "metadata": {},
     "output_type": "execute_result"
    }
   ],
   "source": [
    "dot2(d_ndarray, e_ndarray.T)"
   ]
  },
  {
   "cell_type": "code",
   "execution_count": null,
   "metadata": {
    "collapsed": true
   },
   "outputs": [],
   "source": []
  }
 ],
 "metadata": {
  "kernelspec": {
   "display_name": "Python 3",
   "language": "python",
   "name": "python3"
  },
  "language_info": {
   "codemirror_mode": {
    "name": "ipython",
    "version": 3
   },
   "file_extension": ".py",
   "mimetype": "text/x-python",
   "name": "python",
   "nbconvert_exporter": "python",
   "pygments_lexer": "ipython3",
   "version": "3.6.3"
  }
 },
 "nbformat": 4,
 "nbformat_minor": 2
}
