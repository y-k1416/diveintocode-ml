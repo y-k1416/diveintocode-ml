{
 "cells": [
  {
   "cell_type": "markdown",
   "metadata": {},
   "source": [
    "# 【問題1】富士山を超える最小の折る回数"
   ]
  },
  {
   "cell_type": "code",
   "execution_count": 27,
   "metadata": {},
   "outputs": [
    {
     "name": "stdout",
     "output_type": "stream",
     "text": [
      "27\n"
     ]
    }
   ],
   "source": [
    "THICKNESS = 0.00008\n",
    "folded_thickness = 0\n",
    "folded_count = 0\n",
    "MT_FUJI = 3776\n",
    "a = 1\n",
    "\n",
    "# forを利用した場合\n",
    "for i in range(1, 51):\n",
    "    if folded_thickness <= MT_FUJI:\n",
    "        folded_thickness = THICKNESS * a\n",
    "        a *= 2\n",
    "        folded_count += 1\n",
    "    else:\n",
    "        break\n",
    "    \n",
    "print(folded_count)\n",
    "        "
   ]
  },
  {
   "cell_type": "code",
   "execution_count": 28,
   "metadata": {},
   "outputs": [
    {
     "name": "stdout",
     "output_type": "stream",
     "text": [
      "富士山を超えました\n",
      "27\n"
     ]
    }
   ],
   "source": [
    "# whileを利用した場合\n",
    "while True:\n",
    "    if folded_thickness <= MT_FUJI:\n",
    "        folded_thickness = THICKNESS * a\n",
    "        a *= 2\n",
    "        folded_count += 1\n",
    "    else:\n",
    "        print('富士山を超えました')\n",
    "        break\n",
    "        \n",
    "print(folded_count)"
   ]
  },
  {
   "cell_type": "markdown",
   "metadata": {},
   "source": [
    "# 【問題2】任意の厚さに対応した関数を作成"
   ]
  },
  {
   "cell_type": "code",
   "execution_count": 37,
   "metadata": {},
   "outputs": [
    {
     "name": "stdout",
     "output_type": "stream",
     "text": [
      "27回\n"
     ]
    }
   ],
   "source": [
    "def distance_folded(distance, t0):\n",
    "    \"\"\"\n",
    "    任意の距離と任意の紙の厚さから、入力された髪の厚さを何回折ったら任意の距離に届くか求める\n",
    "    \n",
    "    Parameter\n",
    "    -------------------------\n",
    "    distance: int\n",
    "        任意の距離\n",
    "    \n",
    "    t0: int\n",
    "        紙の厚さ\n",
    "    \n",
    "    folded_thickness: int\n",
    "        織り込んだ回数の厚さの初期値\n",
    "    \n",
    "    folded_count: int\n",
    "        織り込んだ回数の初期値\n",
    "        \n",
    "    \"\"\"\n",
    "    folded_thickness = 0\n",
    "    folded_count = 0\n",
    "    a = 1\n",
    "    \n",
    "    while True:\n",
    "        if folded_thickness <= distance:  # 折った厚みが距離を超えるまで処理\n",
    "            folded_thickness = t0 * a\n",
    "            a *= 2\n",
    "            folded_count += 1\n",
    "        else:\n",
    "            break\n",
    "            \n",
    "    return folded_count, t0\n",
    "\n",
    "folded_count, t0 = distance_folded(3776, 0.00008)\n",
    "\n",
    "print(folded_count,'回', sep='')\n"
   ]
  },
  {
   "cell_type": "markdown",
   "metadata": {},
   "source": [
    "# 【問題3】必要な紙の長さ"
   ]
  },
  {
   "cell_type": "code",
   "execution_count": 38,
   "metadata": {
    "collapsed": true
   },
   "outputs": [],
   "source": [
    "import numpy as np\n",
    "\n",
    "def paper_long(x, y):\n",
    "    \"\"\"\n",
    "    prameter\n",
    "    ----------------------------\n",
    "    n: int\n",
    "    折った回数n\n",
    "    \n",
    "    t0: int\n",
    "    紙の厚さ\n",
    "    \"\"\"\n",
    "    n, t0 = distance_folded(x, y)\n",
    "    L = (np.pi * t0 ) * (2**n + 4) * (2**n -1) / 6\n",
    "    return L\n"
   ]
  },
  {
   "cell_type": "code",
   "execution_count": 39,
   "metadata": {},
   "outputs": [
    {
     "data": {
      "text/plain": [
       "754585377082.664"
      ]
     },
     "execution_count": 39,
     "metadata": {},
     "output_type": "execute_result"
    }
   ],
   "source": [
    "# 富士山までに必要な紙の長さ\n",
    "paper_long(3776, 0.00008)"
   ]
  },
  {
   "cell_type": "code",
   "execution_count": 42,
   "metadata": {},
   "outputs": [
    {
     "data": {
      "text/plain": [
       "5.063936631528935e+19"
      ]
     },
     "execution_count": 42,
     "metadata": {},
     "output_type": "execute_result"
    }
   ],
   "source": [
    "# 月までに必要な紙の長さ\n",
    "paper_long(35000000 , 0.00008)"
   ]
  },
  {
   "cell_type": "code",
   "execution_count": 43,
   "metadata": {},
   "outputs": [
    {
     "data": {
      "text/plain": [
       "2.025574652608811e+20"
      ]
     },
     "execution_count": 43,
     "metadata": {},
     "output_type": "execute_result"
    }
   ],
   "source": [
    "# 火星までに必要な紙の長さ\n",
    "paper_long(65000000, 0.00008)"
   ]
  },
  {
   "cell_type": "code",
   "execution_count": null,
   "metadata": {
    "collapsed": true
   },
   "outputs": [],
   "source": []
  }
 ],
 "metadata": {
  "kernelspec": {
   "display_name": "Python 3",
   "language": "python",
   "name": "python3"
  },
  "language_info": {
   "codemirror_mode": {
    "name": "ipython",
    "version": 3
   },
   "file_extension": ".py",
   "mimetype": "text/x-python",
   "name": "python",
   "nbconvert_exporter": "python",
   "pygments_lexer": "ipython3",
   "version": "3.6.3"
  }
 },
 "nbformat": 4,
 "nbformat_minor": 2
}
