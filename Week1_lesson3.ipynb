{
 "cells": [
  {
   "cell_type": "markdown",
   "metadata": {},
   "source": [
    "# 【問題】栗まんじゅうが太陽系を覆う日"
   ]
  },
  {
   "cell_type": "code",
   "execution_count": 15,
   "metadata": {
    "collapsed": true
   },
   "outputs": [],
   "source": [
    "import numpy as np\n",
    "import matplotlib.pyplot as plt"
   ]
  },
  {
   "cell_type": "code",
   "execution_count": 39,
   "metadata": {},
   "outputs": [],
   "source": [
    "#x体積がいつy体積超えるか関数\n",
    "def baibaiin_time(x, y):\n",
    "    '''\n",
    "    parameter\n",
    "    ------------------\n",
    "    x: int\n",
    "    饅頭体積\n",
    "    y:int\n",
    "    宇宙体積\n",
    "    '''\n",
    "    list_n_volume = []\n",
    "    list_n_time = []\n",
    "    time = 0 #時間の初期化\n",
    "    \n",
    "    while True:\n",
    "        volume = x * 2 **(time/5) # 五分経過毎の饅頭体積\n",
    "        list_n_volume.append(volume)\n",
    "        # x体積がy体積超えた時の処理\n",
    "        if  volume > y:\n",
    "            time += 5\n",
    "            list_n_time.append(time)\n",
    "            return time, volume , list_n_time, list_n_volume\n",
    "            break\n",
    "        \n",
    "        #　x体積がy体積超えなかった場合、五分追加\n",
    "        time += 5\n",
    "        list_n_time.append(time)\n",
    " "
   ]
  },
  {
   "cell_type": "code",
   "execution_count": 44,
   "metadata": {},
   "outputs": [
    {
     "name": "stdout",
     "output_type": "stream",
     "text": [
      "1310分で一杯になりました。\n"
     ]
    }
   ],
   "source": [
    "# 宇宙の体積\n",
    "n = 3 * 10**80\n",
    "\n",
    "time, volume, list_n_time, list_n_volume = baibaiin_time(100, n)\n",
    "print(time, \"分で一杯になりました。\", sep='')\n"
   ]
  },
  {
   "cell_type": "code",
   "execution_count": 51,
   "metadata": {},
   "outputs": [
    {
     "data": {
      "image/png": "[encoded data removed]",
      "text/plain": [
       "<Figure size 432x288 with 1 Axes>"
      ]
     },
     "metadata": {},
     "output_type": "display_data"
    }
   ],
   "source": [
    "x = np.array(list_n_time)\n",
    "y = np.array(list_n_volume)\n",
    "plt.title(\"baibain\")\n",
    "plt.xlabel(\"time\")\n",
    "plt.ylabel(\"volume\")\n",
    "plt.plot(x, y) \n",
    "plt.show()"
   ]
  },
  {
   "cell_type": "code",
   "execution_count": 52,
   "metadata": {},
   "outputs": [
    {
     "name": "stdout",
     "output_type": "stream",
     "text": [
      "125分で一杯になりました。\n"
     ]
    },
    {
     "data": {
      "image/png": "[encoded data removed]",
      "text/plain": [
       "<Figure size 432x288 with 1 Axes>"
      ]
     },
     "metadata": {},
     "output_type": "display_data"
    }
   ],
   "source": [
    "# 東京ドーム体積\n",
    "n = 1240000000\n",
    "\n",
    "time, volume, list_n_time, list_n_volume = baibaiin_time(100, n)\n",
    "print(time, \"分で一杯になりました。\", sep='')\n",
    "\n",
    "x = np.array(list_n_time)\n",
    "y = np.array(list_n_volume)\n",
    "plt.title(\"baibain\")\n",
    "plt.xlabel(\"time\")\n",
    "plt.ylabel(\"volume\")\n",
    "plt.plot(x, y) \n",
    "plt.show()"
   ]
  },
  {
   "cell_type": "code",
   "execution_count": null,
   "metadata": {
    "collapsed": true
   },
   "outputs": [],
   "source": []
  }
 ],
 "metadata": {
  "kernelspec": {
   "display_name": "Python 3",
   "language": "python",
   "name": "python3"
  },
  "language_info": {
   "codemirror_mode": {
    "name": "ipython",
    "version": 3
   },
   "file_extension": ".py",
   "mimetype": "text/x-python",
   "name": "python",
   "nbconvert_exporter": "python",
   "pygments_lexer": "ipython3",
   "version": "3.6.3"
  }
 },
 "nbformat": 4,
 "nbformat_minor": 2
}
