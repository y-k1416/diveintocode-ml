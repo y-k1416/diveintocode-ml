{
 "cells": [
  {
   "cell_type": "code",
   "execution_count": 1,
   "metadata": {},
   "outputs": [],
   "source": [
    "import numpy as np\n",
    "import pandas as pd\n",
    "import matplotlib.pyplot as plt\n"
   ]
  },
  {
   "cell_type": "code",
   "execution_count": 2,
   "metadata": {},
   "outputs": [],
   "source": [
    "import numpy as np\n",
    "np.random.seed(seed=0)\n",
    "n_samples = 300\n",
    "f0 = [-1, 2]\n",
    "f1 = [2, -1]\n",
    "cov = [[1.0,0.8], [0.8, 1.0]]\n",
    "f0 = np.random.multivariate_normal(f0, cov, int(n_samples/2))\n",
    "f1 = np.random.multivariate_normal(f1, cov, int(n_samples/2))\n",
    "X = np.concatenate((f0, f1))\n",
    "y = np.concatenate((np.ones((int(n_samples/2))), np.ones((int(n_samples/2))) *(0))).astype(np.int)\n",
    "random_index = np.random.permutation(np.arange(n_samples))\n",
    "X = X[random_index]\n",
    "y = y[random_index]"
   ]
  },
  {
   "cell_type": "code",
   "execution_count": 3,
   "metadata": {},
   "outputs": [
    {
     "data": {
      "text/plain": [
       "<matplotlib.collections.PathCollection at 0x11332d790>"
      ]
     },
     "execution_count": 3,
     "metadata": {},
     "output_type": "execute_result"
    },
    {
     "data": {
      "image/png": "[encoded data removed]",
      "text/plain": [
       "<Figure size 432x288 with 1 Axes>"
      ]
     },
     "metadata": {
      "needs_background": "light"
     },
     "output_type": "display_data"
    }
   ],
   "source": [
    "plt.scatter(f0[:, 0], f0[:, 1])\n",
    "plt.scatter(f1[:, 0], f1[:, 1])"
   ]
  },
  {
   "cell_type": "code",
   "execution_count": 4,
   "metadata": {},
   "outputs": [],
   "source": [
    "from sklearn.model_selection import train_test_split\n",
    "X_train, X_val, y_train, y_val = train_test_split(X, y, test_size=0.2, random_state=0)"
   ]
  },
  {
   "cell_type": "markdown",
   "metadata": {},
   "source": [
    "# 【問題1】不純度を求める関数\n",
    "ノード の ジニ不純度 を計算する関数を作成してください。ノード \n",
    "tに対するジニ不純度 I(t)\n",
    " は以下の数式で求まります。クラスが混じり合っているほどジニ不純度は高くなります。"
   ]
  },
  {
   "cell_type": "code",
   "execution_count": 5,
   "metadata": {},
   "outputs": [
    {
     "data": {
      "text/plain": [
       "0.6666666666666667"
      ]
     },
     "execution_count": 5,
     "metadata": {},
     "output_type": "execute_result"
    }
   ],
   "source": [
    "1 - ((15/45)**2+ (15/45)**2 + (15/45)**2)"
   ]
  },
  {
   "cell_type": "code",
   "execution_count": 6,
   "metadata": {},
   "outputs": [],
   "source": [
    "def gini_s(div):\n",
    "    \"\"\"\n",
    "    ジニ係数求める式\n",
    "    ーーーーーーーーーーーーー\n",
    "    \"\"\"\n",
    "    #　データの総数\n",
    "    m = len(div[0])+ len(div[1])\n",
    "    score=0\n",
    "    for i in range(len(div)):\n",
    "        try:\n",
    "            p = len(div[i])/ m\n",
    "            score += p**2\n",
    "        except ZeroDivisionError:\n",
    "            score += 0\n",
    "        gini = 1- score\n",
    "            \n",
    "    return gini"
   ]
  },
  {
   "cell_type": "markdown",
   "metadata": {},
   "source": [
    "# 【問題2】情報利得を求める関数\n",
    "次に、ノード間の 情報利得 を計算する関数を作成してください。問題1で作成したジニ不純度 \n",
    "I(t)を計算する関数を呼び出して使います。情報利得IG\n",
    "は以下の数式で求まります。うまく分けられている時ほど情報利得は大きくなります。"
   ]
  },
  {
   "cell_type": "code",
   "execution_count": 7,
   "metadata": {},
   "outputs": [],
   "source": [
    "div_X = [X_train[X_train[:, 0] >= X_train[0,0]], X_train[X_train[:, 0] < X_train[0,0]]]\n",
    "for i in range(len(div_X)):\n",
    "    if i == 0:\n",
    "        X1 = div_X[i][div_X[i][:,i] >= div_X[i][1,0]]\n",
    "        X2 = div_X[i][div_X[i][:,i] < div_X[i][1,0]]\n",
    "    else:\n",
    "        Y1 = div_X[i][div_X[i][:,i] >= div_X[i][1,0]]\n",
    "        Y2 = div_X[i][div_X[i][:,i] < div_X[i][1,0]]\n",
    "\n",
    "# 左ノード\n",
    "X = [X1, X2]\n",
    "# 右ノード\n",
    "Y = [Y1, Y2]"
   ]
  },
  {
   "cell_type": "code",
   "execution_count": 8,
   "metadata": {},
   "outputs": [],
   "source": [
    "def information_profit(P, left, right):\n",
    "    n_all = len(P[0])+ len(P[1]) \n",
    "    I_P = gini_s(P)\n",
    "    I_left = gini_s(left)\n",
    "    left_all = len(left[0]) + len(left[1])\n",
    "    I_right = gini_s(right)\n",
    "    right_all = len(right[0]) + len(right[1])  \n",
    "\n",
    "    lef = (left_all / n_all ) * I_left\n",
    "    rig = (right_all / n_all) * I_right\n",
    "    GI = I_P - (lef + rig)\n",
    "    return GI"
   ]
  },
  {
   "cell_type": "code",
   "execution_count": 9,
   "metadata": {},
   "outputs": [
    {
     "data": {
      "text/plain": [
       "0.1148350694444443"
      ]
     },
     "execution_count": 9,
     "metadata": {},
     "output_type": "execute_result"
    }
   ],
   "source": [
    "information_profit(div_X, X,Y)"
   ]
  },
  {
   "cell_type": "markdown",
   "metadata": {},
   "source": [
    "# 【問題3】学習\n",
    "空間の分割を行い、決定木のグラフを生成するコードを作成してください。今は深さ1の決定木なので、分割を1回だけ行います。ここでグラフを生成するとは、1回の分割の際の条件としてどの特徴量がいくつ以上の時とするかを求めるということです。\n",
    "\n",
    "\n",
    "訓練データに対して全ての組み合わせの分割を行い、その中でノード間の情報利得が最大となる分割をそのノードの分割基準として記録します。\n",
    "\n",
    "\n",
    "クラスが混ざらない不純度が0のノード、または指定された深さのノードが 葉ノード となります。葉ノードにはクラスを記録しておき、これを推定時に分類するクラスとします。クラスが混ざらない場合はそのままのクラスを記録し、混ざっている場合は多数決により決めます。"
   ]
  },
  {
   "cell_type": "code",
   "execution_count": 10,
   "metadata": {},
   "outputs": [
    {
     "name": "stdout",
     "output_type": "stream",
     "text": [
      "[ベストGIスコア]: 0.5 [ベストスコアの特徴量]： 0.5069842444056742 [ベストスコアのインデックス]： 56\n"
     ]
    }
   ],
   "source": [
    "GI_max = 0\n",
    "\n",
    "X_idx = X_train.shape[1]\n",
    "feature_idx = 0\n",
    "for i in range(X_idx):\n",
    "    count = 0\n",
    "    value = X_train[:, i]\n",
    "    for val in value:\n",
    "        div_X = [X_train[X_train[:, i]>=val],X_train[X_train[:, i] < val]]\n",
    "        L0, L1 = [div_X[0][div_X[0][:, i]>=val],div_X[0][div_X[0][:, i] < val]]\n",
    "        R0, R1 = [div_X[1][div_X[1][:, i]>=val],div_X[1][div_X[1][:, i] < val]]\n",
    "        L = L0, L1\n",
    "        R = R0, R1 \n",
    "        \n",
    "        GI = information_profit(div_X, L, R)\n",
    "        if GI_max < GI:\n",
    "            GI_max = GI\n",
    "            best_thrs = val\n",
    "            best_f = count\n",
    "        count += 1\n",
    "        \n",
    "    feature_idx += 1\n",
    "print(\"[ベストGIスコア]:\",GI_max,\"[ベストスコアの特徴量]：\", best_thrs, \"[ベストスコアのインデックス]：\",best_f)"
   ]
  },
  {
   "cell_type": "code",
   "execution_count": 11,
   "metadata": {},
   "outputs": [
    {
     "data": {
      "text/plain": [
       "array([ 2.99630953, -0.2720525 ])"
      ]
     },
     "execution_count": 11,
     "metadata": {},
     "output_type": "execute_result"
    }
   ],
   "source": [
    "X_train[239]"
   ]
  },
  {
   "cell_type": "code",
   "execution_count": 12,
   "metadata": {},
   "outputs": [
    {
     "data": {
      "text/plain": [
       "array([-1.16513883, -0.53695299,  3.39914935, -2.43460308, -1.21773886,\n",
       "       -1.7604608 , -1.69044419,  0.77721928, -0.17684562,  2.62947558,\n",
       "       -1.15875379, -1.72731635, -1.70237362,  0.23534918, -0.74353635,\n",
       "       -0.39138336,  3.48849579, -0.57406501, -2.54738211,  0.43738711,\n",
       "       -1.50642737,  0.59835232, -0.01976388, -1.13769654, -2.80006782,\n",
       "       -1.23054341, -0.25744056, -0.44011905,  4.08352182,  0.50698424,\n",
       "        2.93889877, -1.10375132,  0.2270352 , -1.4641828 , -0.26964576,\n",
       "        2.74112327, -2.63714503, -2.91877408, -0.95596327,  0.27362647,\n",
       "        0.31369184, -1.00944756,  0.14206286,  0.27578332, -1.61844165,\n",
       "        3.99770982,  2.70709974,  0.12582021, -0.57337132, -1.5615169 ,\n",
       "       -1.03368808, -0.82930895, -3.47487306,  2.82171675,  3.11922688,\n",
       "       -1.585383  , -1.48113223, -0.5017044 ,  0.46861035, -1.57470303,\n",
       "       -3.29244287, -1.44217612, -0.37124062, -1.99259968,  3.6916582 ,\n",
       "       -0.2835204 ,  0.0162981 , -1.10871442,  3.30006142, -0.99950867,\n",
       "       -1.35893493, -1.09595569, -2.22729008, -1.02691331, -3.05823847,\n",
       "       -2.36031478, -1.59848154, -0.73807132, -1.85346966, -0.31764179,\n",
       "       -0.786333  , -2.35253112, -2.06139126,  0.31731679, -1.59653339,\n",
       "       -2.25044128, -0.24834731, -1.17196563, -0.17950815,  4.23642198,\n",
       "       -0.057358  , -1.03002856, -0.59334945,  3.08774421, -0.61069044,\n",
       "       -0.77976867, -0.72219636, -1.27705618, -1.8741942 ,  4.09164925,\n",
       "       -2.0660989 , -1.00408384,  2.99041916, -1.03192065,  0.30868831,\n",
       "       -1.97439392, -0.69678948,  3.87606107, -2.97889968,  2.12411367,\n",
       "       -1.9283858 ,  4.33097722,  4.46316117, -1.60698852,  3.51958499,\n",
       "        0.02564949,  3.19671909, -1.87575023, -0.71245205,  1.21528645,\n",
       "       -3.0114128 ,  0.03121398,  4.04462479,  0.39434525, -0.25202969,\n",
       "       -0.73586812,  3.56536968, -3.13000578, -0.10126226, -0.27283514,\n",
       "       -0.71938344, -0.48725237, -2.46267867, -0.10446081,  2.23281686,\n",
       "       -1.3122454 , -1.08653152, -0.41766359,  2.37025215, -1.76664555,\n",
       "        0.40019735,  2.99630953])"
      ]
     },
     "execution_count": 12,
     "metadata": {},
     "output_type": "execute_result"
    }
   ],
   "source": [
    "div_X[0][:, 0]"
   ]
  },
  {
   "cell_type": "markdown",
   "metadata": {},
   "source": [
    "# 【問題4】推定\n",
    "推定する仕組みを実装してください。ScratchDecesionTreeClassifierDepth1クラスの雛形に含まれるpredictメソッドに書き加えてください。\n",
    "\n",
    "\n",
    "入力されたデータの値を学習した条件で判定していき、どの葉ノードに到達するかを見ます。葉ノードにはクラスが記録されているので、これが推定値となります。"
   ]
  },
  {
   "cell_type": "code",
   "execution_count": 13,
   "metadata": {},
   "outputs": [],
   "source": [
    "def predict(X):\n",
    "        \"\"\"\n",
    "        決定木分類器を使いラベルを推定する\n",
    "        \"\"\"\n",
    "        pred = []\n",
    "        c = X.shape[0]\n",
    "        for i in range(c):\n",
    "            if X[i][0] >= best_thrs:\n",
    "                pred.append(1)\n",
    "            else:\n",
    "                pred.append(0)\n",
    "        return np.array(pred)"
   ]
  },
  {
   "cell_type": "code",
   "execution_count": 14,
   "metadata": {},
   "outputs": [
    {
     "data": {
      "text/plain": [
       "array([1, 0, 0, 1, 1, 0, 0, 0, 1, 0, 0, 1, 1, 0, 0, 1, 0, 1, 0, 1, 0, 0,\n",
       "       0, 1, 0, 1, 1, 1, 1, 1, 1, 1, 0, 1, 0, 0, 0, 0, 1, 0, 0, 0, 0, 1,\n",
       "       0, 0, 1, 1, 1, 1, 0, 1, 0, 0, 0, 0, 0, 1, 0, 0])"
      ]
     },
     "execution_count": 14,
     "metadata": {},
     "output_type": "execute_result"
    }
   ],
   "source": [
    "predict(X_val)"
   ]
  },
  {
   "cell_type": "markdown",
   "metadata": {},
   "source": [
    "# 最終的なクラス"
   ]
  },
  {
   "cell_type": "code",
   "execution_count": 83,
   "metadata": {},
   "outputs": [],
   "source": [
    "class ScratchDecesionTreeClassifierDepth1():\n",
    "    \"\"\"\n",
    "    深さ1の決定木分類器のスクラッチ実装\n",
    "\n",
    "    Parameters\n",
    "    ----------\n",
    "    verbose : bool\n",
    "      学習過程を出力する場合はTrue\n",
    "    \"\"\"\n",
    "    def __init__(self, verbose=False):\n",
    "        # ハイパーパラメータを属性として記録\n",
    "        self.verbose = verbose\n",
    "    def fit(self, X, y):\n",
    "        \"\"\"\n",
    "        決定木分類器を学習する\n",
    "        Parameters\n",
    "        ----------\n",
    "        X : 次の形のndarray, shape (n_samples, n_features)\n",
    "            学習用データの特徴量\n",
    "        y : 次の形のndarray, shape (n_samples, )\n",
    "            学習用データの正解値\n",
    "        \"\"\"\n",
    "        # ラベルデータ総数\n",
    "        self.m = len(X)\n",
    "        self.GI_max = 0\n",
    "\n",
    "        X_idx = X_train.shape[1]\n",
    "        feature_idx = 0\n",
    "        for i in range(X_idx):\n",
    "            count = 0\n",
    "            value = X_train[:, i]\n",
    "            for val in value:\n",
    "\n",
    "                div_X = [X_train[X_train[:, i]>=val],X_train[X_train[:, i] < val]]\n",
    "                L0, L1 = [div_X[0][div_X[0][:, i]>=val],div_X[0][div_X[0][:, i] < val]]\n",
    "                R0, R1 = [div_X[1][div_X[1][:, i]>=val],div_X[1][div_X[1][:, i] < val]]\n",
    "                \n",
    "                # 左ノードのデータ\n",
    "                L = L0, L1\n",
    "                #右ノードのデータ\n",
    "                R = R0, R1\n",
    "                \n",
    "                # 情報利得求める\n",
    "                GI = self._information_profit(div_X, L, R)\n",
    "                \n",
    "                # 情報利得が最大となる場合の記録更新式\n",
    "                if self.GI_max < GI:\n",
    "                    self.GI_max = GI\n",
    "                    self.best_thrs = val\n",
    "                    self.best_f = count\n",
    "                    \n",
    "                count +=1\n",
    "            feature_idx += 1   \n",
    "        \n",
    "        print(\"[ベストGIスコア]:\",GI_max,\"[ベストスコアの特徴量]：\", best_thrs, \"[ベストスコアのインデックス]：\",best_f)\n",
    "         \n",
    "        \n",
    "        if self.verbose:\n",
    "            #verboseをTrueにした際は学習過程を出力\n",
    "            print()\n",
    "\n",
    "\n",
    "    def _gini_s(self, div):\n",
    "        \"\"\"\n",
    "        ジニ係数求める式\n",
    "        ーーーーーーーーーーーーー\n",
    "        div: 閾値で判定された分割データ\n",
    "        \"\"\"\n",
    "        #　データの総数\n",
    "        m = len(div[0])+ len(div[1])\n",
    "        \n",
    "        #ジニ係数記録用\n",
    "        score=0\n",
    "        \n",
    "        for i in range(len(div)):\n",
    "            #データ０個の場合の例外処理 :0の場合はジニ係数０とする\n",
    "            try:\n",
    "                p = len(div[i])/ m\n",
    "                score += p**2\n",
    "            except ZeroDivisionError:\n",
    "                score += 0\n",
    "            gini = 1- score\n",
    "                \n",
    "        return gini\n",
    "    \n",
    "\n",
    "    def _information_profit(self, P, left, right):\n",
    "        \"\"\"\n",
    "        情報利得求める式\n",
    "        ーーーーーーーーーーーーー\n",
    "        P: 親ノード\n",
    "        left：左ノード\n",
    "        right　右ノード\n",
    "        \"\"\"\n",
    "        n_all = len(P[0])+ len(P[1]) \n",
    "        I_P = self._gini_s(P)\n",
    "        I_left = self._gini_s(left)\n",
    "        left_all = len(left[0]) + len(left[1])\n",
    "        I_right = self._gini_s(right)\n",
    "        right_all = len(right[0]) + len(right[1])  \n",
    "\n",
    "        lef = (left_all / n_all ) * I_left\n",
    "        rig = (right_all / n_all) * I_right\n",
    "        GI = I_P - (lef + rig)\n",
    "        return GI\n",
    "    \n",
    "    \n",
    "    def predict(self, X):\n",
    "            \"\"\"\n",
    "            決定木分類器を使いラベルを推定する\n",
    "            \"\"\"\n",
    "            # 予測データ格納\n",
    "            pred = []\n",
    "            \n",
    "            # 特徴量の数 \n",
    "            c = X.shape[0]\n",
    "            \n",
    "            # 繰り返し処理で特徴量の閾値比較\n",
    "            for i in range(c):\n",
    "                if X[i][0] >= self.best_thrs:\n",
    "                    pred.append(0)\n",
    "                else:\n",
    "                    pred.append(1)\n",
    "                    \n",
    "            return np.array(pred)"
   ]
  },
  {
   "cell_type": "markdown",
   "metadata": {},
   "source": [
    "# 【問題5】学習と推定\n",
    "機械学習スクラッチ入門のSprintで用意したシンプルデータセット2の2値分類に対してスクラッチ実装の学習と推定を行なってください。\n",
    "\n",
    "\n",
    "scikit-learnによる実装と比べ、正しく動いているかを確認してください。\n",
    "\n",
    "\n",
    "AccuracyやPrecision、Recallなどの指標値はscikit-learnを使用してください。"
   ]
  },
  {
   "cell_type": "code",
   "execution_count": 84,
   "metadata": {},
   "outputs": [],
   "source": [
    "SDTC = ScratchDecesionTreeClassifierDepth1()"
   ]
  },
  {
   "cell_type": "code",
   "execution_count": 85,
   "metadata": {},
   "outputs": [
    {
     "name": "stdout",
     "output_type": "stream",
     "text": [
      "[ベストGIスコア]: 0 [ベストスコアの特徴量]： 0.5285833901961039 [ベストスコアのインデックス]： 11\n"
     ]
    }
   ],
   "source": [
    "SDTC.fit(X_train, y_train)"
   ]
  },
  {
   "cell_type": "code",
   "execution_count": 86,
   "metadata": {},
   "outputs": [
    {
     "data": {
      "text/plain": [
       "1"
      ]
     },
     "execution_count": 86,
     "metadata": {},
     "output_type": "execute_result"
    }
   ],
   "source": [
    "y_pred = SDTC.predict(X_val)\n",
    "np.argmax(np.bincount(y_pred))\n"
   ]
  },
  {
   "cell_type": "code",
   "execution_count": 87,
   "metadata": {},
   "outputs": [],
   "source": [
    "from sklearn.metrics import accuracy_score"
   ]
  },
  {
   "cell_type": "code",
   "execution_count": 88,
   "metadata": {},
   "outputs": [
    {
     "data": {
      "text/plain": [
       "0.9833333333333333"
      ]
     },
     "execution_count": 88,
     "metadata": {},
     "output_type": "execute_result"
    }
   ],
   "source": [
    "accuracy_score(y_val, y_pred)"
   ]
  },
  {
   "cell_type": "code",
   "execution_count": 89,
   "metadata": {},
   "outputs": [
    {
     "data": {
      "text/plain": [
       "DecisionTreeClassifier(class_weight=None, criterion='gini', max_depth=1,\n",
       "                       max_features=None, max_leaf_nodes=None,\n",
       "                       min_impurity_decrease=0.0, min_impurity_split=None,\n",
       "                       min_samples_leaf=1, min_samples_split=2,\n",
       "                       min_weight_fraction_leaf=0.0, presort=False,\n",
       "                       random_state=None, splitter='best')"
      ]
     },
     "execution_count": 89,
     "metadata": {},
     "output_type": "execute_result"
    }
   ],
   "source": [
    "from sklearn.tree import DecisionTreeClassifier\n",
    "DTC = DecisionTreeClassifier(max_depth=1)\n",
    "DTC.fit(X_train, y_train)"
   ]
  },
  {
   "cell_type": "code",
   "execution_count": 90,
   "metadata": {},
   "outputs": [
    {
     "data": {
      "text/plain": [
       "0.9833333333333333"
      ]
     },
     "execution_count": 90,
     "metadata": {},
     "output_type": "execute_result"
    }
   ],
   "source": [
    "tree_pred = DTC.predict(X_val)\n",
    "accuracy_score(y_val, tree_pred)"
   ]
  },
  {
   "cell_type": "markdown",
   "metadata": {},
   "source": [
    "# 【問題6】決定領域の可視化\n",
    "決定領域を可視化してください。"
   ]
  },
  {
   "cell_type": "code",
   "execution_count": 91,
   "metadata": {},
   "outputs": [],
   "source": [
    "import matplotlib.pyplot as plt\n",
    "from matplotlib.colors import ListedColormap\n",
    "import matplotlib.patches as mpatches\n",
    "\n",
    "def decision_region(X, y, model, step=0.01, title='decision region', xlabel='xlabel', ylabel='ylabel', target_names=['1', '-1']):\n",
    "    \"\"\"\n",
    "    2値分類を2次元の特徴量で学習したモデルの決定領域を描く。\n",
    "    背景の色が学習したモデルによる推定値から描画される。\n",
    "    散布図の点は訓練データまたは検証データである。\n",
    "    Parameters\n",
    "    ----------------\n",
    "    X : ndarray, shape(n_samples, 2)\n",
    "        特徴量\n",
    "    y : ndarray, shape(n_samples,)\n",
    "        ラベル\n",
    "    model : object\n",
    "        学習したモデルのインスンタスを入れる\n",
    "    step : float, (default : 0.1)\n",
    "        推定値を計算する間隔を設定する\n",
    "    title : str\n",
    "        グラフのタイトルの文章を与える\n",
    "    xlabel, ylabel : str\n",
    "        軸ラベルの文章を与える\n",
    "    target_names= : list of str\n",
    "        凡例の一覧を与える\n",
    "    \"\"\"\n",
    "    # setting\n",
    "    scatter_color = ['red', 'blue']\n",
    "    contourf_color = ['pink', 'skyblue']\n",
    "    n_class = 2\n",
    "    # pred\n",
    "    mesh_f0, mesh_f1  = np.meshgrid(np.arange(np.min(X[:,0])-0.5, np.max(X[:,0])+0.5, step), np.arange(np.min(X[:,1])-0.5, np.max(X[:,1])+0.5, step))\n",
    "    mesh = np.c_[np.ravel(mesh_f0),np.ravel(mesh_f1)]\n",
    "    print(mesh.shape)\n",
    "    y_pred = model.predict(mesh).reshape(mesh_f0.shape)\n",
    "    # plot\n",
    "    plt.title(title)\n",
    "    plt.xlabel(xlabel)\n",
    "    plt.ylabel(ylabel)\n",
    "    plt.contourf(mesh_f0, mesh_f1, y_pred, n_class-1, cmap=ListedColormap(contourf_color))\n",
    "    plt.contour(mesh_f0, mesh_f1, y_pred, n_class-1, colors='y', linewidths=3, alpha=0.5)\n",
    "    for i, target in enumerate(set(y)):\n",
    "        plt.scatter(X[y==target][:, 0], X[y==target][:, 1], s=80, color=scatter_color[i], label=target_names[i], marker='o')\n",
    "    patches = [mpatches.Patch(color=scatter_color[i], label=target_names[i]) for i in range(n_class)]\n",
    "    plt.legend(handles=patches)\n",
    "    plt.legend()\n",
    "    plt.show()"
   ]
  },
  {
   "cell_type": "code",
   "execution_count": 92,
   "metadata": {},
   "outputs": [
    {
     "name": "stdout",
     "output_type": "stream",
     "text": [
      "(823374, 2)\n"
     ]
    },
    {
     "data": {
      "image/png": "[encoded data removed]",
      "text/plain": [
       "<Figure size 432x288 with 1 Axes>"
      ]
     },
     "metadata": {
      "needs_background": "light"
     },
     "output_type": "display_data"
    }
   ],
   "source": [
    "decision_region(X_train, y_train, SDTC)"
   ]
  },
  {
   "cell_type": "code",
   "execution_count": 93,
   "metadata": {},
   "outputs": [
    {
     "name": "stdout",
     "output_type": "stream",
     "text": [
      "(823374, 2)\n"
     ]
    },
    {
     "data": {
      "image/png": "[encoded data removed]",
      "text/plain": [
       "<Figure size 432x288 with 1 Axes>"
      ]
     },
     "metadata": {
      "needs_background": "light"
     },
     "output_type": "display_data"
    }
   ],
   "source": [
    "decision_region(X_train, y_train, DTC)"
   ]
  },
  {
   "cell_type": "markdown",
   "metadata": {},
   "source": [
    "# 【問題7】（アドバンス課題）深さ2の決定木分類器クラスの作成\n",
    "深さが2の決定木分類器のクラスScratchDecesionTreeClassifierDepth2を作成してください。\n",
    "\n",
    "\n",
    "深さ2とは空間の分割を2回行うことを指します。"
   ]
  },
  {
   "cell_type": "markdown",
   "metadata": {},
   "source": [
    "# 【問題8】（アドバンス課題）深さに制限のない決定木分類器クラスの作成\n",
    "深さに制限のない決定木分類器のクラスScratchDecesionTreeClassifierDepthInfを作成してください。\n",
    "\n",
    "\n",
    "任意の深さを指定できるようにするとともに、指定しない場合は全ての葉ノードがジニ不純度0となるまで続けられるよう"
   ]
  },
  {
   "cell_type": "code",
   "execution_count": 98,
   "metadata": {},
   "outputs": [],
   "source": [
    "# 特徴量分の閾値求める\n",
    "self_GI = []\n",
    "X_idx = X_train.shape[1]\n",
    "for i in range(X_idx):\n",
    "    split_data(X_train, i)\n",
    "    self_GI.append([GI_max, best_thrs, best_f])       \n",
    "    feature_idx += 1"
   ]
  },
  {
   "cell_type": "code",
   "execution_count": 99,
   "metadata": {},
   "outputs": [],
   "source": [
    "div_X = [X_train[X_train[:, 0]>=self_GI[0][2]],X_train[X_train[:, ] < self_GI[0][2]]]"
   ]
  },
  {
   "cell_type": "code",
   "execution_count": 100,
   "metadata": {},
   "outputs": [],
   "source": [
    "def gini_s2(div):\n",
    "    \"\"\"\n",
    "    ジニ係数求める式\n",
    "    ーーーーーーーーーーーーー\n",
    "    \"\"\"\n",
    "    #　データの総数\n",
    "    m = len(div[0])\n",
    "    score=0\n",
    "    for i in range(len(div)):\n",
    "        try:\n",
    "            p = len(div[i])/ m\n",
    "            score += p**2\n",
    "        except ZeroDivisionError:\n",
    "            score += 0\n",
    "        gini = 1- score\n",
    "            \n",
    "    return gini"
   ]
  },
  {
   "cell_type": "code",
   "execution_count": 41,
   "metadata": {},
   "outputs": [],
   "source": [
    "def information_profit2(P, left, right):\n",
    "    n_all = len(P[0])\n",
    "    I_P = gini_s2(P)\n",
    "    I_left = gini_s2(left)\n",
    "    left_all = len(left[0])\n",
    "    I_right = gini_s2(right)\n",
    "    right_all = len(right[0])\n",
    "\n",
    "    lef = (left_all / n_all ) * I_left\n",
    "    rig = (right_all / n_all) * I_right\n",
    "    GI = I_P - (lef + rig)\n",
    "    return GI"
   ]
  },
  {
   "cell_type": "code",
   "execution_count": 44,
   "metadata": {},
   "outputs": [
    {
     "name": "stdout",
     "output_type": "stream",
     "text": [
      "[3.39914935 0.02889014]\n",
      "[-1.16513883  1.40174924]\n",
      "[ 0.38941521 -2.26075336]\n",
      "[3.39914935 0.02889014]\n",
      "[-0.53448569 -3.58123976]\n",
      "[ 0.38941521 -2.26075336]\n",
      "[-1.16513883  1.40174924]\n",
      "[ 0.38941521 -2.26075336]\n",
      "[3.39914935 0.02889014]\n",
      "[ 0.38941521 -2.26075336]\n",
      "[ 0.38941521 -2.26075336]\n",
      "[3.39914935 0.02889014]\n",
      "[-1.16513883  1.40174924]\n",
      "[-1.16513883  1.40174924]\n",
      "[ 0.38941521 -2.26075336]\n",
      "[ 0.38941521 -2.26075336]\n",
      "[ 0.38941521 -2.26075336]\n",
      "[ 0.38941521 -2.26075336]\n",
      "[ 0.38941521 -2.26075336]\n",
      "[ 0.38941521 -2.26075336]\n",
      "[ 0.38941521 -2.26075336]\n",
      "[-1.16513883  1.40174924]\n",
      "[3.39914935 0.02889014]\n",
      "[ 0.38941521 -2.26075336]\n",
      "[-1.16513883  1.40174924]\n",
      "[ 0.38941521 -2.26075336]\n",
      "[-1.16513883  1.40174924]\n",
      "[ 0.38941521 -2.26075336]\n"
     ]
    },
    {
     "ename": "IndexError",
     "evalue": "index 0 is out of bounds for axis 0 with size 0",
     "output_type": "error",
     "traceback": [
      "\u001b[0;31m---------------------------------------------------------------------------\u001b[0m",
      "\u001b[0;31mIndexError\u001b[0m                                Traceback (most recent call last)",
      "\u001b[0;32m<ipython-input-44-cdc9240d6c63>\u001b[0m in \u001b[0;36m<module>\u001b[0;34m\u001b[0m\n\u001b[1;32m      7\u001b[0m     \u001b[0;31m#R0, R1 = [div_X[1][div_X[1][:, 1]>=val],div_X[1][div_X[1][:, 1] < val]]\u001b[0m\u001b[0;34m\u001b[0m\u001b[0;34m\u001b[0m\u001b[0;34m\u001b[0m\u001b[0m\n\u001b[1;32m      8\u001b[0m     \u001b[0mL\u001b[0m\u001b[0;34m,\u001b[0m \u001b[0mR\u001b[0m \u001b[0;34m=\u001b[0m \u001b[0mdiv_X\u001b[0m\u001b[0;34m\u001b[0m\u001b[0;34m\u001b[0m\u001b[0m\n\u001b[0;32m----> 9\u001b[0;31m     \u001b[0mprint\u001b[0m\u001b[0;34m(\u001b[0m\u001b[0mR\u001b[0m\u001b[0;34m[\u001b[0m\u001b[0;36m0\u001b[0m\u001b[0;34m]\u001b[0m\u001b[0;34m)\u001b[0m\u001b[0;34m\u001b[0m\u001b[0;34m\u001b[0m\u001b[0m\n\u001b[0m\u001b[1;32m     10\u001b[0m \u001b[0;34m\u001b[0m\u001b[0m\n\u001b[1;32m     11\u001b[0m     \u001b[0mGI\u001b[0m \u001b[0;34m=\u001b[0m \u001b[0minformation_profit2\u001b[0m\u001b[0;34m(\u001b[0m\u001b[0mX_train\u001b[0m\u001b[0;34m,\u001b[0m \u001b[0mL\u001b[0m\u001b[0;34m,\u001b[0m \u001b[0mR\u001b[0m\u001b[0;34m)\u001b[0m\u001b[0;34m\u001b[0m\u001b[0;34m\u001b[0m\u001b[0m\n",
      "\u001b[0;31mIndexError\u001b[0m: index 0 is out of bounds for axis 0 with size 0"
     ]
    }
   ],
   "source": [
    "GI_max = 0\n",
    "count = 0\n",
    "value = X_train[:, 1]\n",
    "for val in value:\n",
    "    div_X = [X_train[X_train[:, 1]>=val],X_train[X_train[:, 1] < val]]\n",
    "    #L0, L1 = [div_X[0][div_X[0][:, 1]>=val],div_X[0][div_X[0][:, 1] < val]]\n",
    "    #R0, R1 = [div_X[1][div_X[1][:, 1]>=val],div_X[1][div_X[1][:, 1] < val]]\n",
    "    L, R = div_X\n",
    "    print(R[0])\n",
    "    \n",
    "    GI = information_profit2(X_train, L, R)\n",
    "    if GI_max < GI:\n",
    "        GI_max = GI\n",
    "        best_thrs = val\n",
    "        best_f = count\n",
    "\n",
    "    count += 1\n",
    "print(GI_max, best_thrs, best_f)\n"
   ]
  },
  {
   "cell_type": "markdown",
   "metadata": {},
   "source": [
    "### うまくいかないので再度最初からコードを考える\n",
    "Xだけでなくyも活用しgini係数など計算する"
   ]
  },
  {
   "cell_type": "code",
   "execution_count": 102,
   "metadata": {},
   "outputs": [],
   "source": [
    "# ジニ関数\n",
    "def _gini_func(y):\n",
    "    gini = 0\n",
    "    y_uni = np.unique(y)\n",
    "    for y_idx in y_uni:\n",
    "        gini = (sum(y==y_idx) / y.shape[0])**2\n",
    "    return gini"
   ]
  },
  {
   "cell_type": "code",
   "execution_count": 103,
   "metadata": {},
   "outputs": [
    {
     "data": {
      "text/plain": [
       "0.23765624999999999"
      ]
     },
     "execution_count": 103,
     "metadata": {},
     "output_type": "execute_result"
    }
   ],
   "source": [
    "_gini_func(y_train)"
   ]
  },
  {
   "cell_type": "code",
   "execution_count": 105,
   "metadata": {},
   "outputs": [],
   "source": [
    "def _infomation_gini(y_p, y_l, y_r):\n",
    "    parent = _gini_func(y_p)\n",
    "    left = _gini_func(y_l)\n",
    "    right = _gini_func(y_r)\n",
    "    return parent - (y_l.shape[0] / y_p.shape[0]) * left - (y_r.shape[0] / y_p.shape[0]) * right"
   ]
  },
  {
   "cell_type": "code",
   "execution_count": 143,
   "metadata": {},
   "outputs": [],
   "source": [
    "def _division(X, y):\n",
    "    info_ginin = 0\n",
    "    feature = 0\n",
    "    threshold = 0\n",
    "    #　サンプル数\n",
    "    n_samples = X.shape[0]\n",
    "    # ラベルの種類\n",
    "    labels = np.unique(y)\n",
    "    \n",
    "    # ラベルが1になったらreturn\n",
    "    if len(labels) == 1:\n",
    "        label = y[0]\n",
    "        return\n",
    "    \n",
    "    # 情報利得を計算\n",
    "    for feature_idx in range(X.shape[1]):\n",
    "        for threshold in X[:, feature_idx]:\n",
    "            y_div = y[X[:, feature_idx] <= threshold], y[X[:, feature_idx] > threshold]\n",
    "            y_left, y_right = y_div\n",
    "            \n",
    "            info_gini = _infomation_gini(y, y_left, y_right)\n",
    "            \n",
    "            # 情報利得が大きければ都度更新\n",
    "            if info_ginin < info_gini:\n",
    "                info_ginin = info_gini\n",
    "                feature = feature_idx\n",
    "                threshold = threshold  \n",
    "    return info_gini, feature, threshold"
   ]
  },
  {
   "cell_type": "code",
   "execution_count": 155,
   "metadata": {},
   "outputs": [],
   "source": [
    "info_gini, feature, threshold = _division(X_train, y_train)"
   ]
  },
  {
   "cell_type": "code",
   "execution_count": 158,
   "metadata": {},
   "outputs": [],
   "source": [
    "# 左の子ノード用に、データ分割\n",
    "X_left = X_train[X_train[:, feature] <= threshold]\n",
    "y_left = y_train[X_train[:, feature] <= threshold]\n",
    "\n",
    "# 右の子ノード用に、データ分割\n",
    "X_right = X_train[X_train[:, feature] > threshold]\n",
    "y_right = y_train[X_train[:, feature] > threshold]"
   ]
  },
  {
   "cell_type": "code",
   "execution_count": 101,
   "metadata": {},
   "outputs": [],
   "source": [
    "class Node:\n",
    "    \"\"\"\n",
    "    決定木分類器内で呼ばれるノードクラス\n",
    "    \n",
    "    \"\"\"\n",
    "    def __init__(self, max_depth=None):\n",
    "        self.max_depth = max_depth\n",
    "        self.depth = None\n",
    "        self.label = None\n",
    "        self.left = None\n",
    "        self.right = None\n",
    "        self.info_gain = 0.0\n",
    "        self.feature = None\n",
    "        self.threshold = None\n",
    "    \n",
    "    def divide(self, X, y, depth, total_labels):\n",
    "        # ノードに渡されたデータのサンプル数、ラベル種、深さをこの時点で格納\n",
    "        self.n_samples = X.shape[0]\n",
    "        self.labels = np.unique(y)\n",
    "        self.depth = depth\n",
    "        # ラベルが1になったらreturn\n",
    "        if len(self.labels) == 1:\n",
    "            self.label = y[0]\n",
    "            return\n",
    "        \n",
    "        # ラベルが2種類以上あったら最多ラベルをこのノードのラベルとする\n",
    "        unique, count = np.unique(y, return_counts=True)\n",
    "        y_count_dict = dict(zip(unique, count))\n",
    "        self.label = max(y_count_dict, key=y_count_dict.get)\n",
    "        \n",
    "        # 情報利得を計算\n",
    "        for column in range(X.shape[1]):\n",
    "            for threshold in X[:, column]:\n",
    "                y_left = y[X[:, column] <= threshold]\n",
    "                y_right = y[X[:, column] > threshold]\n",
    "                info_gain_calculated = self._gini_func(y, y_left, y_right) # スクラッチ関数\n",
    "                # 情報利得が大きければ都度更新\n",
    "                if self.info_gain < info_gain_calculated:\n",
    "                    self.info_gain = info_gain_calculated\n",
    "                    self.feature = column\n",
    "                    self.threshold = threshold        \n",
    "                    \n",
    "        # 情報利得がゼロのままだったら終了\n",
    "        if self.info_gain == 0.0:\n",
    "            return\n",
    "        \n",
    "        # max_depthまで行ったら終了\n",
    "        if self.depth == self.max_depth:\n",
    "            return\n",
    "        \n",
    "        # 左の子ノード用に、データ割付と新たなノード生成を行い、関数再帰させる\n",
    "        X_left = X[X[:, self.feature] <= self.threshold]\n",
    "        y_left = y[X[:, self.feature] <= self.threshold]\n",
    "        self.left = Node(self.max_depth)\n",
    "        # 割付したデータ、+1した深さ、訓練データのラベル種を渡す\n",
    "        self.left.divide(X_left, y_left, self.depth+1, total_labels)\n",
    "        \n",
    "        # 右の子ノード用に、データ割付と新たなノード生成を行い、関数再帰させる\n",
    "        X_right = X[X[:, self.feature] > self.threshold]\n",
    "        y_right = y[X[:, self.feature] > self.threshold]\n",
    "        self.right = Node(self.max_depth)\n",
    "        # 割付したデータ、+1した深さ、訓練データのラベル種を渡す\n",
    "        self.right.divide(X_right, y_right, self.depth+1, total_labels)\n",
    "        \n",
    "        \n",
    "        def _info_gain_func(self, y_parent, y_left, y_right):\n",
    "            self.gini_func(y_parent)\n",
    "            self.gini_func()\n",
    "            return self._gini_func(y_parent) - (y_left.shape[0] / y_parent.shape[0]) * self._gini_func(y_left) - (y_right.shape[0] / y_parent.shape[0]) * self._gini_func(y_right)\n",
    "\n",
    "        def _gini_func(self, y):\n",
    "            gini = 1\n",
    "            y_species = np.unique(y)\n",
    "            for y_i in y_species:\n",
    "                gini -= (sum(y==y_i) / y.shape[0])**2\n",
    "            return gini"
   ]
  },
  {
   "cell_type": "code",
   "execution_count": 82,
   "metadata": {},
   "outputs": [
    {
     "data": {
      "text/plain": [
       "array([0, 1])"
      ]
     },
     "execution_count": 82,
     "metadata": {},
     "output_type": "execute_result"
    }
   ],
   "source": []
  },
  {
   "cell_type": "code",
   "execution_count": null,
   "metadata": {},
   "outputs": [],
   "source": []
  }
 ],
 "metadata": {
  "kernelspec": {
   "display_name": "Python 3",
   "language": "python",
   "name": "python3"
  },
  "language_info": {
   "codemirror_mode": {
    "name": "ipython",
    "version": 3
   },
   "file_extension": ".py",
   "mimetype": "text/x-python",
   "name": "python",
   "nbconvert_exporter": "python",
   "pygments_lexer": "ipython3",
   "version": "3.7.4"
  }
 },
 "nbformat": 4,
 "nbformat_minor": 2
}
