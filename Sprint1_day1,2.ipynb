{
 "cells": [
  {
   "cell_type": "code",
   "execution_count": 1,
   "metadata": {
    "collapsed": true
   },
   "outputs": [],
   "source": [
    "import numpy as np\n",
    "import pandas as pd\n",
    "import matplotlib.pyplot as plt"
   ]
  },
  {
   "cell_type": "code",
   "execution_count": 2,
   "metadata": {
    "collapsed": true
   },
   "outputs": [],
   "source": [
    "df = pd.read_csv(\"application_train.csv\")"
   ]
  },
  {
   "cell_type": "code",
   "execution_count": 3,
   "metadata": {
    "collapsed": true
   },
   "outputs": [],
   "source": [
    "# 欠損値の補完\n",
    "for col in df.columns:\n",
    "    if df[col].dtype == 'object':\n",
    "        df[col] = df[col].fillna(df[col].mode())\n",
    "    else:\n",
    "        df[col] = df[col].fillna(df[col].mean())"
   ]
  },
  {
   "cell_type": "code",
   "execution_count": 4,
   "metadata": {
    "collapsed": true
   },
   "outputs": [],
   "source": [
    "#objectの数値変換\n",
    "df = pd.get_dummies(df)"
   ]
  },
  {
   "cell_type": "code",
   "execution_count": 5,
   "metadata": {},
   "outputs": [
    {
     "data": {
      "text/plain": [
       "(307511, 246)"
      ]
     },
     "execution_count": 5,
     "metadata": {},
     "output_type": "execute_result"
    }
   ],
   "source": [
    "df.shape"
   ]
  },
  {
   "cell_type": "code",
   "execution_count": 6,
   "metadata": {
    "collapsed": true
   },
   "outputs": [],
   "source": [
    "#相関系数の高い値を特徴量として活用\n",
    "X = df.loc[:, [\"EXT_SOURCE_1\",\"EXT_SOURCE_2\",\"EXT_SOURCE_3\",\"NAME_EDUCATION_TYPE_Higher education\",\"CODE_GENDER_F\",\"CODE_GENDER_M\",\"DAYS_BIRTH\",\"DAYS_EMPLOYED\"]]\n",
    "y = df.loc[:, ['TARGET']]\n",
    "\n",
    "# 全特徴量データを利用\n",
    "X1= df[df.columns[df.columns != 'TARGET']]\n",
    "y = df.loc[:, 'TARGET']"
   ]
  },
  {
   "cell_type": "markdown",
   "metadata": {},
   "source": [
    "# 【問題1】クロスバリデーション\n",
    "事前学習期間では検証用データをはじめに分割しておき、それに対して指標値を計算することで検証を行っていました。（ホールドアウト法）しかし、分割の仕方により精度は変化します。実践的には クロスバリデーション（交差検証） を行います。分割を複数回行い、それぞれに対して学習と検証を行う方法です。複数回の分割のためにscikit-learnにはKFoldクラスが用意されています。\n",
    "\n",
    "事前学習期間の課題で作成したベースラインモデルに対してKFoldクラスによるクロスバリデーションを行うコードを作成し実行してください。"
   ]
  },
  {
   "cell_type": "code",
   "execution_count": 7,
   "metadata": {
    "collapsed": true
   },
   "outputs": [],
   "source": [
    "#　交差検証モデルの利用しデータごとに４分割\n",
    "from sklearn.ensemble import RandomForestClassifier\n",
    "from sklearn.model_selection import  KFold\n",
    "from sklearn.model_selection import cross_val_score\n",
    "kf = KFold(n_splits=4, shuffle=True, random_state=42)\n",
    "\n",
    "rfc = RandomForestClassifier()\n",
    "scores = cross_val_score(rfc, X=X, y=y, cv=kf)"
   ]
  },
  {
   "cell_type": "code",
   "execution_count": 8,
   "metadata": {},
   "outputs": [
    {
     "name": "stdout",
     "output_type": "stream",
     "text": [
      "Cross-Validation scores: [0.91844221 0.9174146  0.91794792 0.91864927]\n",
      "Mean score: 0.9181135001212015\n"
     ]
    }
   ],
   "source": [
    "print('Cross-Validation scores: {}'.format(scores))\n",
    "print(\"Mean score: {}\".format(scores.mean()))"
   ]
  },
  {
   "cell_type": "code",
   "execution_count": 9,
   "metadata": {},
   "outputs": [
    {
     "name": "stdout",
     "output_type": "stream",
     "text": [
      "train_index: [     1      3      4 ... 307508 307509 307510] test_index: [     0      2      6 ... 307498 307502 307503]\n",
      "(230633,)\n",
      "train_index: [     0      2      3 ... 307506 307507 307509] test_index: [     1      4      9 ... 307497 307508 307510]\n",
      "(230633,)\n",
      "train_index: [     0      1      2 ... 307506 307508 307510] test_index: [     3      8     14 ... 307505 307507 307509]\n",
      "(230633,)\n",
      "train_index: [     0      1      2 ... 307508 307509 307510] test_index: [     5      7     13 ... 307501 307504 307506]\n",
      "(230634,)\n"
     ]
    }
   ],
   "source": [
    "for train_index, test_index in kf.split(X, y):\n",
    "    print(\"train_index:\", train_index, \"test_index:\", test_index)\n",
    "    print(train_index.shape)"
   ]
  },
  {
   "cell_type": "code",
   "execution_count": 10,
   "metadata": {},
   "outputs": [
    {
     "name": "stdout",
     "output_type": "stream",
     "text": [
      "train_index: [     1      3      4 ... 307508 307509 307510] test_index: [     0      2      6 ... 307498 307502 307503]\n",
      "(230633,)\n",
      "train_index: [     0      2      3 ... 307506 307507 307509] test_index: [     1      4      9 ... 307497 307508 307510]\n",
      "(230633,)\n",
      "train_index: [     0      1      2 ... 307506 307508 307510] test_index: [     3      8     14 ... 307505 307507 307509]\n",
      "(230633,)\n",
      "train_index: [     0      1      2 ... 307508 307509 307510] test_index: [     5      7     13 ... 307501 307504 307506]\n",
      "(230634,)\n"
     ]
    }
   ],
   "source": [
    "kf.get_n_splits(X1)\n",
    "for train_index, test_index in kf.split(X1, y):\n",
    "    print(\"train_index:\", train_index, \"test_index:\", test_index)\n",
    "    print(train_index.shape)"
   ]
  },
  {
   "cell_type": "markdown",
   "metadata": {},
   "source": [
    "# 【問題2】グリッドサーチ\n",
    "これまで分類器のパラメータには触れず、デフォルトの設定を使用していました。パラメータの詳細は今後のSprintで学んでいくことになります。機械学習の前提として、パラメータは状況に応じて最適なものを選ぶ必要があります。最適なパラメータを探していくことを パラメータチューニング と呼びます。パラメータチューニングをある程度自動化する単純な方法としては グリッドサーチ があります。\n",
    "\n",
    "scikit-learnのGridSearchCVを使い、グリッドサーチを行うコードを作成してください。そして、ベースラインモデルに対して何らかしらのパラメータチューニングを行なってください。どのパラメータをチューニングするかは、使用した手法の公式ドキュメントを参考にしてください。\n",
    "\n",
    "sklearn.model_selection.GridSearchCV — scikit-learn 0.21.3 documentation\n",
    "\n",
    "GridSearchCVクラスには引数としてモデル、探索範囲、さらにクロスバリデーションを何分割で行うかを与えます。クロスバリデーションの機能も含まれているため、これを使用する場合はKFoldクラスを利用する必要はありません。"
   ]
  },
  {
   "cell_type": "code",
   "execution_count": 11,
   "metadata": {},
   "outputs": [
    {
     "data": {
      "text/plain": [
       "RandomForestClassifier(bootstrap=True, ccp_alpha=0.0, class_weight=None,\n",
       "                       criterion='gini', max_depth=None, max_features='auto',\n",
       "                       max_leaf_nodes=None, max_samples=None,\n",
       "                       min_impurity_decrease=0.0, min_impurity_split=None,\n",
       "                       min_samples_leaf=1, min_samples_split=2,\n",
       "                       min_weight_fraction_leaf=0.0, n_estimators=100,\n",
       "                       n_jobs=None, oob_score=False, random_state=0, verbose=0,\n",
       "                       warm_start=False)"
      ]
     },
     "execution_count": 11,
     "metadata": {},
     "output_type": "execute_result"
    }
   ],
   "source": [
    "# グリッドサーチで決定木の学習モデル\n",
    "from sklearn.ensemble import RandomForestClassifier\n",
    "from sklearn.model_selection import GridSearchCV\n",
    "from sklearn.model_selection import train_test_split\n",
    "\n",
    "X_train, X_test, y_train, y_test = train_test_split(X, y, random_state=0)\n",
    "\n",
    "param = {'n_estimators': [1, 10, 20, 30, 40, 50]}\n",
    "\n",
    "rfc = RandomForestClassifier(random_state=0, )\n",
    "gscv = GridSearchCV(estimator=rfc, param_grid=param, scoring='roc_auc', cv=4)\n",
    "gscv.fit(X_train, y_train)\n",
    "rfc.fit(X_train, y_train)"
   ]
  },
  {
   "cell_type": "code",
   "execution_count": 12,
   "metadata": {},
   "outputs": [
    {
     "name": "stdout",
     "output_type": "stream",
     "text": [
      "グリッドサーチ・ランダムフォレストモデルのbest parameter      :  50\n",
      "通常のランダムフォレストモデルの parameter   :  100\n"
     ]
    }
   ],
   "source": [
    "print('グリッドサーチ・ランダムフォレストモデルのbest parameter      :  %d'  %gscv.best_estimator_.n_estimators)\n",
    "print('通常のランダムフォレストモデルの parameter   :  %d'  %rfc.n_estimators)"
   ]
  },
  {
   "cell_type": "code",
   "execution_count": 13,
   "metadata": {
    "collapsed": true
   },
   "outputs": [],
   "source": [
    "y_pred1 = rfc.predict_proba(X_test)\n",
    "y_pred2 = gscv.predict_proba(X_test)"
   ]
  },
  {
   "cell_type": "code",
   "execution_count": 14,
   "metadata": {
    "collapsed": true
   },
   "outputs": [],
   "source": [
    "from sklearn.metrics import auc, roc_curve\n",
    "fpr, tpr, _ = roc_curve(y_test, y_pred1[:,1])\n",
    "score = auc(fpr, tpr)\n",
    "\n",
    "fpr2, tpr2, _2 = roc_curve(y_test, y_pred2[:,1])\n",
    "score2 = auc(fpr2, tpr2)"
   ]
  },
  {
   "cell_type": "code",
   "execution_count": 15,
   "metadata": {},
   "outputs": [
    {
     "data": {
      "image/png": "[encoded data removed]",
      "text/plain": [
       "<Figure size 432x288 with 1 Axes>"
      ]
     },
     "metadata": {},
     "output_type": "display_data"
    }
   ],
   "source": [
    "# ROC 曲線の描写\n",
    "plt.plot(fpr, tpr, '-')\n",
    "plt.plot([0, 1], [0, 1], 'k--')\n",
    "plt.xlim([0.0, 1.0])\n",
    "plt.ylim([0.0, 1.0])\n",
    "plt.xlabel('False Positive Rate')\n",
    "plt.ylabel('True Positive Rate')\n",
    "plt.title('ROC curve')\n",
    "plt.show();"
   ]
  },
  {
   "cell_type": "code",
   "execution_count": 16,
   "metadata": {},
   "outputs": [
    {
     "name": "stdout",
     "output_type": "stream",
     "text": [
      "通常のランダムフォレストモデルによるaucスコア         :  0.695\n",
      "グリッドサーチ・ランダムフォレストモデルによるaucスコア   :  0.684\n"
     ]
    }
   ],
   "source": [
    "from sklearn.metrics import roc_auc_score\n",
    "print('通常のランダムフォレストモデルによるaucスコア         :  %.3f'  %score)\n",
    "print('グリッドサーチ・ランダムフォレストモデルによるaucスコア   :  %.3f'  %score2)"
   ]
  },
  {
   "cell_type": "markdown",
   "metadata": {},
   "source": []
  },
  {
   "cell_type": "code",
   "execution_count": 17,
   "metadata": {},
   "outputs": [
    {
     "data": {
      "text/html": [
       "<div>\n",
       "<style scoped>\n",
       "    .dataframe tbody tr th:only-of-type {\n",
       "        vertical-align: middle;\n",
       "    }\n",
       "\n",
       "    .dataframe tbody tr th {\n",
       "        vertical-align: top;\n",
       "    }\n",
       "\n",
       "    .dataframe thead th {\n",
       "        text-align: right;\n",
       "    }\n",
       "</style>\n",
       "<table border=\"1\" class=\"dataframe\">\n",
       "  <thead>\n",
       "    <tr style=\"text-align: right;\">\n",
       "      <th></th>\n",
       "      <th>mean_fit_time</th>\n",
       "      <th>std_fit_time</th>\n",
       "      <th>mean_score_time</th>\n",
       "      <th>std_score_time</th>\n",
       "      <th>param_n_estimators</th>\n",
       "      <th>params</th>\n",
       "      <th>split0_test_score</th>\n",
       "      <th>split1_test_score</th>\n",
       "      <th>split2_test_score</th>\n",
       "      <th>split3_test_score</th>\n",
       "      <th>mean_test_score</th>\n",
       "      <th>std_test_score</th>\n",
       "      <th>rank_test_score</th>\n",
       "    </tr>\n",
       "  </thead>\n",
       "  <tbody>\n",
       "    <tr>\n",
       "      <th>0</th>\n",
       "      <td>0.286906</td>\n",
       "      <td>0.019139</td>\n",
       "      <td>0.028057</td>\n",
       "      <td>0.003250</td>\n",
       "      <td>1</td>\n",
       "      <td>{'n_estimators': 1}</td>\n",
       "      <td>0.534900</td>\n",
       "      <td>0.537944</td>\n",
       "      <td>0.531098</td>\n",
       "      <td>0.539731</td>\n",
       "      <td>0.535918</td>\n",
       "      <td>0.003275</td>\n",
       "      <td>6</td>\n",
       "    </tr>\n",
       "    <tr>\n",
       "      <th>1</th>\n",
       "      <td>2.581844</td>\n",
       "      <td>0.069606</td>\n",
       "      <td>0.152274</td>\n",
       "      <td>0.001084</td>\n",
       "      <td>10</td>\n",
       "      <td>{'n_estimators': 10}</td>\n",
       "      <td>0.642604</td>\n",
       "      <td>0.638819</td>\n",
       "      <td>0.629598</td>\n",
       "      <td>0.638869</td>\n",
       "      <td>0.637473</td>\n",
       "      <td>0.004798</td>\n",
       "      <td>5</td>\n",
       "    </tr>\n",
       "    <tr>\n",
       "      <th>2</th>\n",
       "      <td>5.383876</td>\n",
       "      <td>0.144424</td>\n",
       "      <td>0.296526</td>\n",
       "      <td>0.003764</td>\n",
       "      <td>20</td>\n",
       "      <td>{'n_estimators': 20}</td>\n",
       "      <td>0.669436</td>\n",
       "      <td>0.659229</td>\n",
       "      <td>0.657370</td>\n",
       "      <td>0.663568</td>\n",
       "      <td>0.662401</td>\n",
       "      <td>0.004643</td>\n",
       "      <td>4</td>\n",
       "    </tr>\n",
       "    <tr>\n",
       "      <th>3</th>\n",
       "      <td>8.227601</td>\n",
       "      <td>0.330586</td>\n",
       "      <td>0.435556</td>\n",
       "      <td>0.009399</td>\n",
       "      <td>30</td>\n",
       "      <td>{'n_estimators': 30}</td>\n",
       "      <td>0.679086</td>\n",
       "      <td>0.672738</td>\n",
       "      <td>0.668668</td>\n",
       "      <td>0.673398</td>\n",
       "      <td>0.673472</td>\n",
       "      <td>0.003713</td>\n",
       "      <td>3</td>\n",
       "    </tr>\n",
       "    <tr>\n",
       "      <th>4</th>\n",
       "      <td>12.107908</td>\n",
       "      <td>2.102439</td>\n",
       "      <td>0.749241</td>\n",
       "      <td>0.289391</td>\n",
       "      <td>40</td>\n",
       "      <td>{'n_estimators': 40}</td>\n",
       "      <td>0.684059</td>\n",
       "      <td>0.680463</td>\n",
       "      <td>0.677131</td>\n",
       "      <td>0.678593</td>\n",
       "      <td>0.680062</td>\n",
       "      <td>0.002592</td>\n",
       "      <td>2</td>\n",
       "    </tr>\n",
       "    <tr>\n",
       "      <th>5</th>\n",
       "      <td>13.606953</td>\n",
       "      <td>0.850009</td>\n",
       "      <td>0.708054</td>\n",
       "      <td>0.004450</td>\n",
       "      <td>50</td>\n",
       "      <td>{'n_estimators': 50}</td>\n",
       "      <td>0.686645</td>\n",
       "      <td>0.683968</td>\n",
       "      <td>0.681553</td>\n",
       "      <td>0.683532</td>\n",
       "      <td>0.683925</td>\n",
       "      <td>0.001815</td>\n",
       "      <td>1</td>\n",
       "    </tr>\n",
       "  </tbody>\n",
       "</table>\n",
       "</div>"
      ],
      "text/plain": [
       "   mean_fit_time  std_fit_time  mean_score_time  std_score_time  \\\n",
       "0       0.286906      0.019139         0.028057        0.003250   \n",
       "1       2.581844      0.069606         0.152274        0.001084   \n",
       "2       5.383876      0.144424         0.296526        0.003764   \n",
       "3       8.227601      0.330586         0.435556        0.009399   \n",
       "4      12.107908      2.102439         0.749241        0.289391   \n",
       "5      13.606953      0.850009         0.708054        0.004450   \n",
       "\n",
       "  param_n_estimators                params  split0_test_score  \\\n",
       "0                  1   {'n_estimators': 1}           0.534900   \n",
       "1                 10  {'n_estimators': 10}           0.642604   \n",
       "2                 20  {'n_estimators': 20}           0.669436   \n",
       "3                 30  {'n_estimators': 30}           0.679086   \n",
       "4                 40  {'n_estimators': 40}           0.684059   \n",
       "5                 50  {'n_estimators': 50}           0.686645   \n",
       "\n",
       "   split1_test_score  split2_test_score  split3_test_score  mean_test_score  \\\n",
       "0           0.537944           0.531098           0.539731         0.535918   \n",
       "1           0.638819           0.629598           0.638869         0.637473   \n",
       "2           0.659229           0.657370           0.663568         0.662401   \n",
       "3           0.672738           0.668668           0.673398         0.673472   \n",
       "4           0.680463           0.677131           0.678593         0.680062   \n",
       "5           0.683968           0.681553           0.683532         0.683925   \n",
       "\n",
       "   std_test_score  rank_test_score  \n",
       "0        0.003275                6  \n",
       "1        0.004798                5  \n",
       "2        0.004643                4  \n",
       "3        0.003713                3  \n",
       "4        0.002592                2  \n",
       "5        0.001815                1  "
      ]
     },
     "metadata": {},
     "output_type": "display_data"
    }
   ],
   "source": [
    "GSCV_score = pd.DataFrame(gscv.cv_results_)\n",
    "display(GSCV_score)"
   ]
  },
  {
   "cell_type": "markdown",
   "metadata": {},
   "source": [
    "# 【問題3】Kernelからの調査\n",
    "KaggleのKernelから様々なアイデアを見つけ出して、列挙してください。"
   ]
  },
  {
   "cell_type": "markdown",
   "metadata": {},
   "source": [
    "- 調査１<br>\n",
    "多くの説明にLghitGBMの利用が進められていたのでこの手法を利用する。\n",
    "またLightGBMは近年のKaggleで高パフォーマンス叩き出している。パフォーマンスはハイパーパラメーターの選択に大きく依存する"
   ]
  },
  {
   "cell_type": "markdown",
   "metadata": {},
   "source": [
    "- 調査２<br>\n",
    "不必要なパラメータの削除している例などもあり、不必要なデータを見極めることが重要"
   ]
  },
  {
   "cell_type": "markdown",
   "metadata": {},
   "source": [
    "# 【問題4】高い汎化性能のモデル作成\n",
    "問題3で見つけたアイデアと、独自のアイデアを組み合わせ高い汎化性能のモデル作りを進めてください。\n",
    "\n",
    "その過程として、何を行うことで、クロスバリデーションの結果がどの程度変化したかを表にまとめてください。"
   ]
  },
  {
   "cell_type": "markdown",
   "metadata": {},
   "source": [
    "## 試行１\n",
    "まずは単純に特徴量を絞り精度出るのか検証"
   ]
  },
  {
   "cell_type": "code",
   "execution_count": 18,
   "metadata": {},
   "outputs": [
    {
     "data": {
      "text/html": [
       "<div>\n",
       "<style scoped>\n",
       "    .dataframe tbody tr th:only-of-type {\n",
       "        vertical-align: middle;\n",
       "    }\n",
       "\n",
       "    .dataframe tbody tr th {\n",
       "        vertical-align: top;\n",
       "    }\n",
       "\n",
       "    .dataframe thead th {\n",
       "        text-align: right;\n",
       "    }\n",
       "</style>\n",
       "<table border=\"1\" class=\"dataframe\">\n",
       "  <thead>\n",
       "    <tr style=\"text-align: right;\">\n",
       "      <th></th>\n",
       "      <th>SK_ID_CURR</th>\n",
       "      <th>TARGET</th>\n",
       "      <th>CNT_CHILDREN</th>\n",
       "      <th>AMT_INCOME_TOTAL</th>\n",
       "      <th>AMT_CREDIT</th>\n",
       "      <th>AMT_ANNUITY</th>\n",
       "      <th>AMT_GOODS_PRICE</th>\n",
       "      <th>REGION_POPULATION_RELATIVE</th>\n",
       "      <th>DAYS_BIRTH</th>\n",
       "      <th>DAYS_EMPLOYED</th>\n",
       "      <th>DAYS_REGISTRATION</th>\n",
       "      <th>DAYS_ID_PUBLISH</th>\n",
       "      <th>OWN_CAR_AGE</th>\n",
       "      <th>FLAG_MOBIL</th>\n",
       "      <th>FLAG_EMP_PHONE</th>\n",
       "      <th>FLAG_WORK_PHONE</th>\n",
       "      <th>FLAG_CONT_MOBILE</th>\n",
       "      <th>FLAG_PHONE</th>\n",
       "      <th>FLAG_EMAIL</th>\n",
       "      <th>CNT_FAM_MEMBERS</th>\n",
       "      <th>REGION_RATING_CLIENT</th>\n",
       "      <th>REGION_RATING_CLIENT_W_CITY</th>\n",
       "      <th>HOUR_APPR_PROCESS_START</th>\n",
       "      <th>REG_REGION_NOT_LIVE_REGION</th>\n",
       "      <th>REG_REGION_NOT_WORK_REGION</th>\n",
       "      <th>LIVE_REGION_NOT_WORK_REGION</th>\n",
       "      <th>REG_CITY_NOT_LIVE_CITY</th>\n",
       "      <th>REG_CITY_NOT_WORK_CITY</th>\n",
       "      <th>LIVE_CITY_NOT_WORK_CITY</th>\n",
       "      <th>EXT_SOURCE_1</th>\n",
       "      <th>EXT_SOURCE_2</th>\n",
       "      <th>EXT_SOURCE_3</th>\n",
       "      <th>APARTMENTS_AVG</th>\n",
       "      <th>BASEMENTAREA_AVG</th>\n",
       "      <th>YEARS_BEGINEXPLUATATION_AVG</th>\n",
       "      <th>YEARS_BUILD_AVG</th>\n",
       "      <th>COMMONAREA_AVG</th>\n",
       "      <th>ELEVATORS_AVG</th>\n",
       "      <th>ENTRANCES_AVG</th>\n",
       "      <th>FLOORSMAX_AVG</th>\n",
       "      <th>FLOORSMIN_AVG</th>\n",
       "      <th>LANDAREA_AVG</th>\n",
       "      <th>LIVINGAPARTMENTS_AVG</th>\n",
       "      <th>LIVINGAREA_AVG</th>\n",
       "      <th>NONLIVINGAPARTMENTS_AVG</th>\n",
       "      <th>NONLIVINGAREA_AVG</th>\n",
       "      <th>APARTMENTS_MODE</th>\n",
       "      <th>BASEMENTAREA_MODE</th>\n",
       "      <th>YEARS_BEGINEXPLUATATION_MODE</th>\n",
       "      <th>YEARS_BUILD_MODE</th>\n",
       "      <th>COMMONAREA_MODE</th>\n",
       "      <th>ELEVATORS_MODE</th>\n",
       "      <th>ENTRANCES_MODE</th>\n",
       "      <th>FLOORSMAX_MODE</th>\n",
       "      <th>FLOORSMIN_MODE</th>\n",
       "      <th>LANDAREA_MODE</th>\n",
       "      <th>LIVINGAPARTMENTS_MODE</th>\n",
       "      <th>LIVINGAREA_MODE</th>\n",
       "      <th>NONLIVINGAPARTMENTS_MODE</th>\n",
       "      <th>NONLIVINGAREA_MODE</th>\n",
       "      <th>APARTMENTS_MEDI</th>\n",
       "      <th>BASEMENTAREA_MEDI</th>\n",
       "      <th>YEARS_BEGINEXPLUATATION_MEDI</th>\n",
       "      <th>YEARS_BUILD_MEDI</th>\n",
       "      <th>COMMONAREA_MEDI</th>\n",
       "      <th>ELEVATORS_MEDI</th>\n",
       "      <th>ENTRANCES_MEDI</th>\n",
       "      <th>FLOORSMAX_MEDI</th>\n",
       "      <th>FLOORSMIN_MEDI</th>\n",
       "      <th>LANDAREA_MEDI</th>\n",
       "      <th>LIVINGAPARTMENTS_MEDI</th>\n",
       "      <th>LIVINGAREA_MEDI</th>\n",
       "      <th>NONLIVINGAPARTMENTS_MEDI</th>\n",
       "      <th>NONLIVINGAREA_MEDI</th>\n",
       "      <th>TOTALAREA_MODE</th>\n",
       "      <th>OBS_30_CNT_SOCIAL_CIRCLE</th>\n",
       "      <th>DEF_30_CNT_SOCIAL_CIRCLE</th>\n",
       "      <th>OBS_60_CNT_SOCIAL_CIRCLE</th>\n",
       "      <th>DEF_60_CNT_SOCIAL_CIRCLE</th>\n",
       "      <th>DAYS_LAST_PHONE_CHANGE</th>\n",
       "      <th>FLAG_DOCUMENT_2</th>\n",
       "      <th>FLAG_DOCUMENT_3</th>\n",
       "      <th>FLAG_DOCUMENT_4</th>\n",
       "      <th>FLAG_DOCUMENT_5</th>\n",
       "      <th>FLAG_DOCUMENT_6</th>\n",
       "      <th>FLAG_DOCUMENT_7</th>\n",
       "      <th>FLAG_DOCUMENT_8</th>\n",
       "      <th>FLAG_DOCUMENT_9</th>\n",
       "      <th>FLAG_DOCUMENT_10</th>\n",
       "      <th>FLAG_DOCUMENT_11</th>\n",
       "      <th>FLAG_DOCUMENT_12</th>\n",
       "      <th>FLAG_DOCUMENT_13</th>\n",
       "      <th>FLAG_DOCUMENT_14</th>\n",
       "      <th>FLAG_DOCUMENT_15</th>\n",
       "      <th>FLAG_DOCUMENT_16</th>\n",
       "      <th>FLAG_DOCUMENT_17</th>\n",
       "      <th>FLAG_DOCUMENT_18</th>\n",
       "      <th>FLAG_DOCUMENT_19</th>\n",
       "      <th>FLAG_DOCUMENT_20</th>\n",
       "      <th>FLAG_DOCUMENT_21</th>\n",
       "      <th>AMT_REQ_CREDIT_BUREAU_HOUR</th>\n",
       "      <th>AMT_REQ_CREDIT_BUREAU_DAY</th>\n",
       "      <th>AMT_REQ_CREDIT_BUREAU_WEEK</th>\n",
       "      <th>AMT_REQ_CREDIT_BUREAU_MON</th>\n",
       "      <th>AMT_REQ_CREDIT_BUREAU_QRT</th>\n",
       "      <th>AMT_REQ_CREDIT_BUREAU_YEAR</th>\n",
       "      <th>NAME_CONTRACT_TYPE_Cash loans</th>\n",
       "      <th>NAME_CONTRACT_TYPE_Revolving loans</th>\n",
       "      <th>CODE_GENDER_F</th>\n",
       "      <th>CODE_GENDER_M</th>\n",
       "      <th>CODE_GENDER_XNA</th>\n",
       "      <th>FLAG_OWN_CAR_N</th>\n",
       "      <th>FLAG_OWN_CAR_Y</th>\n",
       "      <th>FLAG_OWN_REALTY_N</th>\n",
       "      <th>FLAG_OWN_REALTY_Y</th>\n",
       "      <th>NAME_TYPE_SUITE_Children</th>\n",
       "      <th>NAME_TYPE_SUITE_Family</th>\n",
       "      <th>NAME_TYPE_SUITE_Group of people</th>\n",
       "      <th>NAME_TYPE_SUITE_Other_A</th>\n",
       "      <th>NAME_TYPE_SUITE_Other_B</th>\n",
       "      <th>NAME_TYPE_SUITE_Spouse, partner</th>\n",
       "      <th>NAME_TYPE_SUITE_Unaccompanied</th>\n",
       "      <th>NAME_INCOME_TYPE_Businessman</th>\n",
       "      <th>NAME_INCOME_TYPE_Commercial associate</th>\n",
       "      <th>NAME_INCOME_TYPE_Maternity leave</th>\n",
       "      <th>NAME_INCOME_TYPE_Pensioner</th>\n",
       "      <th>NAME_INCOME_TYPE_State servant</th>\n",
       "      <th>NAME_INCOME_TYPE_Student</th>\n",
       "      <th>NAME_INCOME_TYPE_Unemployed</th>\n",
       "      <th>NAME_INCOME_TYPE_Working</th>\n",
       "      <th>NAME_EDUCATION_TYPE_Academic degree</th>\n",
       "      <th>NAME_EDUCATION_TYPE_Higher education</th>\n",
       "      <th>NAME_EDUCATION_TYPE_Incomplete higher</th>\n",
       "      <th>NAME_EDUCATION_TYPE_Lower secondary</th>\n",
       "      <th>NAME_EDUCATION_TYPE_Secondary / secondary special</th>\n",
       "      <th>NAME_FAMILY_STATUS_Civil marriage</th>\n",
       "      <th>NAME_FAMILY_STATUS_Married</th>\n",
       "      <th>NAME_FAMILY_STATUS_Separated</th>\n",
       "      <th>NAME_FAMILY_STATUS_Single / not married</th>\n",
       "      <th>NAME_FAMILY_STATUS_Unknown</th>\n",
       "      <th>NAME_FAMILY_STATUS_Widow</th>\n",
       "      <th>NAME_HOUSING_TYPE_Co-op apartment</th>\n",
       "      <th>NAME_HOUSING_TYPE_House / apartment</th>\n",
       "      <th>NAME_HOUSING_TYPE_Municipal apartment</th>\n",
       "      <th>NAME_HOUSING_TYPE_Office apartment</th>\n",
       "      <th>NAME_HOUSING_TYPE_Rented apartment</th>\n",
       "      <th>NAME_HOUSING_TYPE_With parents</th>\n",
       "      <th>OCCUPATION_TYPE_Accountants</th>\n",
       "      <th>OCCUPATION_TYPE_Cleaning staff</th>\n",
       "      <th>OCCUPATION_TYPE_Cooking staff</th>\n",
       "      <th>OCCUPATION_TYPE_Core staff</th>\n",
       "      <th>OCCUPATION_TYPE_Drivers</th>\n",
       "      <th>OCCUPATION_TYPE_HR staff</th>\n",
       "      <th>OCCUPATION_TYPE_High skill tech staff</th>\n",
       "      <th>OCCUPATION_TYPE_IT staff</th>\n",
       "      <th>OCCUPATION_TYPE_Laborers</th>\n",
       "      <th>OCCUPATION_TYPE_Low-skill Laborers</th>\n",
       "      <th>OCCUPATION_TYPE_Managers</th>\n",
       "      <th>OCCUPATION_TYPE_Medicine staff</th>\n",
       "      <th>OCCUPATION_TYPE_Private service staff</th>\n",
       "      <th>OCCUPATION_TYPE_Realty agents</th>\n",
       "      <th>OCCUPATION_TYPE_Sales staff</th>\n",
       "      <th>OCCUPATION_TYPE_Secretaries</th>\n",
       "      <th>OCCUPATION_TYPE_Security staff</th>\n",
       "      <th>OCCUPATION_TYPE_Waiters/barmen staff</th>\n",
       "      <th>WEEKDAY_APPR_PROCESS_START_FRIDAY</th>\n",
       "      <th>WEEKDAY_APPR_PROCESS_START_MONDAY</th>\n",
       "      <th>WEEKDAY_APPR_PROCESS_START_SATURDAY</th>\n",
       "      <th>WEEKDAY_APPR_PROCESS_START_SUNDAY</th>\n",
       "      <th>WEEKDAY_APPR_PROCESS_START_THURSDAY</th>\n",
       "      <th>WEEKDAY_APPR_PROCESS_START_TUESDAY</th>\n",
       "      <th>WEEKDAY_APPR_PROCESS_START_WEDNESDAY</th>\n",
       "      <th>ORGANIZATION_TYPE_Advertising</th>\n",
       "      <th>ORGANIZATION_TYPE_Agriculture</th>\n",
       "      <th>ORGANIZATION_TYPE_Bank</th>\n",
       "      <th>ORGANIZATION_TYPE_Business Entity Type 1</th>\n",
       "      <th>ORGANIZATION_TYPE_Business Entity Type 2</th>\n",
       "      <th>ORGANIZATION_TYPE_Business Entity Type 3</th>\n",
       "      <th>ORGANIZATION_TYPE_Cleaning</th>\n",
       "      <th>ORGANIZATION_TYPE_Construction</th>\n",
       "      <th>ORGANIZATION_TYPE_Culture</th>\n",
       "      <th>ORGANIZATION_TYPE_Electricity</th>\n",
       "      <th>ORGANIZATION_TYPE_Emergency</th>\n",
       "      <th>ORGANIZATION_TYPE_Government</th>\n",
       "      <th>ORGANIZATION_TYPE_Hotel</th>\n",
       "      <th>ORGANIZATION_TYPE_Housing</th>\n",
       "      <th>ORGANIZATION_TYPE_Industry: type 1</th>\n",
       "      <th>ORGANIZATION_TYPE_Industry: type 10</th>\n",
       "      <th>ORGANIZATION_TYPE_Industry: type 11</th>\n",
       "      <th>ORGANIZATION_TYPE_Industry: type 12</th>\n",
       "      <th>ORGANIZATION_TYPE_Industry: type 13</th>\n",
       "      <th>ORGANIZATION_TYPE_Industry: type 2</th>\n",
       "      <th>ORGANIZATION_TYPE_Industry: type 3</th>\n",
       "      <th>ORGANIZATION_TYPE_Industry: type 4</th>\n",
       "      <th>ORGANIZATION_TYPE_Industry: type 5</th>\n",
       "      <th>ORGANIZATION_TYPE_Industry: type 6</th>\n",
       "      <th>ORGANIZATION_TYPE_Industry: type 7</th>\n",
       "      <th>ORGANIZATION_TYPE_Industry: type 8</th>\n",
       "      <th>ORGANIZATION_TYPE_Industry: type 9</th>\n",
       "      <th>ORGANIZATION_TYPE_Insurance</th>\n",
       "      <th>ORGANIZATION_TYPE_Kindergarten</th>\n",
       "      <th>ORGANIZATION_TYPE_Legal Services</th>\n",
       "      <th>ORGANIZATION_TYPE_Medicine</th>\n",
       "      <th>ORGANIZATION_TYPE_Military</th>\n",
       "      <th>ORGANIZATION_TYPE_Mobile</th>\n",
       "      <th>ORGANIZATION_TYPE_Other</th>\n",
       "      <th>ORGANIZATION_TYPE_Police</th>\n",
       "      <th>ORGANIZATION_TYPE_Postal</th>\n",
       "      <th>ORGANIZATION_TYPE_Realtor</th>\n",
       "      <th>ORGANIZATION_TYPE_Religion</th>\n",
       "      <th>ORGANIZATION_TYPE_Restaurant</th>\n",
       "      <th>ORGANIZATION_TYPE_School</th>\n",
       "      <th>ORGANIZATION_TYPE_Security</th>\n",
       "      <th>ORGANIZATION_TYPE_Security Ministries</th>\n",
       "      <th>ORGANIZATION_TYPE_Self-employed</th>\n",
       "      <th>ORGANIZATION_TYPE_Services</th>\n",
       "      <th>ORGANIZATION_TYPE_Telecom</th>\n",
       "      <th>ORGANIZATION_TYPE_Trade: type 1</th>\n",
       "      <th>ORGANIZATION_TYPE_Trade: type 2</th>\n",
       "      <th>ORGANIZATION_TYPE_Trade: type 3</th>\n",
       "      <th>ORGANIZATION_TYPE_Trade: type 4</th>\n",
       "      <th>ORGANIZATION_TYPE_Trade: type 5</th>\n",
       "      <th>ORGANIZATION_TYPE_Trade: type 6</th>\n",
       "      <th>ORGANIZATION_TYPE_Trade: type 7</th>\n",
       "      <th>ORGANIZATION_TYPE_Transport: type 1</th>\n",
       "      <th>ORGANIZATION_TYPE_Transport: type 2</th>\n",
       "      <th>ORGANIZATION_TYPE_Transport: type 3</th>\n",
       "      <th>ORGANIZATION_TYPE_Transport: type 4</th>\n",
       "      <th>ORGANIZATION_TYPE_University</th>\n",
       "      <th>ORGANIZATION_TYPE_XNA</th>\n",
       "      <th>FONDKAPREMONT_MODE_not specified</th>\n",
       "      <th>FONDKAPREMONT_MODE_org spec account</th>\n",
       "      <th>FONDKAPREMONT_MODE_reg oper account</th>\n",
       "      <th>FONDKAPREMONT_MODE_reg oper spec account</th>\n",
       "      <th>HOUSETYPE_MODE_block of flats</th>\n",
       "      <th>HOUSETYPE_MODE_specific housing</th>\n",
       "      <th>HOUSETYPE_MODE_terraced house</th>\n",
       "      <th>WALLSMATERIAL_MODE_Block</th>\n",
       "      <th>WALLSMATERIAL_MODE_Mixed</th>\n",
       "      <th>WALLSMATERIAL_MODE_Monolithic</th>\n",
       "      <th>WALLSMATERIAL_MODE_Others</th>\n",
       "      <th>WALLSMATERIAL_MODE_Panel</th>\n",
       "      <th>WALLSMATERIAL_MODE_Stone, brick</th>\n",
       "      <th>WALLSMATERIAL_MODE_Wooden</th>\n",
       "      <th>EMERGENCYSTATE_MODE_No</th>\n",
       "      <th>EMERGENCYSTATE_MODE_Yes</th>\n",
       "    </tr>\n",
       "  </thead>\n",
       "  <tbody>\n",
       "    <tr>\n",
       "      <th>TARGET</th>\n",
       "      <td>-0.002108</td>\n",
       "      <td>1.0</td>\n",
       "      <td>0.019187</td>\n",
       "      <td>-0.003982</td>\n",
       "      <td>-0.030369</td>\n",
       "      <td>-0.012817</td>\n",
       "      <td>-0.039628</td>\n",
       "      <td>-0.037227</td>\n",
       "      <td>0.078239</td>\n",
       "      <td>-0.044932</td>\n",
       "      <td>0.041975</td>\n",
       "      <td>0.051457</td>\n",
       "      <td>0.020871</td>\n",
       "      <td>0.000534</td>\n",
       "      <td>0.045982</td>\n",
       "      <td>0.028524</td>\n",
       "      <td>0.00037</td>\n",
       "      <td>-0.023806</td>\n",
       "      <td>-0.001758</td>\n",
       "      <td>0.009308</td>\n",
       "      <td>0.058899</td>\n",
       "      <td>0.060893</td>\n",
       "      <td>-0.024166</td>\n",
       "      <td>0.005576</td>\n",
       "      <td>0.006942</td>\n",
       "      <td>0.002819</td>\n",
       "      <td>0.044395</td>\n",
       "      <td>0.050994</td>\n",
       "      <td>0.032518</td>\n",
       "      <td>-0.099152</td>\n",
       "      <td>-0.160303</td>\n",
       "      <td>-0.157397</td>\n",
       "      <td>-0.019336</td>\n",
       "      <td>-0.013619</td>\n",
       "      <td>-0.006518</td>\n",
       "      <td>-0.011901</td>\n",
       "      <td>-0.009479</td>\n",
       "      <td>-0.021745</td>\n",
       "      <td>-0.012612</td>\n",
       "      <td>-0.029145</td>\n",
       "      <td>-0.017727</td>\n",
       "      <td>-0.00649</td>\n",
       "      <td>-0.01309</td>\n",
       "      <td>-0.021804</td>\n",
       "      <td>-0.001635</td>\n",
       "      <td>-0.008451</td>\n",
       "      <td>-0.017885</td>\n",
       "      <td>-0.011947</td>\n",
       "      <td>-0.006055</td>\n",
       "      <td>-0.011857</td>\n",
       "      <td>-0.00835</td>\n",
       "      <td>-0.02043</td>\n",
       "      <td>-0.011438</td>\n",
       "      <td>-0.028631</td>\n",
       "      <td>-0.017244</td>\n",
       "      <td>-0.006066</td>\n",
       "      <td>-0.012234</td>\n",
       "      <td>-0.020276</td>\n",
       "      <td>-0.000801</td>\n",
       "      <td>-0.007911</td>\n",
       "      <td>-0.019131</td>\n",
       "      <td>-0.013221</td>\n",
       "      <td>-0.006696</td>\n",
       "      <td>-0.011996</td>\n",
       "      <td>-0.009491</td>\n",
       "      <td>-0.021531</td>\n",
       "      <td>-0.012515</td>\n",
       "      <td>-0.028989</td>\n",
       "      <td>-0.017611</td>\n",
       "      <td>-0.006711</td>\n",
       "      <td>-0.012876</td>\n",
       "      <td>-0.021634</td>\n",
       "      <td>-0.001419</td>\n",
       "      <td>-0.008301</td>\n",
       "      <td>-0.021943</td>\n",
       "      <td>0.009123</td>\n",
       "      <td>0.032222</td>\n",
       "      <td>0.009015</td>\n",
       "      <td>0.031251</td>\n",
       "      <td>0.055218</td>\n",
       "      <td>0.005417</td>\n",
       "      <td>0.044346</td>\n",
       "      <td>-0.002672</td>\n",
       "      <td>-0.000316</td>\n",
       "      <td>-0.028602</td>\n",
       "      <td>-0.00152</td>\n",
       "      <td>-0.00804</td>\n",
       "      <td>-0.004352</td>\n",
       "      <td>-0.001414</td>\n",
       "      <td>-0.004229</td>\n",
       "      <td>-0.000756</td>\n",
       "      <td>-0.011583</td>\n",
       "      <td>-0.009464</td>\n",
       "      <td>-0.006536</td>\n",
       "      <td>-0.011615</td>\n",
       "      <td>-0.003378</td>\n",
       "      <td>-0.007952</td>\n",
       "      <td>-0.001358</td>\n",
       "      <td>0.000215</td>\n",
       "      <td>0.003709</td>\n",
       "      <td>0.000848</td>\n",
       "      <td>0.002464</td>\n",
       "      <td>0.000718</td>\n",
       "      <td>-0.011356</td>\n",
       "      <td>-0.001842</td>\n",
       "      <td>0.01816</td>\n",
       "      <td>0.030896</td>\n",
       "      <td>-0.030896</td>\n",
       "      <td>-0.054704</td>\n",
       "      <td>0.054713</td>\n",
       "      <td>-0.001069</td>\n",
       "      <td>0.021851</td>\n",
       "      <td>-0.021851</td>\n",
       "      <td>0.006148</td>\n",
       "      <td>-0.006148</td>\n",
       "      <td>-0.002648</td>\n",
       "      <td>-0.008226</td>\n",
       "      <td>0.000452</td>\n",
       "      <td>0.001372</td>\n",
       "      <td>0.004909</td>\n",
       "      <td>-0.001448</td>\n",
       "      <td>0.008301</td>\n",
       "      <td>-0.00169</td>\n",
       "      <td>-0.011906</td>\n",
       "      <td>0.004726</td>\n",
       "      <td>-0.046209</td>\n",
       "      <td>-0.023447</td>\n",
       "      <td>-0.002267</td>\n",
       "      <td>0.008784</td>\n",
       "      <td>0.057481</td>\n",
       "      <td>-0.005294</td>\n",
       "      <td>-0.056593</td>\n",
       "      <td>0.002813</td>\n",
       "      <td>0.011747</td>\n",
       "      <td>0.049824</td>\n",
       "      <td>0.022496</td>\n",
       "      <td>-0.025043</td>\n",
       "      <td>0.001168</td>\n",
       "      <td>0.026518</td>\n",
       "      <td>-0.000756</td>\n",
       "      <td>-0.019394</td>\n",
       "      <td>-0.000312</td>\n",
       "      <td>-0.028555</td>\n",
       "      <td>0.003329</td>\n",
       "      <td>-0.005103</td>\n",
       "      <td>0.019767</td>\n",
       "      <td>0.029966</td>\n",
       "      <td>-0.02161</td>\n",
       "      <td>0.006979</td>\n",
       "      <td>0.012222</td>\n",
       "      <td>-0.020378</td>\n",
       "      <td>0.030303</td>\n",
       "      <td>-0.002639</td>\n",
       "      <td>-0.013766</td>\n",
       "      <td>-0.002445</td>\n",
       "      <td>0.043019</td>\n",
       "      <td>0.027591</td>\n",
       "      <td>-0.018648</td>\n",
       "      <td>-0.008514</td>\n",
       "      <td>-0.005047</td>\n",
       "      <td>-0.000394</td>\n",
       "      <td>0.019537</td>\n",
       "      <td>-0.002452</td>\n",
       "      <td>0.014648</td>\n",
       "      <td>0.007802</td>\n",
       "      <td>0.001203</td>\n",
       "      <td>-0.005149</td>\n",
       "      <td>-0.002396</td>\n",
       "      <td>-0.001244</td>\n",
       "      <td>0.000446</td>\n",
       "      <td>0.004698</td>\n",
       "      <td>0.001447</td>\n",
       "      <td>0.000117</td>\n",
       "      <td>0.007901</td>\n",
       "      <td>-0.009609</td>\n",
       "      <td>0.000339</td>\n",
       "      <td>0.003152</td>\n",
       "      <td>0.023993</td>\n",
       "      <td>0.00329</td>\n",
       "      <td>0.019792</td>\n",
       "      <td>-0.003265</td>\n",
       "      <td>-0.002945</td>\n",
       "      <td>-0.001458</td>\n",
       "      <td>-0.00752</td>\n",
       "      <td>-0.00341</td>\n",
       "      <td>-0.000464</td>\n",
       "      <td>0.006402</td>\n",
       "      <td>-0.001141</td>\n",
       "      <td>0.002009</td>\n",
       "      <td>-0.005444</td>\n",
       "      <td>0.002905</td>\n",
       "      <td>-0.00123</td>\n",
       "      <td>0.009691</td>\n",
       "      <td>0.004074</td>\n",
       "      <td>-0.001992</td>\n",
       "      <td>-0.000652</td>\n",
       "      <td>-0.000094</td>\n",
       "      <td>0.001436</td>\n",
       "      <td>-0.005379</td>\n",
       "      <td>-0.00385</td>\n",
       "      <td>-0.005764</td>\n",
       "      <td>-0.000236</td>\n",
       "      <td>-0.010619</td>\n",
       "      <td>-0.010057</td>\n",
       "      <td>0.001268</td>\n",
       "      <td>-0.003784</td>\n",
       "      <td>-0.009886</td>\n",
       "      <td>0.001125</td>\n",
       "      <td>0.003339</td>\n",
       "      <td>-0.001337</td>\n",
       "      <td>0.010266</td>\n",
       "      <td>-0.013671</td>\n",
       "      <td>0.007226</td>\n",
       "      <td>-0.00947</td>\n",
       "      <td>0.029139</td>\n",
       "      <td>-0.003871</td>\n",
       "      <td>-0.000712</td>\n",
       "      <td>0.001032</td>\n",
       "      <td>-0.003105</td>\n",
       "      <td>0.008911</td>\n",
       "      <td>-0.002621</td>\n",
       "      <td>-0.000904</td>\n",
       "      <td>-0.005788</td>\n",
       "      <td>0.00817</td>\n",
       "      <td>-0.003375</td>\n",
       "      <td>-0.000839</td>\n",
       "      <td>0.017552</td>\n",
       "      <td>0.005929</td>\n",
       "      <td>-0.007672</td>\n",
       "      <td>-0.045987</td>\n",
       "      <td>-0.002667</td>\n",
       "      <td>-0.011285</td>\n",
       "      <td>-0.022587</td>\n",
       "      <td>-0.011257</td>\n",
       "      <td>-0.040594</td>\n",
       "      <td>0.005311</td>\n",
       "      <td>0.000982</td>\n",
       "      <td>-0.006777</td>\n",
       "      <td>-0.001713</td>\n",
       "      <td>-0.009384</td>\n",
       "      <td>0.000628</td>\n",
       "      <td>-0.033119</td>\n",
       "      <td>-0.012657</td>\n",
       "      <td>0.007946</td>\n",
       "      <td>-0.042201</td>\n",
       "      <td>0.004829</td>\n",
       "    </tr>\n",
       "  </tbody>\n",
       "</table>\n",
       "</div>"
      ],
      "text/plain": [
       "        SK_ID_CURR  TARGET  CNT_CHILDREN  AMT_INCOME_TOTAL  AMT_CREDIT  \\\n",
       "TARGET   -0.002108     1.0      0.019187         -0.003982   -0.030369   \n",
       "\n",
       "        AMT_ANNUITY  AMT_GOODS_PRICE  REGION_POPULATION_RELATIVE  DAYS_BIRTH  \\\n",
       "TARGET    -0.012817        -0.039628                   -0.037227    0.078239   \n",
       "\n",
       "        DAYS_EMPLOYED  DAYS_REGISTRATION  DAYS_ID_PUBLISH  OWN_CAR_AGE  \\\n",
       "TARGET      -0.044932           0.041975         0.051457     0.020871   \n",
       "\n",
       "        FLAG_MOBIL  FLAG_EMP_PHONE  FLAG_WORK_PHONE  FLAG_CONT_MOBILE  \\\n",
       "TARGET    0.000534        0.045982         0.028524           0.00037   \n",
       "\n",
       "        FLAG_PHONE  FLAG_EMAIL  CNT_FAM_MEMBERS  REGION_RATING_CLIENT  \\\n",
       "TARGET   -0.023806   -0.001758         0.009308              0.058899   \n",
       "\n",
       "        REGION_RATING_CLIENT_W_CITY  HOUR_APPR_PROCESS_START  \\\n",
       "TARGET                     0.060893                -0.024166   \n",
       "\n",
       "        REG_REGION_NOT_LIVE_REGION  REG_REGION_NOT_WORK_REGION  \\\n",
       "TARGET                    0.005576                    0.006942   \n",
       "\n",
       "        LIVE_REGION_NOT_WORK_REGION  REG_CITY_NOT_LIVE_CITY  \\\n",
       "TARGET                     0.002819                0.044395   \n",
       "\n",
       "        REG_CITY_NOT_WORK_CITY  LIVE_CITY_NOT_WORK_CITY  EXT_SOURCE_1  \\\n",
       "TARGET                0.050994                 0.032518     -0.099152   \n",
       "\n",
       "        EXT_SOURCE_2  EXT_SOURCE_3  APARTMENTS_AVG  BASEMENTAREA_AVG  \\\n",
       "TARGET     -0.160303     -0.157397       -0.019336         -0.013619   \n",
       "\n",
       "        YEARS_BEGINEXPLUATATION_AVG  YEARS_BUILD_AVG  COMMONAREA_AVG  \\\n",
       "TARGET                    -0.006518        -0.011901       -0.009479   \n",
       "\n",
       "        ELEVATORS_AVG  ENTRANCES_AVG  FLOORSMAX_AVG  FLOORSMIN_AVG  \\\n",
       "TARGET      -0.021745      -0.012612      -0.029145      -0.017727   \n",
       "\n",
       "        LANDAREA_AVG  LIVINGAPARTMENTS_AVG  LIVINGAREA_AVG  \\\n",
       "TARGET      -0.00649              -0.01309       -0.021804   \n",
       "\n",
       "        NONLIVINGAPARTMENTS_AVG  NONLIVINGAREA_AVG  APARTMENTS_MODE  \\\n",
       "TARGET                -0.001635          -0.008451        -0.017885   \n",
       "\n",
       "        BASEMENTAREA_MODE  YEARS_BEGINEXPLUATATION_MODE  YEARS_BUILD_MODE  \\\n",
       "TARGET          -0.011947                     -0.006055         -0.011857   \n",
       "\n",
       "        COMMONAREA_MODE  ELEVATORS_MODE  ENTRANCES_MODE  FLOORSMAX_MODE  \\\n",
       "TARGET         -0.00835        -0.02043       -0.011438       -0.028631   \n",
       "\n",
       "        FLOORSMIN_MODE  LANDAREA_MODE  LIVINGAPARTMENTS_MODE  LIVINGAREA_MODE  \\\n",
       "TARGET       -0.017244      -0.006066              -0.012234        -0.020276   \n",
       "\n",
       "        NONLIVINGAPARTMENTS_MODE  NONLIVINGAREA_MODE  APARTMENTS_MEDI  \\\n",
       "TARGET                 -0.000801           -0.007911        -0.019131   \n",
       "\n",
       "        BASEMENTAREA_MEDI  YEARS_BEGINEXPLUATATION_MEDI  YEARS_BUILD_MEDI  \\\n",
       "TARGET          -0.013221                     -0.006696         -0.011996   \n",
       "\n",
       "        COMMONAREA_MEDI  ELEVATORS_MEDI  ENTRANCES_MEDI  FLOORSMAX_MEDI  \\\n",
       "TARGET        -0.009491       -0.021531       -0.012515       -0.028989   \n",
       "\n",
       "        FLOORSMIN_MEDI  LANDAREA_MEDI  LIVINGAPARTMENTS_MEDI  LIVINGAREA_MEDI  \\\n",
       "TARGET       -0.017611      -0.006711              -0.012876        -0.021634   \n",
       "\n",
       "        NONLIVINGAPARTMENTS_MEDI  NONLIVINGAREA_MEDI  TOTALAREA_MODE  \\\n",
       "TARGET                 -0.001419           -0.008301       -0.021943   \n",
       "\n",
       "        OBS_30_CNT_SOCIAL_CIRCLE  DEF_30_CNT_SOCIAL_CIRCLE  \\\n",
       "TARGET                  0.009123                  0.032222   \n",
       "\n",
       "        OBS_60_CNT_SOCIAL_CIRCLE  DEF_60_CNT_SOCIAL_CIRCLE  \\\n",
       "TARGET                  0.009015                  0.031251   \n",
       "\n",
       "        DAYS_LAST_PHONE_CHANGE  FLAG_DOCUMENT_2  FLAG_DOCUMENT_3  \\\n",
       "TARGET                0.055218         0.005417         0.044346   \n",
       "\n",
       "        FLAG_DOCUMENT_4  FLAG_DOCUMENT_5  FLAG_DOCUMENT_6  FLAG_DOCUMENT_7  \\\n",
       "TARGET        -0.002672        -0.000316        -0.028602         -0.00152   \n",
       "\n",
       "        FLAG_DOCUMENT_8  FLAG_DOCUMENT_9  FLAG_DOCUMENT_10  FLAG_DOCUMENT_11  \\\n",
       "TARGET         -0.00804        -0.004352         -0.001414         -0.004229   \n",
       "\n",
       "        FLAG_DOCUMENT_12  FLAG_DOCUMENT_13  FLAG_DOCUMENT_14  \\\n",
       "TARGET         -0.000756         -0.011583         -0.009464   \n",
       "\n",
       "        FLAG_DOCUMENT_15  FLAG_DOCUMENT_16  FLAG_DOCUMENT_17  \\\n",
       "TARGET         -0.006536         -0.011615         -0.003378   \n",
       "\n",
       "        FLAG_DOCUMENT_18  FLAG_DOCUMENT_19  FLAG_DOCUMENT_20  \\\n",
       "TARGET         -0.007952         -0.001358          0.000215   \n",
       "\n",
       "        FLAG_DOCUMENT_21  AMT_REQ_CREDIT_BUREAU_HOUR  \\\n",
       "TARGET          0.003709                    0.000848   \n",
       "\n",
       "        AMT_REQ_CREDIT_BUREAU_DAY  AMT_REQ_CREDIT_BUREAU_WEEK  \\\n",
       "TARGET                   0.002464                    0.000718   \n",
       "\n",
       "        AMT_REQ_CREDIT_BUREAU_MON  AMT_REQ_CREDIT_BUREAU_QRT  \\\n",
       "TARGET                  -0.011356                  -0.001842   \n",
       "\n",
       "        AMT_REQ_CREDIT_BUREAU_YEAR  NAME_CONTRACT_TYPE_Cash loans  \\\n",
       "TARGET                     0.01816                       0.030896   \n",
       "\n",
       "        NAME_CONTRACT_TYPE_Revolving loans  CODE_GENDER_F  CODE_GENDER_M  \\\n",
       "TARGET                           -0.030896      -0.054704       0.054713   \n",
       "\n",
       "        CODE_GENDER_XNA  FLAG_OWN_CAR_N  FLAG_OWN_CAR_Y  FLAG_OWN_REALTY_N  \\\n",
       "TARGET        -0.001069        0.021851       -0.021851           0.006148   \n",
       "\n",
       "        FLAG_OWN_REALTY_Y  NAME_TYPE_SUITE_Children  NAME_TYPE_SUITE_Family  \\\n",
       "TARGET          -0.006148                 -0.002648               -0.008226   \n",
       "\n",
       "        NAME_TYPE_SUITE_Group of people  NAME_TYPE_SUITE_Other_A  \\\n",
       "TARGET                         0.000452                 0.001372   \n",
       "\n",
       "        NAME_TYPE_SUITE_Other_B  NAME_TYPE_SUITE_Spouse, partner  \\\n",
       "TARGET                 0.004909                        -0.001448   \n",
       "\n",
       "        NAME_TYPE_SUITE_Unaccompanied  NAME_INCOME_TYPE_Businessman  \\\n",
       "TARGET                       0.008301                      -0.00169   \n",
       "\n",
       "        NAME_INCOME_TYPE_Commercial associate  \\\n",
       "TARGET                              -0.011906   \n",
       "\n",
       "        NAME_INCOME_TYPE_Maternity leave  NAME_INCOME_TYPE_Pensioner  \\\n",
       "TARGET                          0.004726                   -0.046209   \n",
       "\n",
       "        NAME_INCOME_TYPE_State servant  NAME_INCOME_TYPE_Student  \\\n",
       "TARGET                       -0.023447                 -0.002267   \n",
       "\n",
       "        NAME_INCOME_TYPE_Unemployed  NAME_INCOME_TYPE_Working  \\\n",
       "TARGET                     0.008784                  0.057481   \n",
       "\n",
       "        NAME_EDUCATION_TYPE_Academic degree  \\\n",
       "TARGET                            -0.005294   \n",
       "\n",
       "        NAME_EDUCATION_TYPE_Higher education  \\\n",
       "TARGET                             -0.056593   \n",
       "\n",
       "        NAME_EDUCATION_TYPE_Incomplete higher  \\\n",
       "TARGET                               0.002813   \n",
       "\n",
       "        NAME_EDUCATION_TYPE_Lower secondary  \\\n",
       "TARGET                             0.011747   \n",
       "\n",
       "        NAME_EDUCATION_TYPE_Secondary / secondary special  \\\n",
       "TARGET                                           0.049824   \n",
       "\n",
       "        NAME_FAMILY_STATUS_Civil marriage  NAME_FAMILY_STATUS_Married  \\\n",
       "TARGET                           0.022496                   -0.025043   \n",
       "\n",
       "        NAME_FAMILY_STATUS_Separated  NAME_FAMILY_STATUS_Single / not married  \\\n",
       "TARGET                      0.001168                                 0.026518   \n",
       "\n",
       "        NAME_FAMILY_STATUS_Unknown  NAME_FAMILY_STATUS_Widow  \\\n",
       "TARGET                   -0.000756                 -0.019394   \n",
       "\n",
       "        NAME_HOUSING_TYPE_Co-op apartment  \\\n",
       "TARGET                          -0.000312   \n",
       "\n",
       "        NAME_HOUSING_TYPE_House / apartment  \\\n",
       "TARGET                            -0.028555   \n",
       "\n",
       "        NAME_HOUSING_TYPE_Municipal apartment  \\\n",
       "TARGET                               0.003329   \n",
       "\n",
       "        NAME_HOUSING_TYPE_Office apartment  \\\n",
       "TARGET                           -0.005103   \n",
       "\n",
       "        NAME_HOUSING_TYPE_Rented apartment  NAME_HOUSING_TYPE_With parents  \\\n",
       "TARGET                            0.019767                        0.029966   \n",
       "\n",
       "        OCCUPATION_TYPE_Accountants  OCCUPATION_TYPE_Cleaning staff  \\\n",
       "TARGET                     -0.02161                        0.006979   \n",
       "\n",
       "        OCCUPATION_TYPE_Cooking staff  OCCUPATION_TYPE_Core staff  \\\n",
       "TARGET                       0.012222                   -0.020378   \n",
       "\n",
       "        OCCUPATION_TYPE_Drivers  OCCUPATION_TYPE_HR staff  \\\n",
       "TARGET                 0.030303                 -0.002639   \n",
       "\n",
       "        OCCUPATION_TYPE_High skill tech staff  OCCUPATION_TYPE_IT staff  \\\n",
       "TARGET                              -0.013766                 -0.002445   \n",
       "\n",
       "        OCCUPATION_TYPE_Laborers  OCCUPATION_TYPE_Low-skill Laborers  \\\n",
       "TARGET                  0.043019                            0.027591   \n",
       "\n",
       "        OCCUPATION_TYPE_Managers  OCCUPATION_TYPE_Medicine staff  \\\n",
       "TARGET                 -0.018648                       -0.008514   \n",
       "\n",
       "        OCCUPATION_TYPE_Private service staff  OCCUPATION_TYPE_Realty agents  \\\n",
       "TARGET                              -0.005047                      -0.000394   \n",
       "\n",
       "        OCCUPATION_TYPE_Sales staff  OCCUPATION_TYPE_Secretaries  \\\n",
       "TARGET                     0.019537                    -0.002452   \n",
       "\n",
       "        OCCUPATION_TYPE_Security staff  OCCUPATION_TYPE_Waiters/barmen staff  \\\n",
       "TARGET                        0.014648                              0.007802   \n",
       "\n",
       "        WEEKDAY_APPR_PROCESS_START_FRIDAY  WEEKDAY_APPR_PROCESS_START_MONDAY  \\\n",
       "TARGET                           0.001203                          -0.005149   \n",
       "\n",
       "        WEEKDAY_APPR_PROCESS_START_SATURDAY  \\\n",
       "TARGET                            -0.002396   \n",
       "\n",
       "        WEEKDAY_APPR_PROCESS_START_SUNDAY  \\\n",
       "TARGET                          -0.001244   \n",
       "\n",
       "        WEEKDAY_APPR_PROCESS_START_THURSDAY  \\\n",
       "TARGET                             0.000446   \n",
       "\n",
       "        WEEKDAY_APPR_PROCESS_START_TUESDAY  \\\n",
       "TARGET                            0.004698   \n",
       "\n",
       "        WEEKDAY_APPR_PROCESS_START_WEDNESDAY  ORGANIZATION_TYPE_Advertising  \\\n",
       "TARGET                              0.001447                       0.000117   \n",
       "\n",
       "        ORGANIZATION_TYPE_Agriculture  ORGANIZATION_TYPE_Bank  \\\n",
       "TARGET                       0.007901               -0.009609   \n",
       "\n",
       "        ORGANIZATION_TYPE_Business Entity Type 1  \\\n",
       "TARGET                                  0.000339   \n",
       "\n",
       "        ORGANIZATION_TYPE_Business Entity Type 2  \\\n",
       "TARGET                                  0.003152   \n",
       "\n",
       "        ORGANIZATION_TYPE_Business Entity Type 3  ORGANIZATION_TYPE_Cleaning  \\\n",
       "TARGET                                  0.023993                     0.00329   \n",
       "\n",
       "        ORGANIZATION_TYPE_Construction  ORGANIZATION_TYPE_Culture  \\\n",
       "TARGET                        0.019792                  -0.003265   \n",
       "\n",
       "        ORGANIZATION_TYPE_Electricity  ORGANIZATION_TYPE_Emergency  \\\n",
       "TARGET                      -0.002945                    -0.001458   \n",
       "\n",
       "        ORGANIZATION_TYPE_Government  ORGANIZATION_TYPE_Hotel  \\\n",
       "TARGET                      -0.00752                 -0.00341   \n",
       "\n",
       "        ORGANIZATION_TYPE_Housing  ORGANIZATION_TYPE_Industry: type 1  \\\n",
       "TARGET                  -0.000464                            0.006402   \n",
       "\n",
       "        ORGANIZATION_TYPE_Industry: type 10  \\\n",
       "TARGET                            -0.001141   \n",
       "\n",
       "        ORGANIZATION_TYPE_Industry: type 11  \\\n",
       "TARGET                             0.002009   \n",
       "\n",
       "        ORGANIZATION_TYPE_Industry: type 12  \\\n",
       "TARGET                            -0.005444   \n",
       "\n",
       "        ORGANIZATION_TYPE_Industry: type 13  \\\n",
       "TARGET                             0.002905   \n",
       "\n",
       "        ORGANIZATION_TYPE_Industry: type 2  \\\n",
       "TARGET                            -0.00123   \n",
       "\n",
       "        ORGANIZATION_TYPE_Industry: type 3  \\\n",
       "TARGET                            0.009691   \n",
       "\n",
       "        ORGANIZATION_TYPE_Industry: type 4  \\\n",
       "TARGET                            0.004074   \n",
       "\n",
       "        ORGANIZATION_TYPE_Industry: type 5  \\\n",
       "TARGET                           -0.001992   \n",
       "\n",
       "        ORGANIZATION_TYPE_Industry: type 6  \\\n",
       "TARGET                           -0.000652   \n",
       "\n",
       "        ORGANIZATION_TYPE_Industry: type 7  \\\n",
       "TARGET                           -0.000094   \n",
       "\n",
       "        ORGANIZATION_TYPE_Industry: type 8  \\\n",
       "TARGET                            0.001436   \n",
       "\n",
       "        ORGANIZATION_TYPE_Industry: type 9  ORGANIZATION_TYPE_Insurance  \\\n",
       "TARGET                           -0.005379                     -0.00385   \n",
       "\n",
       "        ORGANIZATION_TYPE_Kindergarten  ORGANIZATION_TYPE_Legal Services  \\\n",
       "TARGET                       -0.005764                         -0.000236   \n",
       "\n",
       "        ORGANIZATION_TYPE_Medicine  ORGANIZATION_TYPE_Military  \\\n",
       "TARGET                   -0.010619                   -0.010057   \n",
       "\n",
       "        ORGANIZATION_TYPE_Mobile  ORGANIZATION_TYPE_Other  \\\n",
       "TARGET                  0.001268                -0.003784   \n",
       "\n",
       "        ORGANIZATION_TYPE_Police  ORGANIZATION_TYPE_Postal  \\\n",
       "TARGET                 -0.009886                  0.001125   \n",
       "\n",
       "        ORGANIZATION_TYPE_Realtor  ORGANIZATION_TYPE_Religion  \\\n",
       "TARGET                   0.003339                   -0.001337   \n",
       "\n",
       "        ORGANIZATION_TYPE_Restaurant  ORGANIZATION_TYPE_School  \\\n",
       "TARGET                      0.010266                 -0.013671   \n",
       "\n",
       "        ORGANIZATION_TYPE_Security  ORGANIZATION_TYPE_Security Ministries  \\\n",
       "TARGET                    0.007226                               -0.00947   \n",
       "\n",
       "        ORGANIZATION_TYPE_Self-employed  ORGANIZATION_TYPE_Services  \\\n",
       "TARGET                         0.029139                   -0.003871   \n",
       "\n",
       "        ORGANIZATION_TYPE_Telecom  ORGANIZATION_TYPE_Trade: type 1  \\\n",
       "TARGET                  -0.000712                         0.001032   \n",
       "\n",
       "        ORGANIZATION_TYPE_Trade: type 2  ORGANIZATION_TYPE_Trade: type 3  \\\n",
       "TARGET                        -0.003105                         0.008911   \n",
       "\n",
       "        ORGANIZATION_TYPE_Trade: type 4  ORGANIZATION_TYPE_Trade: type 5  \\\n",
       "TARGET                        -0.002621                        -0.000904   \n",
       "\n",
       "        ORGANIZATION_TYPE_Trade: type 6  ORGANIZATION_TYPE_Trade: type 7  \\\n",
       "TARGET                        -0.005788                          0.00817   \n",
       "\n",
       "        ORGANIZATION_TYPE_Transport: type 1  \\\n",
       "TARGET                            -0.003375   \n",
       "\n",
       "        ORGANIZATION_TYPE_Transport: type 2  \\\n",
       "TARGET                            -0.000839   \n",
       "\n",
       "        ORGANIZATION_TYPE_Transport: type 3  \\\n",
       "TARGET                             0.017552   \n",
       "\n",
       "        ORGANIZATION_TYPE_Transport: type 4  ORGANIZATION_TYPE_University  \\\n",
       "TARGET                             0.005929                     -0.007672   \n",
       "\n",
       "        ORGANIZATION_TYPE_XNA  FONDKAPREMONT_MODE_not specified  \\\n",
       "TARGET              -0.045987                         -0.002667   \n",
       "\n",
       "        FONDKAPREMONT_MODE_org spec account  \\\n",
       "TARGET                            -0.011285   \n",
       "\n",
       "        FONDKAPREMONT_MODE_reg oper account  \\\n",
       "TARGET                            -0.022587   \n",
       "\n",
       "        FONDKAPREMONT_MODE_reg oper spec account  \\\n",
       "TARGET                                 -0.011257   \n",
       "\n",
       "        HOUSETYPE_MODE_block of flats  HOUSETYPE_MODE_specific housing  \\\n",
       "TARGET                      -0.040594                         0.005311   \n",
       "\n",
       "        HOUSETYPE_MODE_terraced house  WALLSMATERIAL_MODE_Block  \\\n",
       "TARGET                       0.000982                 -0.006777   \n",
       "\n",
       "        WALLSMATERIAL_MODE_Mixed  WALLSMATERIAL_MODE_Monolithic  \\\n",
       "TARGET                 -0.001713                      -0.009384   \n",
       "\n",
       "        WALLSMATERIAL_MODE_Others  WALLSMATERIAL_MODE_Panel  \\\n",
       "TARGET                   0.000628                 -0.033119   \n",
       "\n",
       "        WALLSMATERIAL_MODE_Stone, brick  WALLSMATERIAL_MODE_Wooden  \\\n",
       "TARGET                        -0.012657                   0.007946   \n",
       "\n",
       "        EMERGENCYSTATE_MODE_No  EMERGENCYSTATE_MODE_Yes  \n",
       "TARGET               -0.042201                 0.004829  "
      ]
     },
     "execution_count": 18,
     "metadata": {},
     "output_type": "execute_result"
    }
   ],
   "source": [
    "#最大表示列数の指定\n",
    "pd.set_option('display.max_columns', 246)\n",
    "df_corr = df.corr()\n",
    "#ターゲットとの相関確認\n",
    "df_corr.loc[['TARGET']]"
   ]
  },
  {
   "cell_type": "code",
   "execution_count": 19,
   "metadata": {
    "collapsed": true
   },
   "outputs": [],
   "source": [
    "# 利用する特徴量1１に絞る\n",
    "X2 = df.loc[:, [\"EXT_SOURCE_1\",\"EXT_SOURCE_2\",\"EXT_SOURCE_3\",\"NAME_EDUCATION_TYPE_Higher education\",\"CODE_GENDER_F\",\"CODE_GENDER_M\",\"DAYS_BIRTH\",\"DAYS_EMPLOYED\",'AMT_CREDIT', 'AMT_GOODS_PRICE','DAYS_REGISTRATION']]\n",
    "y2 = df.loc[:, ['TARGET']]"
   ]
  },
  {
   "cell_type": "code",
   "execution_count": 20,
   "metadata": {},
   "outputs": [
    {
     "data": {
      "text/plain": [
       "(307511, 11)"
      ]
     },
     "execution_count": 20,
     "metadata": {},
     "output_type": "execute_result"
    }
   ],
   "source": [
    "X2.shape"
   ]
  },
  {
   "cell_type": "code",
   "execution_count": 21,
   "metadata": {},
   "outputs": [
    {
     "name": "stderr",
     "output_type": "stream",
     "text": [
      "/Users/katouyuuya/anaconda3/lib/python3.6/site-packages/ipykernel_launcher.py:8: DataConversionWarning: A column-vector y was passed when a 1d array was expected. Please change the shape of y to (n_samples,), for example using ravel().\n",
      "  \n"
     ]
    },
    {
     "data": {
      "text/plain": [
       "RandomForestClassifier(bootstrap=True, ccp_alpha=0.0, class_weight=None,\n",
       "                       criterion='gini', max_depth=None, max_features='auto',\n",
       "                       max_leaf_nodes=None, max_samples=None,\n",
       "                       min_impurity_decrease=0.0, min_impurity_split=None,\n",
       "                       min_samples_leaf=1, min_samples_split=2,\n",
       "                       min_weight_fraction_leaf=0.0, n_estimators=100,\n",
       "                       n_jobs=None, oob_score=False, random_state=0, verbose=0,\n",
       "                       warm_start=False)"
      ]
     },
     "execution_count": 21,
     "metadata": {},
     "output_type": "execute_result"
    }
   ],
   "source": [
    "X_train, X_test, y_train, y_test = train_test_split(X2, y2, random_state=0)\n",
    "\n",
    "param = {'n_estimators': [1, 10, 20, 30, 40, 50]}\n",
    "\n",
    "rfc = RandomForestClassifier(random_state=0, )\n",
    "gscv = GridSearchCV(estimator=rfc, param_grid=param, scoring='roc_auc', cv=4)\n",
    "gscv.fit(X_train, y_train.values.ravel())\n",
    "rfc.fit(X_train, y_train)"
   ]
  },
  {
   "cell_type": "code",
   "execution_count": 22,
   "metadata": {},
   "outputs": [
    {
     "name": "stdout",
     "output_type": "stream",
     "text": [
      "グリッドサーチ・ランダムフォレストモデルのbest parameter      :  50\n"
     ]
    }
   ],
   "source": [
    "print('グリッドサーチ・ランダムフォレストモデルのbest parameter      :  %d'  %gscv.best_estimator_.n_estimators)"
   ]
  },
  {
   "cell_type": "code",
   "execution_count": 23,
   "metadata": {},
   "outputs": [
    {
     "data": {
      "text/plain": [
       "0.704056235338614"
      ]
     },
     "execution_count": 23,
     "metadata": {},
     "output_type": "execute_result"
    }
   ],
   "source": [
    "from sklearn.metrics import roc_curve\n",
    "\n",
    "y_pred2 = gscv.predict(X_test)\n",
    "y_pred2_prob = gscv.predict_proba(X_test)\n",
    "fpr, tpr, _ = roc_curve(y_test, y_pred2_prob[:, 1])\n",
    "score = auc(fpr, tpr)\n",
    "score"
   ]
  },
  {
   "cell_type": "code",
   "execution_count": 24,
   "metadata": {},
   "outputs": [
    {
     "name": "stdout",
     "output_type": "stream",
     "text": [
      "グリッドサーチ・ランダムフォレストモデルによる予測値   :  0.704\n"
     ]
    }
   ],
   "source": [
    "from sklearn.metrics import roc_auc_score\n",
    "print('グリッドサーチ・ランダムフォレストモデルによる予測値   :  %.3f'  %score)"
   ]
  },
  {
   "cell_type": "code",
   "execution_count": 25,
   "metadata": {},
   "outputs": [
    {
     "data": {
      "image/png": "[encoded data removed]",
      "text/plain": [
       "<Figure size 432x288 with 1 Axes>"
      ]
     },
     "metadata": {},
     "output_type": "display_data"
    }
   ],
   "source": [
    "# ROC 曲線の描写\n",
    "plt.plot(fpr, tpr, '-')\n",
    "plt.plot([0, 1], [0, 1], 'k--')\n",
    "plt.xlim([0.0, 1.0])\n",
    "plt.ylim([0.0, 1.0])\n",
    "plt.xlabel('False Positive Rate')\n",
    "plt.ylabel('True Positive Rate')\n",
    "plt.title('ROC curve')\n",
    "plt.show();"
   ]
  },
  {
   "cell_type": "markdown",
   "metadata": {},
   "source": [
    "[考察]今回増やした特徴量はあまり良くない。そのため全てのデータをどう利用するか検討必要。"
   ]
  },
  {
   "cell_type": "markdown",
   "metadata": {},
   "source": [
    "## 試行２\n",
    "今回は、LightGBMを利用する。"
   ]
  },
  {
   "cell_type": "code",
   "execution_count": 161,
   "metadata": {
    "collapsed": true
   },
   "outputs": [],
   "source": [
    "X_train, X_valid, y_train, y_valid = train_test_split(X2, y2, test_size=0.20, random_state=42)"
   ]
  },
  {
   "cell_type": "code",
   "execution_count": 162,
   "metadata": {},
   "outputs": [
    {
     "name": "stdout",
     "output_type": "stream",
     "text": [
      "Training shape:  (246008, 11)\n",
      "Testing  shape:  (61503, 11)\n"
     ]
    }
   ],
   "source": [
    "print(\"Training shape: \", X_train.shape)\n",
    "print(\"Testing  shape: \", X_valid.shape)"
   ]
  },
  {
   "cell_type": "code",
   "execution_count": 163,
   "metadata": {
    "collapsed": true
   },
   "outputs": [],
   "source": [
    "import lightgbm as lgb"
   ]
  },
  {
   "cell_type": "code",
   "execution_count": 164,
   "metadata": {},
   "outputs": [
    {
     "name": "stdout",
     "output_type": "stream",
     "text": [
      "Training until validation scores don't improve for 20 rounds\n",
      "[10]\tvalid_0's binary_logloss: 0.27408\tvalid_1's binary_logloss: 0.273429\n",
      "[20]\tvalid_0's binary_logloss: 0.27018\tvalid_1's binary_logloss: 0.269672\n",
      "[30]\tvalid_0's binary_logloss: 0.267783\tvalid_1's binary_logloss: 0.267409\n",
      "[40]\tvalid_0's binary_logloss: 0.266339\tvalid_1's binary_logloss: 0.266071\n",
      "[50]\tvalid_0's binary_logloss: 0.265485\tvalid_1's binary_logloss: 0.265309\n",
      "[60]\tvalid_0's binary_logloss: 0.264997\tvalid_1's binary_logloss: 0.264916\n",
      "[70]\tvalid_0's binary_logloss: 0.264718\tvalid_1's binary_logloss: 0.264733\n",
      "[80]\tvalid_0's binary_logloss: 0.264619\tvalid_1's binary_logloss: 0.264747\n",
      "[90]\tvalid_0's binary_logloss: 0.264673\tvalid_1's binary_logloss: 0.264869\n",
      "Early stopping, best iteration is:\n",
      "[74]\tvalid_0's binary_logloss: 0.26466\tvalid_1's binary_logloss: 0.264716\n"
     ]
    }
   ],
   "source": [
    "params = {\n",
    "    'application': 'binary',\n",
    "    'learning_rate': 0.01,\n",
    "    'num_leaves': 34,\n",
    "    'max_depth': 5,\n",
    "    'feature_fraction': 0.9,\n",
    "    'scale_pos_weight': 2,\n",
    "    'reg_alpha': 0.05,\n",
    "    'reg_lambda': 0.1}\n",
    "model = lgb.train(params, lgb.Dataset(X_train, y_train), 1000, [lgb.Dataset(X_train, y_train), lgb.Dataset(X_valid, y_valid)], verbose_eval=10, early_stopping_rounds=20)"
   ]
  },
  {
   "cell_type": "code",
   "execution_count": 165,
   "metadata": {},
   "outputs": [
    {
     "data": {
      "text/plain": [
       "0.7299259248450617"
      ]
     },
     "execution_count": 165,
     "metadata": {},
     "output_type": "execute_result"
    }
   ],
   "source": [
    "from sklearn.metrics import roc_auc_score\n",
    "preds = model.predict(X_valid)\n",
    "roc_auc_score(y_valid, preds)"
   ]
  },
  {
   "cell_type": "code",
   "execution_count": 166,
   "metadata": {},
   "outputs": [
    {
     "data": {
      "image/png": "[encoded data removed]",
      "text/plain": [
       "<Figure size 432x288 with 1 Axes>"
      ]
     },
     "metadata": {},
     "output_type": "display_data"
    }
   ],
   "source": [
    "# ROC 曲線の描写\n",
    "from sklearn.metrics import roc_curve\n",
    "fpr, tpr, _ = roc_curve(y_valid, preds)\n",
    "\n",
    "plt.plot(fpr, tpr, '-')\n",
    "plt.plot([0, 1], [0, 1], 'k--')\n",
    "plt.xlim([0.0, 1.0])\n",
    "plt.ylim([0.0, 1.0])\n",
    "plt.xlabel('False Positive Rate')\n",
    "plt.ylabel('True Positive Rate')\n",
    "plt.title('ROC curve')\n",
    "plt.show();"
   ]
  },
  {
   "cell_type": "markdown",
   "metadata": {},
   "source": [
    "<strong>[結果]</strong><br>\n",
    "LightGBMで同じ特徴量を活用するだけでも精度が上がった。また、計算の処理速度もかなり早い<br>\n",
    "\n",
    "<strong>[考察]</strong><br>\n",
    "しかしながら自身の作った前処理済みデータは数値のみ利用したカーネルのデータよりも精度落ちていた。そのため特徴量の取捨選択を必要に感じる。内容理解しないままLIghtGBM利用しているので、原理などについても勉強の必要あり。"
   ]
  },
  {
   "cell_type": "markdown",
   "metadata": {},
   "source": [
    "# 【問題5】最終的なモデルの選定\n",
    "最終的にこれは良いというモデルを選び、推定した結果をKaggleに提出してスコアを確認してください。どういったアイデアを取り入れ、どの程度のスコアになったかを記載してください。"
   ]
  },
  {
   "cell_type": "markdown",
   "metadata": {
    "collapsed": true
   },
   "source": [
    "### 最終的には試行2で利用したモデルを使いapllication_testデータの推定を行う。"
   ]
  },
  {
   "cell_type": "code",
   "execution_count": 167,
   "metadata": {},
   "outputs": [
    {
     "data": {
      "text/plain": [
       "(48744, 242)"
      ]
     },
     "execution_count": 167,
     "metadata": {},
     "output_type": "execute_result"
    }
   ],
   "source": [
    "df2 = pd.read_csv('application_test.csv')\n",
    "\n",
    "# 欠損値の補完\n",
    "for col in df2.columns:\n",
    "    if df2[col].dtype == 'object':\n",
    "        df2[col] = df2[col].fillna(df2[col].mode())\n",
    "    else:\n",
    "        df2[col] = df2[col].fillna(df2[col].mean())\n",
    "        \n",
    "#objectの数値変換\n",
    "df2 = pd.get_dummies(df2)\n",
    "df2.shape"
   ]
  },
  {
   "cell_type": "code",
   "execution_count": 168,
   "metadata": {
    "collapsed": true
   },
   "outputs": [],
   "source": [
    "X4 = df2.loc[:, [\"EXT_SOURCE_1\",\"EXT_SOURCE_2\",\"EXT_SOURCE_3\",\"NAME_EDUCATION_TYPE_Higher education\",\"CODE_GENDER_F\",\"CODE_GENDER_M\",\"DAYS_BIRTH\",\"DAYS_EMPLOYED\",'AMT_CREDIT', 'AMT_GOODS_PRICE','DAYS_REGISTRATION']]"
   ]
  },
  {
   "cell_type": "code",
   "execution_count": 169,
   "metadata": {
    "collapsed": true
   },
   "outputs": [],
   "source": [
    "pred_submit = model.predict(X4)"
   ]
  },
  {
   "cell_type": "code",
   "execution_count": 170,
   "metadata": {},
   "outputs": [
    {
     "data": {
      "text/plain": [
       "array([0.10139808, 0.14137618, 0.06831017, ..., 0.09410715, 0.10072232,\n",
       "       0.16016514])"
      ]
     },
     "execution_count": 170,
     "metadata": {},
     "output_type": "execute_result"
    }
   ],
   "source": [
    "pred_submit"
   ]
  },
  {
   "cell_type": "code",
   "execution_count": 177,
   "metadata": {
    "collapsed": true
   },
   "outputs": [],
   "source": [
    "predict = [0 if i < 0.4 else 1 for i in pred_submit]"
   ]
  },
  {
   "cell_type": "code",
   "execution_count": 178,
   "metadata": {},
   "outputs": [
    {
     "data": {
      "text/plain": [
       "0        100001\n",
       "1        100005\n",
       "2        100013\n",
       "3        100028\n",
       "4        100038\n",
       "          ...  \n",
       "48739    456221\n",
       "48740    456222\n",
       "48741    456223\n",
       "48742    456224\n",
       "48743    456250\n",
       "Name: SK_ID_CURR, Length: 48744, dtype: int64"
      ]
     },
     "execution_count": 178,
     "metadata": {},
     "output_type": "execute_result"
    }
   ],
   "source": [
    "df2_SK = df2['SK_ID_CURR']\n",
    "df2_SK.columns = ['SK_ID_CURR']\n",
    "df2_SK"
   ]
  },
  {
   "cell_type": "code",
   "execution_count": 179,
   "metadata": {},
   "outputs": [
    {
     "data": {
      "text/html": [
       "<div>\n",
       "<style scoped>\n",
       "    .dataframe tbody tr th:only-of-type {\n",
       "        vertical-align: middle;\n",
       "    }\n",
       "\n",
       "    .dataframe tbody tr th {\n",
       "        vertical-align: top;\n",
       "    }\n",
       "\n",
       "    .dataframe thead th {\n",
       "        text-align: right;\n",
       "    }\n",
       "</style>\n",
       "<table border=\"1\" class=\"dataframe\">\n",
       "  <thead>\n",
       "    <tr style=\"text-align: right;\">\n",
       "      <th></th>\n",
       "      <th>TARGET</th>\n",
       "    </tr>\n",
       "  </thead>\n",
       "  <tbody>\n",
       "    <tr>\n",
       "      <th>0</th>\n",
       "      <td>0</td>\n",
       "    </tr>\n",
       "    <tr>\n",
       "      <th>1</th>\n",
       "      <td>0</td>\n",
       "    </tr>\n",
       "    <tr>\n",
       "      <th>2</th>\n",
       "      <td>0</td>\n",
       "    </tr>\n",
       "    <tr>\n",
       "      <th>3</th>\n",
       "      <td>0</td>\n",
       "    </tr>\n",
       "    <tr>\n",
       "      <th>4</th>\n",
       "      <td>0</td>\n",
       "    </tr>\n",
       "    <tr>\n",
       "      <th>...</th>\n",
       "      <td>...</td>\n",
       "    </tr>\n",
       "    <tr>\n",
       "      <th>48739</th>\n",
       "      <td>0</td>\n",
       "    </tr>\n",
       "    <tr>\n",
       "      <th>48740</th>\n",
       "      <td>0</td>\n",
       "    </tr>\n",
       "    <tr>\n",
       "      <th>48741</th>\n",
       "      <td>0</td>\n",
       "    </tr>\n",
       "    <tr>\n",
       "      <th>48742</th>\n",
       "      <td>0</td>\n",
       "    </tr>\n",
       "    <tr>\n",
       "      <th>48743</th>\n",
       "      <td>0</td>\n",
       "    </tr>\n",
       "  </tbody>\n",
       "</table>\n",
       "<p>48744 rows × 1 columns</p>\n",
       "</div>"
      ],
      "text/plain": [
       "       TARGET\n",
       "0           0\n",
       "1           0\n",
       "2           0\n",
       "3           0\n",
       "4           0\n",
       "...       ...\n",
       "48739       0\n",
       "48740       0\n",
       "48741       0\n",
       "48742       0\n",
       "48743       0\n",
       "\n",
       "[48744 rows x 1 columns]"
      ]
     },
     "execution_count": 179,
     "metadata": {},
     "output_type": "execute_result"
    }
   ],
   "source": [
    "ALL_data = pd.DataFrame(predict)\n",
    "ALL_data.columns = ['TARGET']\n",
    "ALL_data"
   ]
  },
  {
   "cell_type": "code",
   "execution_count": 180,
   "metadata": {
    "collapsed": true
   },
   "outputs": [],
   "source": [
    "#データの結合\n",
    "sample =pd.concat([df2_SK, ALL_data], axis=1)"
   ]
  },
  {
   "cell_type": "code",
   "execution_count": 181,
   "metadata": {},
   "outputs": [
    {
     "data": {
      "text/html": [
       "<div>\n",
       "<style scoped>\n",
       "    .dataframe tbody tr th:only-of-type {\n",
       "        vertical-align: middle;\n",
       "    }\n",
       "\n",
       "    .dataframe tbody tr th {\n",
       "        vertical-align: top;\n",
       "    }\n",
       "\n",
       "    .dataframe thead th {\n",
       "        text-align: right;\n",
       "    }\n",
       "</style>\n",
       "<table border=\"1\" class=\"dataframe\">\n",
       "  <thead>\n",
       "    <tr style=\"text-align: right;\">\n",
       "      <th></th>\n",
       "      <th>SK_ID_CURR</th>\n",
       "      <th>TARGET</th>\n",
       "    </tr>\n",
       "  </thead>\n",
       "  <tbody>\n",
       "    <tr>\n",
       "      <th>0</th>\n",
       "      <td>100001</td>\n",
       "      <td>0</td>\n",
       "    </tr>\n",
       "    <tr>\n",
       "      <th>1</th>\n",
       "      <td>100005</td>\n",
       "      <td>0</td>\n",
       "    </tr>\n",
       "    <tr>\n",
       "      <th>2</th>\n",
       "      <td>100013</td>\n",
       "      <td>0</td>\n",
       "    </tr>\n",
       "    <tr>\n",
       "      <th>3</th>\n",
       "      <td>100028</td>\n",
       "      <td>0</td>\n",
       "    </tr>\n",
       "    <tr>\n",
       "      <th>4</th>\n",
       "      <td>100038</td>\n",
       "      <td>0</td>\n",
       "    </tr>\n",
       "    <tr>\n",
       "      <th>...</th>\n",
       "      <td>...</td>\n",
       "      <td>...</td>\n",
       "    </tr>\n",
       "    <tr>\n",
       "      <th>48739</th>\n",
       "      <td>456221</td>\n",
       "      <td>0</td>\n",
       "    </tr>\n",
       "    <tr>\n",
       "      <th>48740</th>\n",
       "      <td>456222</td>\n",
       "      <td>0</td>\n",
       "    </tr>\n",
       "    <tr>\n",
       "      <th>48741</th>\n",
       "      <td>456223</td>\n",
       "      <td>0</td>\n",
       "    </tr>\n",
       "    <tr>\n",
       "      <th>48742</th>\n",
       "      <td>456224</td>\n",
       "      <td>0</td>\n",
       "    </tr>\n",
       "    <tr>\n",
       "      <th>48743</th>\n",
       "      <td>456250</td>\n",
       "      <td>0</td>\n",
       "    </tr>\n",
       "  </tbody>\n",
       "</table>\n",
       "<p>48744 rows × 2 columns</p>\n",
       "</div>"
      ],
      "text/plain": [
       "       SK_ID_CURR  TARGET\n",
       "0          100001       0\n",
       "1          100005       0\n",
       "2          100013       0\n",
       "3          100028       0\n",
       "4          100038       0\n",
       "...           ...     ...\n",
       "48739      456221       0\n",
       "48740      456222       0\n",
       "48741      456223       0\n",
       "48742      456224       0\n",
       "48743      456250       0\n",
       "\n",
       "[48744 rows x 2 columns]"
      ]
     },
     "execution_count": 181,
     "metadata": {},
     "output_type": "execute_result"
    }
   ],
   "source": [
    "sample"
   ]
  },
  {
   "cell_type": "code",
   "execution_count": 182,
   "metadata": {
    "collapsed": true
   },
   "outputs": [],
   "source": [
    "sample.to_csv('submit_020502.csv', index=None)"
   ]
  },
  {
   "cell_type": "markdown",
   "metadata": {
    "collapsed": true
   },
   "source": [
    "## Kaglle score<br>\n",
    "- Private Score: 0.64546\n",
    "- Public Score: 0.66037"
   ]
  },
  {
   "cell_type": "code",
   "execution_count": null,
   "metadata": {
    "collapsed": true
   },
   "outputs": [],
   "source": []
  }
 ],
 "metadata": {
  "kernelspec": {
   "display_name": "Python 3",
   "language": "python",
   "name": "python3"
  },
  "language_info": {
   "codemirror_mode": {
    "name": "ipython",
    "version": 3
   },
   "file_extension": ".py",
   "mimetype": "text/x-python",
   "name": "python",
   "nbconvert_exporter": "python",
   "pygments_lexer": "ipython3",
   "version": "3.6.3"
  }
 },
 "nbformat": 4,
 "nbformat_minor": 2
}
