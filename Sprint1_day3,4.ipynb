{
 "cells": [
  {
   "cell_type": "code",
   "execution_count": 1,
   "metadata": {
    "collapsed": true
   },
   "outputs": [],
   "source": [
    "import numpy as np\n",
    "import pandas as pd\n",
    "import matplotlib.pyplot as plt\n",
    "from sklearn.model_selection import train_test_split\n",
    "from sklearn.preprocessing import StandardScaler"
   ]
  },
  {
   "cell_type": "code",
   "execution_count": 2,
   "metadata": {
    "collapsed": true
   },
   "outputs": [],
   "source": [
    "df = pd.read_csv('train.csv')\n",
    "X1 = df.loc[:, ['GrLivArea','YearBuilt']]\n",
    "y1 = df['SalePrice']\n",
    "X1 = X1.apply(np.log)\n",
    "y1 = y1.apply(np.log)\n",
    "X1 = X1.values\n",
    "y1 = y1.values\n",
    "\n",
    "X1_train, X1_test, y1_train, y1_test = train_test_split(X1, y1, test_size=0.2)"
   ]
  },
  {
   "cell_type": "markdown",
   "metadata": {},
   "source": [
    "# 【問題1】仮定関数\n",
    "以下の数式で表される線形回帰の仮定関数を実装してください。メソッドの雛形を用意してあります。"
   ]
  },
  {
   "cell_type": "code",
   "execution_count": 3,
   "metadata": {
    "collapsed": true
   },
   "outputs": [],
   "source": [
    "def _linear_hypothesis(X):\n",
    "    \"\"\"\n",
    "    線形の仮定関数を計算する\n",
    "\n",
    "    Parameters\n",
    "    ----------\n",
    "    X : 次の形のndarray, shape (n_samples, n_features)\n",
    "      学習データ\n",
    "\n",
    "    Returns\n",
    "    -------\n",
    "      次の形のndarray, shape (n_samples, 1)\n",
    "      線形の仮定関数による推定結果\n",
    "\n",
    "    \"\"\"\n",
    "    # 配列化\n",
    "    X = np.array(X)\n",
    "    \n",
    "    # １の列の追加\n",
    "    X = np.insert(X, 0, 1, axis=1)\n",
    "    \n",
    "    n = X.shape[1]\n",
    "    \n",
    "    # Xの列数分のランダムの重み作成\n",
    "    w = np.random.rand(n)\n",
    "\n",
    "    yp = X @ w.T\n",
    "    \n",
    "    return yp, w, X"
   ]
  },
  {
   "cell_type": "code",
   "execution_count": 4,
   "metadata": {
    "collapsed": true
   },
   "outputs": [],
   "source": [
    "yp, w1, X1 = _linear_hypothesis(X1_train)"
   ]
  },
  {
   "cell_type": "markdown",
   "metadata": {},
   "source": [
    "# 【問題2】最急降下法\n",
    "最急降下法により学習させる実装を行なってください。以下の式で表されるパラメータの更新式のメソッド_gradient_descentを追加し、fit\n",
    "メソッドから呼び出すようにしてください。"
   ]
  },
  {
   "cell_type": "code",
   "execution_count": 5,
   "metadata": {
    "collapsed": true
   },
   "outputs": [],
   "source": [
    "def _gradient_descent( X, y, w, yp):\n",
    "    \"\"\"\n",
    "    説明を記述\n",
    "    -------------------\n",
    "    X:配列\n",
    "    y:正解値\n",
    "    w: _linear_hypothesisで求めた重み\n",
    "    yp: _linear_hypothesisで求めた予測値\n",
    "    \n",
    "    \"\"\"\n",
    "    # yを配列にする\n",
    "    y = np.array(y)\n",
    "    \n",
    "    # 誤差求める関数\n",
    "    def error(yp , y):\n",
    "        yd = yp - y\n",
    "        return yd\n",
    "\n",
    "    #正解との誤差\n",
    "    yd = error(yp, y)\n",
    "    \n",
    "    # パラメータ\n",
    "    alpha = 0.00001\n",
    "    \n",
    "    #  学習回数\n",
    "    epoch = 1000\n",
    "    \n",
    "    M = X.shape[0]\n",
    "    \n",
    "    # 勾配降下法\n",
    "    for k in range(epoch):\n",
    "        w = w - alpha* (X.T @ yd) / M\n",
    "    return w"
   ]
  },
  {
   "cell_type": "code",
   "execution_count": 6,
   "metadata": {
    "collapsed": true
   },
   "outputs": [],
   "source": [
    "W = _gradient_descent(X1, y1_train, w1, yp)"
   ]
  },
  {
   "cell_type": "code",
   "execution_count": 7,
   "metadata": {},
   "outputs": [
    {
     "data": {
      "text/plain": [
       "array([0.42625181, 0.4499624 , 1.12531434])"
      ]
     },
     "execution_count": 7,
     "metadata": {},
     "output_type": "execute_result"
    }
   ],
   "source": [
    "W"
   ]
  },
  {
   "cell_type": "markdown",
   "metadata": {},
   "source": [
    "# 【問題3】推定\n",
    "推定する仕組みを実装してください。ScratchLinearRegressionクラスの雛形に含まれるpredictメソッドに書き加えてください。\n",
    "\n",
    "仮定関数 hθ(x)の出力が推定結果です。"
   ]
  },
  {
   "cell_type": "code",
   "execution_count": 8,
   "metadata": {
    "collapsed": true
   },
   "outputs": [],
   "source": [
    "def predict(X, w):\n",
    "    \"\"\"\n",
    "    線形の仮定関数を計算する\n",
    "\n",
    "    Parameters\n",
    "    ----------\n",
    "    X : 次の形のndarray, shape (n_samples, n_features)\n",
    "      学習データ\n",
    "\n",
    "    Returns\n",
    "    -------\n",
    "      次の形のndarray, shape (n_samples, 1)\n",
    "      線形の仮定関数による推定結果\n",
    "\n",
    "    \"\"\"\n",
    "    # 配列化\n",
    "    X = np.array(X)\n",
    "    \n",
    "    # Xの列に１の値を追加\n",
    "    X = np.insert(X, 0, 1, axis=1)\n",
    "    \n",
    "    y = X @ w\n",
    "    \n",
    "    return y"
   ]
  },
  {
   "cell_type": "code",
   "execution_count": 9,
   "metadata": {
    "collapsed": true
   },
   "outputs": [],
   "source": [
    "y_pred = predict(X1_test, W)"
   ]
  },
  {
   "cell_type": "code",
   "execution_count": 10,
   "metadata": {},
   "outputs": [
    {
     "data": {
      "text/plain": [
       "array([12.42357226, 12.29889109, 12.27493652, 11.96934219, 12.29764213,\n",
       "       12.16560364, 12.24882648, 12.61067032, 12.51877674, 12.27454785,\n",
       "       12.31275871, 12.06865464, 12.02175559, 12.10958152, 12.41676573,\n",
       "       12.25040105, 12.42389685, 11.93310467, 12.30631261, 11.96125096,\n",
       "       12.42411137, 12.14457218, 12.0063544 , 12.1132184 , 12.45728622,\n",
       "       12.39181089, 12.13022328, 12.44979307, 12.49982267, 12.26683779,\n",
       "       12.16052151, 11.98621698, 12.28225456, 12.25677646, 12.13640826,\n",
       "       12.07177786, 12.19351545, 12.15563575, 12.23700832, 12.60870278,\n",
       "       12.01479332, 12.19794733, 12.49974113, 12.37176636, 12.04448477,\n",
       "       12.19703466, 12.1438153 , 12.33007643, 12.23541036, 12.45685466,\n",
       "       12.12198032, 12.02255475, 12.20722982, 12.45972007, 12.08452098,\n",
       "       12.08781526, 12.26866335, 12.26867247, 12.2516207 , 12.26488965,\n",
       "       12.13814979, 12.42222065, 12.17029578, 12.31973841, 12.16269087,\n",
       "       12.40549885, 12.06613284, 12.12323614, 12.06528729, 12.3318313 ,\n",
       "       12.07646655, 12.39230412, 12.17353056, 12.38870403, 12.01862369,\n",
       "       12.2665365 , 12.37115861, 12.32041452, 12.30967987, 12.3017966 ,\n",
       "       11.95324614, 12.01931774, 12.14944828, 12.32019825, 12.05499422,\n",
       "       12.16138545, 12.15876649, 12.17061333, 12.14118225, 12.2572933 ,\n",
       "       12.08185699, 12.25729452, 12.33153665, 12.30857768, 12.44613908,\n",
       "       12.30715495, 12.37023557, 12.17810953, 12.30927762, 12.40830042,\n",
       "       12.41892913, 11.93713126, 12.38920999, 12.28898601, 12.08157269,\n",
       "       12.35942556, 12.24383675, 12.46182834, 12.24334868, 12.08919241,\n",
       "       12.11800245, 12.25360487, 12.29171248, 12.52186692, 11.97680705,\n",
       "       12.2871945 , 12.27006321, 12.31413261, 12.26121354, 12.0171658 ,\n",
       "       12.35422301, 12.33624835, 12.02763631, 12.01594742, 12.19703466,\n",
       "       12.19019569, 12.2814893 , 12.32656867, 12.31785108, 12.30541631,\n",
       "       12.19516093, 12.00624408, 12.30971758, 12.12947293, 12.06577987,\n",
       "       11.94045879, 12.51709476, 12.36462022, 12.28847467, 12.07704379,\n",
       "       12.38468648, 12.36833047, 12.32879248, 12.23922402, 12.08566693,\n",
       "       12.12206908, 12.03911599, 12.19424104, 12.23755168, 12.39944232,\n",
       "       12.32244521, 12.47918643, 12.23412755, 12.09319148, 12.19511862,\n",
       "       12.05396373, 11.9505999 , 12.37582237, 12.31775658, 12.43335317,\n",
       "       11.86298026, 12.21413122, 12.27391586, 12.12922112, 12.09863274,\n",
       "       12.32002948, 12.22695922, 12.46893801, 12.0961451 , 12.00028815,\n",
       "       12.39188603, 12.21462274, 12.21727211, 12.24567094, 12.39791898,\n",
       "       12.45251705, 12.24928357, 12.42169042, 12.32898759, 12.52406829,\n",
       "       12.27661902, 12.2820474 , 12.35024142, 12.39703162, 11.88917757,\n",
       "       12.24855052, 12.37499799, 12.30693043, 12.27267427, 12.36334922,\n",
       "       12.28738109, 12.42053731, 12.34565616, 12.52348968, 12.11048042,\n",
       "       12.31275322, 12.22652552, 12.02443115, 12.13111574, 12.18355432,\n",
       "       12.18912693, 12.09397209, 12.10489346, 12.48199877, 12.17871639,\n",
       "       12.12625987, 12.41212406, 12.5473944 , 12.31890714, 12.50095137,\n",
       "       12.33127344, 11.98621698, 12.25158019, 12.386261  , 12.28201312,\n",
       "       12.32520397, 12.27006756, 12.2848167 , 12.61375557, 12.33322   ,\n",
       "       12.44235073, 12.02427761, 12.47485471, 12.17273405, 12.14495948,\n",
       "       11.89881345, 12.27433856, 12.37507396, 12.45655382, 12.32177248,\n",
       "       12.26956907, 12.10757044, 12.39771528, 12.16579288, 12.02980551,\n",
       "       12.35092655, 12.1330416 , 12.12097691, 12.4209233 , 12.05956173,\n",
       "       12.12826806, 12.53615082, 12.3647229 , 12.32915914, 12.19682538,\n",
       "       12.19430438, 12.28860953, 11.8982332 , 12.41169522, 12.29277453,\n",
       "       12.29938152, 11.98829347, 11.91421041, 12.17498035, 12.20965737,\n",
       "       12.15630683, 12.28335482, 12.21634044, 12.05198819, 12.195273  ,\n",
       "       12.29796   , 12.3374106 , 12.21581288, 12.249389  , 12.34992105,\n",
       "       12.0330927 , 12.36131582, 12.1516232 , 12.10489346, 12.21142207,\n",
       "       12.32548578, 12.30103086, 12.20152526, 12.06584954, 12.32955056,\n",
       "       12.25295887, 12.25862084, 12.09694219, 12.29715088, 12.02358049,\n",
       "       12.15614177, 12.4057173 , 12.04681622, 12.1142997 , 12.23635445,\n",
       "       12.13601914, 12.172294  , 12.22681025, 11.94065675, 12.07992467,\n",
       "       12.48010194, 12.35386126])"
      ]
     },
     "execution_count": 10,
     "metadata": {},
     "output_type": "execute_result"
    }
   ],
   "source": [
    "y_pred"
   ]
  },
  {
   "cell_type": "markdown",
   "metadata": {},
   "source": [
    "# 【問題4】平均二乗誤差\n",
    "線形回帰の指標値として用いられる平均二乗誤差（mean square error, MSE）の関数を作成してください。\n",
    "\n",
    "平均二乗誤差関数は回帰問題全般で使える関数のため、ScratchLinearRegressionクラスのメソッドではなく、別の関数として作成してください。雛形を用意してあります。\n"
   ]
  },
  {
   "cell_type": "markdown",
   "metadata": {},
   "source": [
    "$$\n",
    "MSE = \\ \\displaystyle\\frac{1}{n} \\sum_{i=0}^{n-1} (y_i – \\hat{y_i})^{2}\n",
    "$$"
   ]
  },
  {
   "cell_type": "code",
   "execution_count": 11,
   "metadata": {
    "collapsed": true
   },
   "outputs": [],
   "source": [
    "def MSE(y, y_pred):\n",
    "    \"\"\"\n",
    "    平均二乗誤差の計算\n",
    "\n",
    "    Parameters\n",
    "    ----------\n",
    "    y_pred : 次の形のndarray, shape (n_samples,)\n",
    "      推定した値\n",
    "    y : 次の形のndarray, shape (n_samples,)\n",
    "      正解値\n",
    "\n",
    "    Returns\n",
    "    ----------\n",
    "    mse : numpy.float\n",
    "      平均二乗誤差\n",
    "    \"\"\"\n",
    "    \n",
    "    len_y = len(y_pred)\n",
    "    \n",
    "    yd = y_pred - y\n",
    "    mse = sum(yd**2) / len_y\n",
    "    return mse"
   ]
  },
  {
   "cell_type": "code",
   "execution_count": 12,
   "metadata": {},
   "outputs": [
    {
     "data": {
      "text/plain": [
       "0.14536223427521053"
      ]
     },
     "execution_count": 12,
     "metadata": {},
     "output_type": "execute_result"
    }
   ],
   "source": [
    "MSE(y1_test,y_pred)"
   ]
  },
  {
   "cell_type": "markdown",
   "metadata": {},
   "source": [
    "# 【問題5】目的関数\n",
    "以下の数式で表される線形回帰の 目的関数（損失関数） を実装してください。そして、これをself.loss, self.val_lossに記録するようにしてください。"
   ]
  },
  {
   "cell_type": "code",
   "execution_count": 13,
   "metadata": {
    "collapsed": true
   },
   "outputs": [],
   "source": [
    "def cost_func(y, y_pred):\n",
    "    \"\"\"\n",
    "    目的関数を求める関数\n",
    "    ------------------------------\n",
    "    parameter\n",
    "    \n",
    "    y_pred: yの予測値\n",
    "    y: 正解値\n",
    "    \"\"\"\n",
    "    y = np.array(y)\n",
    "    m = len(y_pred)\n",
    "    j = np.zeros(m)\n",
    "    for i in range(m):\n",
    "        j [i] = (1/2*m)* np.sum(np.square(y_pred - y))\n",
    "    return j"
   ]
  },
  {
   "cell_type": "markdown",
   "metadata": {},
   "source": [
    "# 最終的なCLASS"
   ]
  },
  {
   "cell_type": "code",
   "execution_count": 14,
   "metadata": {
    "collapsed": true
   },
   "outputs": [],
   "source": [
    "class ScratchLinearRegression():\n",
    "    \"\"\"\n",
    "    線形回帰のスクラッチ実装\n",
    "\n",
    "    Parameters\n",
    "    ----------\n",
    "    num_iter : int\n",
    "      イテレーション数\n",
    "    lr : float\n",
    "      学習率\n",
    "    no_bias : bool\n",
    "      バイアス項を入れない場合はTrue\n",
    "    verbose : bool\n",
    "      学習過程を出力する場合はTrue\n",
    "\n",
    "    Attributes\n",
    "    ----------\n",
    "    self.coef_ : 次の形のndarray, shape (n_features,)\n",
    "      パラメータ\n",
    "    self.loss : 次の形のndarray, shape (self.iter,)\n",
    "      学習用データに対する損失の記録\n",
    "    self.val_loss : 次の形のndarray, shape (self.iter,)\n",
    "      検証用データに対する損失の記録\n",
    "\n",
    "    \"\"\"\n",
    "\n",
    "    def __init__(self,num_iter, alpha, bias=None, verbose=None):\n",
    "        # ハイパーパラメータを属性として記録\n",
    "        self.verbose = verbose\n",
    "        self.iter = num_iter\n",
    "        self.alpha = alpha\n",
    "        self.bias = bias\n",
    "        # 損失を記録する配列を用意\n",
    "        self.loss = np.zeros(self.iter)\n",
    "        self.val_loss = np.zeros(self.iter)\n",
    "        \n",
    "\n",
    "    def fit(self, X, y, X_val=None, y_val=None):\n",
    "        \"\"\"\n",
    "        線形回帰を学習する。検証用データが入力された場合はそれに対する損失と精度もイテレーションごとに計算する。\n",
    "\n",
    "        Parameters\n",
    "        ----------\n",
    "        X : 次の形のndarray, shape (n_samples, n_features)\n",
    "            学習用データの特徴量\n",
    "        y : 次の形のndarray, shape (n_samples, )\n",
    "            学習用データの正解値\n",
    "        X_val : 次の形のndarray, shape (n_samples, n_features)\n",
    "            検証用データの特徴量\n",
    "        y_val : 次の形のndarray, shape (n_samples, )\n",
    "            検証用データの正解値\n",
    "            \n",
    "        \"\"\"\n",
    "        y = y.values\n",
    "        X = X.values\n",
    "        if np.any(X_val):\n",
    "            y_val = y_val.values\n",
    "            X_val = X_val.values\n",
    "        \n",
    "        \n",
    "        if  not self.bias:\n",
    "            X = np.insert(X, 0, 1, axis=1)\n",
    "            if np.any(X_val):\n",
    "                X_val = np.insert(X_val, 0, 1, axis=1)\n",
    "\n",
    "        n = X.shape[1]\n",
    "        self.w = np.zeros(n,)\n",
    "        \n",
    "        for i in range(self.iter):\n",
    "            # 予測関数の呼び出し\n",
    "            y_pred1 = self._linear_hypothesis(X)\n",
    "            #y_pred2 = self._linear_hypothesis(X_val)\n",
    "\n",
    "            error1 = y_pred1 - y\n",
    "            #error2 = y_pred2 - y_val\n",
    "\n",
    "            # 最急降下法で学習\n",
    "            self._gradient_descent1(X, error1, i)\n",
    "\n",
    "            if self.verbose:\n",
    "                print(\"loss: \", self.loss[i])\n",
    "            \n",
    "        if np.any(y_val):\n",
    "            n = X_val.shape[1]\n",
    "            self.w = np.zeros(n,)\n",
    "            for i in range(self.iter):\n",
    "                y_pred2 = self._linear_hypothesis(X_val)\n",
    "                error2 = y_pred2 - y_val\n",
    "                self._gradient_descent2(X_val, error2, i)\n",
    "\n",
    "                #学習過程の表示\n",
    "                if self.verbose:\n",
    "                    print(\"val_loss: \", self.val_loss[i])\n",
    "\n",
    "    def _linear_hypothesis(self, X):\n",
    "        \"\"\"\n",
    "        線形の仮定関数を計算する\n",
    "\n",
    "        Parameters\n",
    "        ----------\n",
    "        X : 次の形のndarray, shape (n_samples, n_features)\n",
    "          学習データ\n",
    "\n",
    "        Returns\n",
    "        -------\n",
    "          次の形のndarray, shape (n_samples, 1)\n",
    "          線形の仮定関数による推定結果\n",
    "\n",
    "        \"\"\"\n",
    "        y_pred = np.dot(X, self.w)\n",
    "\n",
    "        return y_pred\n",
    "    \n",
    "    def _gradient_descent1(self, X, error, i):\n",
    "        \"\"\"\n",
    "        説明を記述\n",
    "        \"\"\"\n",
    "        m = len(X)\n",
    "        self.w = self.w - self.alpha * (1/m) * (X.T @ error)\n",
    "        self.loss[i] = (1/2*m)* np.sum(np.square(error))\n",
    "\n",
    "    def _gradient_descent2(self, X, error, i):\n",
    "        \"\"\"\n",
    "        説明を記述\n",
    "        \"\"\"\n",
    "        m = len(X)\n",
    "        self.w = self.w - self.alpha * (1/m) * (X.T @ error)\n",
    "        self.val_loss[i] = (1/2*m)* np.sum(np.square(error))\n",
    "\n",
    "        \n",
    "    def predict(self, X):\n",
    "        \"\"\"\n",
    "        線形回帰を使い推定する。\n",
    "\n",
    "        Parameters\n",
    "        ----------\n",
    "        X : 次の形のndarray, shape (n_samples, n_features)\n",
    "            サンプル\n",
    "\n",
    "        Returns\n",
    "        -------\n",
    "            次の形のndarray, shape (n_samples, 1)\n",
    "            線形回帰による推定結果\n",
    "        \"\"\"\n",
    "        X = X.values\n",
    "        if  not self.bias:\n",
    "            X = np.insert(X, 0, 1, axis=1)\n",
    "        y_pred = np.dot(X, self.w) \n",
    "        return y_pred\n"
   ]
  },
  {
   "cell_type": "markdown",
   "metadata": {},
   "source": [
    "# 【問題6】学習と推定\n",
    "機械学習スクラッチ入門のSprintで用意したHouse Pricesコンペティションのデータに対してスクラッチ実装の学習と推定を行なってください。\n",
    "\n",
    "scikit-learnによる実装と比べ、正しく動いているかを確認してください。"
   ]
  },
  {
   "cell_type": "code",
   "execution_count": 27,
   "metadata": {
    "collapsed": true
   },
   "outputs": [],
   "source": [
    "from sklearn.model_selection import train_test_split\n",
    "from sklearn.linear_model import LinearRegression\n",
    "\n",
    "#　データ作成\n",
    "df = pd.read_csv('train.csv')\n",
    "X2 = df.loc[:, ['GrLivArea','YearBuilt']]\n",
    "y2 = df['SalePrice']\n",
    "X2 = X2.apply(np.log)\n",
    "y2 = y2.apply(np.log)\n",
    "\n",
    "# priceデータの対数変換\n",
    "y2 = y2.apply(np.log)\n",
    "\n",
    "# テストデータとtrainデータの作成\n",
    "X2_train, X2_val, y2_train, y2_val = train_test_split(X2, y2, test_size =0.2, random_state=0)"
   ]
  },
  {
   "cell_type": "code",
   "execution_count": 28,
   "metadata": {
    "collapsed": true
   },
   "outputs": [],
   "source": [
    "SLR = ScratchLinearRegression(num_iter=100, alpha=0.001, bias=True ,verbose=True)"
   ]
  },
  {
   "cell_type": "code",
   "execution_count": 29,
   "metadata": {},
   "outputs": [
    {
     "name": "stdout",
     "output_type": "stream",
     "text": [
      "loss:  4217339.21574309\n",
      "loss:  3337192.956326109\n",
      "loss:  2640771.4256416173\n",
      "loss:  2089723.2947221317\n",
      "loss:  1653702.8223279857\n",
      "loss:  1308698.7411530185\n",
      "loss:  1035711.9780457617\n",
      "loss:  819709.3914392894\n",
      "loss:  648795.9092124766\n",
      "loss:  513559.47732878913\n",
      "loss:  406552.74613918166\n",
      "loss:  321882.9512608902\n",
      "loss:  254887.40412587827\n",
      "loss:  201876.72174335687\n",
      "loss:  159931.6555608851\n",
      "loss:  126742.33096468462\n",
      "loss:  100481.04447712019\n",
      "loss:  79701.61370273466\n",
      "loss:  63259.73731118523\n",
      "loss:  50249.979350037414\n",
      "loss:  39955.907667879546\n",
      "loss:  31810.64061372743\n",
      "loss:  25365.629353487922\n",
      "loss:  20265.95667257658\n",
      "loss:  16230.791991056423\n",
      "loss:  13037.92626584101\n",
      "loss:  10511.535130365623\n",
      "loss:  8512.496398383919\n",
      "loss:  6930.728725175989\n",
      "loss:  5679.129522849188\n",
      "loss:  4688.7782959561655\n",
      "loss:  3905.141249260325\n",
      "loss:  3285.0681586723035\n",
      "loss:  2794.416125630035\n",
      "loss:  2406.169357126093\n",
      "loss:  2098.951429290314\n",
      "loss:  1855.8481061661837\n",
      "loss:  1663.4758873267467\n",
      "loss:  1511.2449900505771\n",
      "loss:  1390.776179121879\n",
      "loss:  1295.439329575043\n",
      "loss:  1219.9883114318607\n",
      "loss:  1160.272089848906\n",
      "loss:  1113.0061312093783\n",
      "loss:  1075.5915266900583\n",
      "loss:  1045.9718725942448\n",
      "loss:  1022.5200259740465\n",
      "loss:  1003.9484992718428\n",
      "loss:  989.2385594910951\n",
      "loss:  977.5841274490315\n",
      "loss:  968.3473876913978\n",
      "loss:  961.0236645456225\n",
      "loss:  955.2136300669056\n",
      "loss:  950.6013133927936\n",
      "loss:  946.9367005003879\n",
      "loss:  944.021966149823\n",
      "loss:  941.7005798189821\n",
      "loss:  939.8486857027239\n",
      "loss:  938.3682820805813\n",
      "loss:  937.1818244465915\n",
      "loss:  936.227955200301\n",
      "loss:  935.4581247366782\n",
      "loss:  934.8339178612987\n",
      "loss:  934.3249382987652\n",
      "loss:  933.907134796101\n",
      "loss:  933.5614766410399\n",
      "loss:  933.2729056571657\n",
      "loss:  933.0295069631806\n",
      "loss:  932.8218528307151\n",
      "loss:  932.6424835075146\n",
      "loss:  932.4854964153602\n",
      "loss:  932.3462211002336\n",
      "loss:  932.2209620344915\n",
      "loss:  932.1067951073926\n",
      "loss:  932.0014065968982\n",
      "loss:  931.9029657550387\n",
      "loss:  931.810023990256\n",
      "loss:  931.7214350947628\n",
      "loss:  931.6362921239222\n",
      "loss:  931.5538774516369\n",
      "loss:  931.4736232513482\n",
      "loss:  931.3950802263687\n",
      "loss:  931.317892867551\n",
      "loss:  931.2417798757542\n",
      "loss:  931.1665186709945\n",
      "loss:  931.0919331352069\n",
      "loss:  931.0178839136245\n",
      "loss:  930.9442607406835\n",
      "loss:  930.8709763678411\n",
      "loss:  930.7979617589244\n",
      "loss:  930.7251622884218\n",
      "loss:  930.6525347333454\n",
      "loss:  930.5800448930328\n",
      "loss:  930.5076657057975\n",
      "loss:  930.4353757587123\n",
      "loss:  930.3631581084696\n",
      "loss:  930.2909993483755\n",
      "loss:  930.2188888701062\n",
      "loss:  930.1468182795677\n",
      "loss:  930.0747809346888\n",
      "val_loss:  263649.95874410565\n",
      "val_loss:  208738.04341962148\n",
      "val_loss:  165265.82645237132\n",
      "val_loss:  130850.09626207934\n",
      "val_loss:  103604.1314082747\n",
      "val_loss:  82034.26770125896\n",
      "val_loss:  64958.013298977006\n",
      "val_loss:  51439.222737026015\n",
      "val_loss:  40736.776035247174\n",
      "val_loss:  32263.94939282492\n",
      "val_loss:  25556.250112679794\n",
      "val_loss:  20245.952417639906\n",
      "val_loss:  16041.93817377784\n",
      "val_loss:  12713.737359238836\n",
      "val_loss:  10078.893353209995\n",
      "val_loss:  7992.96039128977\n",
      "val_loss:  6341.584832812278\n",
      "val_loss:  5034.23612336685\n",
      "val_loss:  3999.243774509255\n",
      "val_loss:  3179.868280475091\n",
      "val_loss:  2531.190573677816\n",
      "val_loss:  2017.6494942930462\n",
      "val_loss:  1611.092274331561\n",
      "val_loss:  1289.231160824414\n",
      "val_loss:  1034.4215678966145\n",
      "val_loss:  832.6947741999794\n",
      "val_loss:  672.9921367328834\n",
      "val_loss:  546.5588395039946\n",
      "val_loss:  446.4639414357471\n",
      "val_loss:  367.2204118163274\n",
      "val_loss:  304.4843230758028\n",
      "val_loss:  254.81671018483286\n",
      "val_loss:  215.49504145230665\n",
      "val_loss:  184.36396526926933\n",
      "val_loss:  159.71715051259952\n",
      "val_loss:  140.20374292276685\n",
      "val_loss:  124.75430925450594\n",
      "val_loss:  112.52220934806962\n",
      "val_loss:  102.83718205038984\n",
      "val_loss:  95.16860049698029\n",
      "val_loss:  89.09638235421916\n",
      "val_loss:  84.28796027801857\n",
      "val_loss:  80.48005007501385\n",
      "val_loss:  77.46421706961401\n",
      "val_loss:  75.07544940358859\n",
      "val_loss:  73.1831118393977\n",
      "val_loss:  71.68378414124341\n",
      "val_loss:  70.49559142318864\n",
      "val_loss:  69.55371564555286\n",
      "val_loss:  68.80684219311436\n",
      "val_loss:  68.2143467312178\n",
      "val_loss:  67.74406811904227\n",
      "val_loss:  67.37054528780091\n",
      "val_loss:  67.07362142690414\n",
      "val_loss:  66.83733895748327\n",
      "val_loss:  66.64906471407396\n",
      "val_loss:  66.4987973756094\n",
      "val_loss:  66.37861917805736\n",
      "val_loss:  66.28226185076782\n",
      "val_loss:  66.20476298051271\n",
      "val_loss:  66.14219396458081\n",
      "val_loss:  66.0914446389107\n",
      "val_loss:  66.05005277425334\n",
      "val_loss:  66.01606909308967\n",
      "val_loss:  65.98795040732814\n",
      "val_loss:  65.96447501843203\n",
      "val_loss:  65.94467574208423\n",
      "val_loss:  65.92778688570257\n",
      "val_loss:  65.91320227203212\n",
      "val_loss:  65.90044200760721\n",
      "val_loss:  65.88912617427893\n",
      "val_loss:  65.8789540015388\n",
      "val_loss:  65.86968737783461\n",
      "val_loss:  65.86113779694422\n",
      "val_loss:  65.8531560237867\n",
      "val_loss:  65.84562391313739\n",
      "val_loss:  65.83844793273408\n",
      "val_loss:  65.83155403570372\n",
      "val_loss:  65.82488360120631\n",
      "val_loss:  65.81839022075762\n",
      "val_loss:  65.81203715405151\n",
      "val_loss:  65.80579531480544\n",
      "val_loss:  65.79964167621223\n",
      "val_loss:  65.79355800857999\n",
      "val_loss:  65.78752987995824\n",
      "val_loss:  65.78154586496116\n",
      "val_loss:  65.77559691841557\n",
      "val_loss:  65.76967587949528\n",
      "val_loss:  65.76377707915871\n",
      "val_loss:  65.75789602936818\n",
      "val_loss:  65.75202917705336\n",
      "val_loss:  65.74617370933123\n",
      "val_loss:  65.74032739930445\n",
      "val_loss:  65.73448848398354\n",
      "val_loss:  65.72865556764235\n",
      "val_loss:  65.72282754530626\n",
      "val_loss:  65.717003542181\n",
      "val_loss:  65.71118286569904\n",
      "val_loss:  65.7053649675569\n",
      "val_loss:  65.69954941366096\n"
     ]
    }
   ],
   "source": [
    "SLR.fit(X2_train, y2_train,  X_val=X2_val, y_val=y2_val)"
   ]
  },
  {
   "cell_type": "code",
   "execution_count": 30,
   "metadata": {},
   "outputs": [],
   "source": [
    "y_pred = SLR.predict(X2_val)"
   ]
  },
  {
   "cell_type": "code",
   "execution_count": 31,
   "metadata": {},
   "outputs": [
    {
     "data": {
      "text/plain": [
       "0.001540948955252724"
      ]
     },
     "execution_count": 31,
     "metadata": {},
     "output_type": "execute_result"
    }
   ],
   "source": [
    "MSE(y2_val, y_pred)"
   ]
  },
  {
   "cell_type": "code",
   "execution_count": 32,
   "metadata": {},
   "outputs": [
    {
     "data": {
      "text/plain": [
       "LinearRegression(copy_X=True, fit_intercept=True, n_jobs=None, normalize=False)"
      ]
     },
     "execution_count": 32,
     "metadata": {},
     "output_type": "execute_result"
    }
   ],
   "source": [
    "lr = LinearRegression()\n",
    "lr.fit(X2_train, y2_train)"
   ]
  },
  {
   "cell_type": "code",
   "execution_count": 33,
   "metadata": {
    "collapsed": true
   },
   "outputs": [],
   "source": [
    "lr_pred = lr.predict(X2_val)"
   ]
  },
  {
   "cell_type": "code",
   "execution_count": 34,
   "metadata": {},
   "outputs": [
    {
     "data": {
      "text/plain": [
       "0.0003095456683099062"
      ]
     },
     "execution_count": 34,
     "metadata": {},
     "output_type": "execute_result"
    }
   ],
   "source": [
    "from sklearn.metrics import mean_squared_error\n",
    "mean_squared_error(y2_val, lr_pred)"
   ]
  },
  {
   "cell_type": "markdown",
   "metadata": {},
   "source": [
    "# 【問題7】学習曲線のプロット\n",
    "学習曲線を表示する関数を作成し、実行してください。グラフを見て損失が適切に下がっているかどうか確認してください。\n",
    "\n",
    "線形回帰クラスの雛形ではself.loss, self.val_lossに損失を記録しておくようになっているため、入力にはこれを利用してください。"
   ]
  },
  {
   "cell_type": "code",
   "execution_count": 35,
   "metadata": {},
   "outputs": [
    {
     "data": {
      "image/png": "[encoded data removed]",
      "text/plain": [
       "<Figure size 432x288 with 1 Axes>"
      ]
     },
     "metadata": {},
     "output_type": "display_data"
    }
   ],
   "source": [
    "plt.plot(SLR.loss, label=\"loss\")\n",
    "plt.plot(SLR.val_loss, label=\"val_loss\")\n",
    "plt.ylabel('loss')\n",
    "plt.xlabel('iter')\n",
    "plt.title('madel loss (StandardScaler)')\n",
    "plt.legend()\n",
    "plt.show();"
   ]
  },
  {
   "cell_type": "markdown",
   "metadata": {},
   "source": [
    "## 自作のコードでのテスト"
   ]
  },
  {
   "cell_type": "code",
   "execution_count": 24,
   "metadata": {
    "collapsed": true
   },
   "outputs": [],
   "source": [
    "def grad(itera, alpha, w, X, y):\n",
    "    X = np.insert(X , 0, 1, axis=1)\n",
    "    print(X)\n",
    "    m = len(y)\n",
    "    cost = np.zeros(m)\n",
    "    for i in range(itera):\n",
    "        cost[i] = (1/2*m)* np.sum(np.square(np.dot(X, w)-y))\n",
    "        w = w -alpha* (1/m)* np.dot(X.T, (np.dot(X, w)-y))\n",
    "    \n",
    "    return [cost, w]"
   ]
  },
  {
   "cell_type": "code",
   "execution_count": 25,
   "metadata": {},
   "outputs": [
    {
     "name": "stdout",
     "output_type": "stream",
     "text": [
      "[[1.         7.44424865 7.60240134]\n",
      " [1.         7.14045304 7.58882988]\n",
      " [1.         7.48773376 7.60140233]\n",
      " ...\n",
      " [1.         7.75790621 7.57095858]\n",
      " [1.         6.98286275 7.57558465]\n",
      " [1.         7.13568735 7.58324752]]\n"
     ]
    }
   ],
   "source": [
    "df = pd.read_csv('train.csv')\n",
    "X3 = df.loc[:, ['GrLivArea','YearBuilt']]\n",
    "y3 = df['SalePrice']\n",
    "X3 = X3.apply(np.log)\n",
    "y3 = y3.apply(np.log)\n",
    "X3 = X3.values\n",
    "y3 = y3.values\n",
    "\n",
    "\n",
    "alpha = 0.001\n",
    "itera = 1000\n",
    "\n",
    "init_theta = np.zeros(3).reshape(3,)\n",
    "\n",
    "cost , w = grad(itera, alpha, init_theta, X3, y3)"
   ]
  },
  {
   "cell_type": "code",
   "execution_count": 26,
   "metadata": {},
   "outputs": [
    {
     "data": {
      "image/png": "[encoded data removed]",
      "text/plain": [
       "<Figure size 432x288 with 1 Axes>"
      ]
     },
     "metadata": {},
     "output_type": "display_data"
    }
   ],
   "source": [
    "plt.plot(cost)\n",
    "plt.xlabel('Cost')\n",
    "plt.ylabel('Iteration')\n",
    "plt.show();"
   ]
  },
  {
   "cell_type": "code",
   "execution_count": null,
   "metadata": {
    "collapsed": true
   },
   "outputs": [],
   "source": []
  },
  {
   "cell_type": "code",
   "execution_count": null,
   "metadata": {
    "collapsed": true
   },
   "outputs": [],
   "source": []
  }
 ],
 "metadata": {
  "kernelspec": {
   "display_name": "Python 3",
   "language": "python",
   "name": "python3"
  },
  "language_info": {
   "codemirror_mode": {
    "name": "ipython",
    "version": 3
   },
   "file_extension": ".py",
   "mimetype": "text/x-python",
   "name": "python",
   "nbconvert_exporter": "python",
   "pygments_lexer": "ipython3",
   "version": "3.6.3"
  }
 },
 "nbformat": 4,
 "nbformat_minor": 2
}
